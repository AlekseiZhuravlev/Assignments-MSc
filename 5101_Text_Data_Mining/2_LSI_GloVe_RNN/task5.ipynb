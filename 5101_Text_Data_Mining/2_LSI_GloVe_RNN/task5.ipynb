{
 "cells": [
  {
   "cell_type": "code",
   "execution_count": 65,
   "metadata": {},
   "outputs": [
    {
     "data": {
      "text/plain": [
       "device(type='cuda')"
      ]
     },
     "execution_count": 65,
     "metadata": {},
     "output_type": "execute_result"
    }
   ],
   "source": [
    "import torch\n",
    "import torchtext\n",
    "from torchtext.data import get_tokenizer\n",
    "from torchtext.vocab import GloVe\n",
    "from torch.utils.data import Dataset, DataLoader\n",
    "from torch import nn\n",
    "from torch import tensor\n",
    "from torch.nn import functional as F\n",
    "from torchtext.data.functional import to_map_style_dataset\n",
    "from tqdm import tqdm\n",
    "from sklearn.metrics import accuracy_score\n",
    "import gc\n",
    "import numpy as np\n",
    "import pandas as pd\n",
    "import matplotlib.pyplot as plt\n",
    "import seaborn as sns\n",
    "from zipfile import ZipFile\n",
    "\n",
    "\n",
    "device = torch.device(\"cuda\" if torch.cuda.is_available() else \"cpu\")\n",
    "device"
   ]
  },
  {
   "attachments": {},
   "cell_type": "markdown",
   "metadata": {},
   "source": [
    "## 5.  Revisiting the SMS spam dataset (30 Pts. + 5 bonus Pts.)\n",
    "\n",
    "Remember the SMS spam detection pipeline we built last assignment?  Take your code from that exercise (or write it anew, up to you) and replace the tf-idf embedder with a GloVe embedder. Furthermore, swap the logistic regression with a multilayer perceptron. \n",
    "\n",
    "* Reading in the raw data (SMS spam dataset2introduced by Almeida et al. 2011)"
   ]
  },
  {
   "cell_type": "code",
   "execution_count": 66,
   "metadata": {},
   "outputs": [],
   "source": [
    "# download the dataset\n",
    "import requests\n",
    "res = requests.get('http://archive.ics.uci.edu/ml/machine-learning-databases/00228/smsspamcollection.zip')"
   ]
  },
  {
   "cell_type": "code",
   "execution_count": 67,
   "metadata": {},
   "outputs": [],
   "source": [
    "# write zip to temporary file (needed to unzip)\n",
    "with open('temp.zip', 'wb') as f:\n",
    "  f.write(res.content)\n",
    "\n",
    "# unzip the dataset\n",
    "with ZipFile('temp.zip') as myzip:\n",
    "  myzip.extractall()\n",
    "\n",
    "# create a pandas dataframe of the raw data\n",
    "df = pd.read_csv('SMSSpamCollection', sep='\\t', names=['label', 'text'])"
   ]
  },
  {
   "cell_type": "code",
   "execution_count": 68,
   "metadata": {},
   "outputs": [
    {
     "data": {
      "text/html": [
       "<div>\n",
       "<style scoped>\n",
       "    .dataframe tbody tr th:only-of-type {\n",
       "        vertical-align: middle;\n",
       "    }\n",
       "\n",
       "    .dataframe tbody tr th {\n",
       "        vertical-align: top;\n",
       "    }\n",
       "\n",
       "    .dataframe thead th {\n",
       "        text-align: right;\n",
       "    }\n",
       "</style>\n",
       "<table border=\"1\" class=\"dataframe\">\n",
       "  <thead>\n",
       "    <tr style=\"text-align: right;\">\n",
       "      <th></th>\n",
       "      <th>label</th>\n",
       "      <th>text</th>\n",
       "    </tr>\n",
       "  </thead>\n",
       "  <tbody>\n",
       "    <tr>\n",
       "      <th>0</th>\n",
       "      <td>ham</td>\n",
       "      <td>Go until jurong point, crazy.. Available only ...</td>\n",
       "    </tr>\n",
       "    <tr>\n",
       "      <th>1</th>\n",
       "      <td>ham</td>\n",
       "      <td>Ok lar... Joking wif u oni...</td>\n",
       "    </tr>\n",
       "    <tr>\n",
       "      <th>2</th>\n",
       "      <td>spam</td>\n",
       "      <td>Free entry in 2 a wkly comp to win FA Cup fina...</td>\n",
       "    </tr>\n",
       "    <tr>\n",
       "      <th>3</th>\n",
       "      <td>ham</td>\n",
       "      <td>U dun say so early hor... U c already then say...</td>\n",
       "    </tr>\n",
       "    <tr>\n",
       "      <th>4</th>\n",
       "      <td>ham</td>\n",
       "      <td>Nah I don't think he goes to usf, he lives aro...</td>\n",
       "    </tr>\n",
       "  </tbody>\n",
       "</table>\n",
       "</div>"
      ],
      "text/plain": [
       "  label                                               text\n",
       "0   ham  Go until jurong point, crazy.. Available only ...\n",
       "1   ham                      Ok lar... Joking wif u oni...\n",
       "2  spam  Free entry in 2 a wkly comp to win FA Cup fina...\n",
       "3   ham  U dun say so early hor... U c already then say...\n",
       "4   ham  Nah I don't think he goes to usf, he lives aro..."
      ]
     },
     "execution_count": 68,
     "metadata": {},
     "output_type": "execute_result"
    }
   ],
   "source": [
    "df.head()"
   ]
  },
  {
   "cell_type": "code",
   "execution_count": 69,
   "metadata": {},
   "outputs": [],
   "source": [
    "# convert labels to 0/1\n",
    "df['label'] = df['label'].map({'ham': 0, 'spam': 1})"
   ]
  },
  {
   "cell_type": "code",
   "execution_count": 70,
   "metadata": {},
   "outputs": [
    {
     "data": {
      "text/html": [
       "<div>\n",
       "<style scoped>\n",
       "    .dataframe tbody tr th:only-of-type {\n",
       "        vertical-align: middle;\n",
       "    }\n",
       "\n",
       "    .dataframe tbody tr th {\n",
       "        vertical-align: top;\n",
       "    }\n",
       "\n",
       "    .dataframe thead th {\n",
       "        text-align: right;\n",
       "    }\n",
       "</style>\n",
       "<table border=\"1\" class=\"dataframe\">\n",
       "  <thead>\n",
       "    <tr style=\"text-align: right;\">\n",
       "      <th></th>\n",
       "      <th>label</th>\n",
       "      <th>text</th>\n",
       "    </tr>\n",
       "  </thead>\n",
       "  <tbody>\n",
       "    <tr>\n",
       "      <th>0</th>\n",
       "      <td>0</td>\n",
       "      <td>Go until jurong point, crazy.. Available only ...</td>\n",
       "    </tr>\n",
       "    <tr>\n",
       "      <th>1</th>\n",
       "      <td>0</td>\n",
       "      <td>Ok lar... Joking wif u oni...</td>\n",
       "    </tr>\n",
       "    <tr>\n",
       "      <th>2</th>\n",
       "      <td>1</td>\n",
       "      <td>Free entry in 2 a wkly comp to win FA Cup fina...</td>\n",
       "    </tr>\n",
       "    <tr>\n",
       "      <th>3</th>\n",
       "      <td>0</td>\n",
       "      <td>U dun say so early hor... U c already then say...</td>\n",
       "    </tr>\n",
       "    <tr>\n",
       "      <th>4</th>\n",
       "      <td>0</td>\n",
       "      <td>Nah I don't think he goes to usf, he lives aro...</td>\n",
       "    </tr>\n",
       "  </tbody>\n",
       "</table>\n",
       "</div>"
      ],
      "text/plain": [
       "   label                                               text\n",
       "0      0  Go until jurong point, crazy.. Available only ...\n",
       "1      0                      Ok lar... Joking wif u oni...\n",
       "2      1  Free entry in 2 a wkly comp to win FA Cup fina...\n",
       "3      0  U dun say so early hor... U c already then say...\n",
       "4      0  Nah I don't think he goes to usf, he lives aro..."
      ]
     },
     "execution_count": 70,
     "metadata": {},
     "output_type": "execute_result"
    }
   ],
   "source": [
    "df.head()"
   ]
  },
  {
   "cell_type": "code",
   "execution_count": 71,
   "metadata": {},
   "outputs": [
    {
     "data": {
      "image/png": "[encoded data removed]",
      "text/plain": [
       "<Figure size 576x576 with 1 Axes>"
      ]
     },
     "metadata": {
      "needs_background": "light"
     },
     "output_type": "display_data"
    }
   ],
   "source": [
    "plt.figure(figsize=(8,8))\n",
    "g = sns.countplot(x='label', data=df)\n",
    "p = plt.title('Imbalanced dataset')\n",
    "p = plt.xlabel('Is SMS Spam?')\n",
    "p = plt.ylabel('Count')"
   ]
  },
  {
   "attachments": {},
   "cell_type": "markdown",
   "metadata": {},
   "source": [
    "* Randomly splitting the dataset into training (80% of the data) and test (20% of the data)."
   ]
  },
  {
   "cell_type": "code",
   "execution_count": 72,
   "metadata": {},
   "outputs": [],
   "source": [
    "# split the dataset into train and test with train_test_split from sklearn\n",
    "from sklearn.model_selection import train_test_split\n",
    "X_train, X_test, y_train, y_test = train_test_split(df['text'].values, df['label'].values, train_size=0.8, test_size=0.2, random_state=42)"
   ]
  },
  {
   "cell_type": "code",
   "execution_count": 73,
   "metadata": {},
   "outputs": [
    {
     "name": "stdout",
     "output_type": "stream",
     "text": [
      "Reply to win £100 weekly! Where will the 2006 FIFA World Cup be held? Send STOP to 87239 to end service 1\n",
      "Hello. Sort of out in town already. That . So dont rush home, I am eating nachos. Will let you know eta. 0\n",
      "How come guoyang go n tell her? Then u told her? 0\n",
      "Hey sathya till now we dint meet not even a single time then how can i saw the situation sathya. 0\n",
      "Orange brings you ringtones from all time Chart Heroes, with a free hit each week! Go to Ringtones & Pics on wap. To stop receiving these tips reply STOP. 1\n"
     ]
    }
   ],
   "source": [
    "# let's \n",
    "for i in range(5):\n",
    "  print(X_train[i], y_train[i])"
   ]
  },
  {
   "cell_type": "code",
   "execution_count": 20,
   "metadata": {},
   "outputs": [],
   "source": [
    "class CustomTextDataset(Dataset):\n",
    "    def __init__(self, txt, labels):\n",
    "        self.labels = labels\n",
    "        self.text = txt\n",
    "    def __len__(self):\n",
    "        return len(self.labels)\n",
    "    def __getitem__(self, idx):\n",
    "        label = self.labels[idx]\n",
    "        text = self.text[idx]\n",
    "        sample = (text, label)\n",
    "        return sample"
   ]
  },
  {
   "cell_type": "code",
   "execution_count": 21,
   "metadata": {},
   "outputs": [],
   "source": [
    "y_train = y_train.astype(int)\n",
    "y_test = y_test.astype(int)\n",
    "\n"
   ]
  },
  {
   "cell_type": "code",
   "execution_count": 22,
   "metadata": {},
   "outputs": [],
   "source": [
    "train_dataset = CustomTextDataset(X_train, y_train)\n",
    "test_dataset = CustomTextDataset(X_test, y_test)"
   ]
  },
  {
   "attachments": {},
   "cell_type": "markdown",
   "metadata": {},
   "source": [
    "* Encoding your textual data using aGloVeencoder. To that end use one of the following methodswe discussed during the lecture"
   ]
  },
  {
   "cell_type": "code",
   "execution_count": 49,
   "metadata": {},
   "outputs": [],
   "source": [
    "# create a GloVe object with 300 dimensions embedding\n",
    "embed_len = 300\n",
    "global_vectors = GloVe(name='840B', dim=embed_len)"
   ]
  },
  {
   "attachments": {},
   "cell_type": "markdown",
   "metadata": {},
   "source": [
    "(a) Mean-pooling: Represents each sentence by the mean of the word embeddings.\n",
    "\n",
    "(b) Randomized Elman Networks: Represents each sentence by the final hidden state evaluated\n",
    "considering the Randomized Sentence Embeddings algorithm <br> (note that you have to adjust the spectral radius of the weight matrix corresponding to the hidden state – <br> see the lecture slides for more information). Using this approach correctly earns you5 bonus points."
   ]
  },
  {
   "cell_type": "code",
   "execution_count": 50,
   "metadata": {},
   "outputs": [],
   "source": [
    "# tokenizer will split the text into tokens and convert them to lowercase (kind of preprocessing)\n",
    "tokenizer = get_tokenizer(\"basic_english\")\n",
    "\n",
    "# (a)\n",
    "def vectorize_batch(batch):\n",
    "    \n",
    "    X, Y = list(zip(*batch))  \n",
    "    X = [tokenizer(x) for x in X]\n",
    "    X_tensor = torch.zeros(len(batch), embed_len)\n",
    "    for i, tokens in enumerate(X):\n",
    "        tokens_tensor = torch.zeros(embed_len)\n",
    "        for j, token in enumerate(tokens):\n",
    "            tokens_tensor += global_vectors.get_vecs_by_tokens(token)\n",
    "        # calculate mean of all tokens\n",
    "        tokens_tensor = tokens_tensor / len(tokens)\n",
    "        X_tensor[i] = tokens_tensor\n",
    "        \n",
    "    return X_tensor, torch.tensor(Y) \n",
    "\n",
    "\n",
    "# ---------------------------------------- BONUS ---------------------------------------- #\n",
    "#(b) but the solution for the bonus task dosen't work ;(\n",
    "def randomized_sentence_embedding(batch_S, embedding, g):\n",
    "\n",
    "    # randomly initialize A (R^g x R^n) and B (R^g x R^g)\n",
    "    A = torch.rand(g, len(batch_S))\n",
    "    B = torch.rand(g, g)\n",
    "    # W = {}\n",
    "    W = torch.zeros(len(batch_S), g)\n",
    "    #for each element S_i = {word1;word2,....,word_T_i} of ¯S do\n",
    "    for i, S_i in enumerate(batch_S):\n",
    "        # //intialize the hidden state for the first step\n",
    "        h_t = 0\n",
    "        #h_t = torch.zeros(g,1)\n",
    "        # //for each word_j in S_i do\n",
    "        for word_j in S_i:\n",
    "            # //obtain the previously trained word embeddings for wordj\n",
    "            w_j = embedding(word_j).view(-1, 1)\n",
    "            # //evaluate the dynamical systems equation for Elman networks\n",
    "            h_t = torch.tanh(torch.matmul(B, h_t) + torch.matmul(A, w_j)) # let's try with tanh /// something is wrong with the dimensions\n",
    "        # //set the last hidden state as the embedding of the sentence Si\n",
    "\n",
    "        W[i] = h_t\n",
    "\n",
    "    return W\n",
    "\n",
    "def vectorize_batch_bonus(batch):\n",
    "    \n",
    "    X, Y = list(zip(*batch))  \n",
    "    X = [tokenizer(x) for x in X]\n",
    "    W = randomized_sentence_embedding(X, embedding=global_vectors.get_vecs_by_tokens, g=300)\n",
    "        \n",
    "    return W, torch.tensor(Y) \n",
    "# ---------------------------------------- BONUS ---------------------------------------- #"
   ]
  },
  {
   "cell_type": "code",
   "execution_count": 51,
   "metadata": {},
   "outputs": [],
   "source": [
    "train_loader = DataLoader(train_dataset, batch_size=128, collate_fn=vectorize_batch)\n",
    "test_loader = DataLoader(test_dataset, batch_size=128, collate_fn=vectorize_batch)"
   ]
  },
  {
   "attachments": {},
   "cell_type": "markdown",
   "metadata": {},
   "source": [
    "* Training a multilayer perceptron3model on predicting whether the input is spam or ham using only your training set"
   ]
  },
  {
   "cell_type": "code",
   "execution_count": 52,
   "metadata": {},
   "outputs": [],
   "source": [
    "class SpamClassifier(nn.Module):\n",
    "    def __init__(self):\n",
    "        super().__init__()\n",
    "        self.classifier = nn.Sequential(\n",
    "            nn.Linear(embed_len, 256),\n",
    "            nn.ReLU(),\n",
    "\n",
    "            nn.Linear(256,128),\n",
    "            nn.ReLU(),\n",
    "\n",
    "            nn.Linear(128,64),\n",
    "            nn.ReLU(),\n",
    "\n",
    "            nn.Linear(64, 2),\n",
    "        )\n",
    "\n",
    "    def forward(self, X_batch):\n",
    "        return self.classifier(X_batch)"
   ]
  },
  {
   "cell_type": "code",
   "execution_count": 53,
   "metadata": {},
   "outputs": [],
   "source": [
    "from tqdm import tqdm\n",
    "from sklearn.metrics import accuracy_score\n",
    "\n",
    "def CalcValLossAndAccuracy(model, loss_fn, val_loader):\n",
    "    with torch.no_grad():\n",
    "        Y_shuffled, Y_preds, losses = [],[],[]\n",
    "        for X, Y in val_loader:\n",
    "            X = X.to(device)\n",
    "            Y = Y.type(torch.LongTensor)\n",
    "            Y = Y.to(device)\n",
    "            preds = model(X)\n",
    "            loss = loss_fn(preds, Y)\n",
    "            losses.append(loss.item())\n",
    "\n",
    "            Y_shuffled.append(Y)\n",
    "            Y_preds.append(preds.argmax(dim=-1))\n",
    "\n",
    "        Y_shuffled = torch.cat(Y_shuffled)\n",
    "        Y_preds = torch.cat(Y_preds)\n",
    "        val_loss = torch.tensor(losses).mean()\n",
    "        val_acc = accuracy_score(Y_shuffled.detach().cpu(), Y_preds.detach().cpu())\n",
    "        print(\"Valid Loss : {:.3f}\".format(val_loss))\n",
    "        print(\"Valid Acc  : {:.3f}\".format(val_acc))\n",
    "        return val_loss, val_acc\n",
    "\n",
    "def TrainModel(model, loss_fn, optimizer, train_loader, val_loader, device, epochs=10):\n",
    "    train_loss = []\n",
    "    val_loss = []\n",
    "    val_acc = []\n",
    "    for i in range(1, epochs+1):\n",
    "        losses = []\n",
    "        \n",
    "        for X, Y in tqdm(train_loader):\n",
    "            X = X.to(device)\n",
    "            Y = Y.type(torch.LongTensor)\n",
    "            Y = Y.to(device)\n",
    "            Y_preds = model(X)\n",
    "\n",
    "            loss = loss_fn(Y_preds, Y)\n",
    "            losses.append(loss.item())\n",
    "\n",
    "            optimizer.zero_grad()\n",
    "            loss.backward()\n",
    "            optimizer.step()\n",
    "        train_loss_e = torch.tensor(losses).mean()\n",
    "        train_loss.append(train_loss_e)\n",
    "\n",
    "        print(\"Train Loss : {:.3f}\".format(train_loss_e))\n",
    "        val_loss_e, val_acc_e = CalcValLossAndAccuracy(model, loss_fn, val_loader)\n",
    "        val_loss.append(val_loss_e)\n",
    "        val_acc.append(val_acc_e)\n",
    "        \n",
    "\n",
    "    return train_loss, val_loss, val_acc\n",
    "            "
   ]
  },
  {
   "attachments": {},
   "cell_type": "markdown",
   "metadata": {},
   "source": [
    "* Predicting on your hold-out test set and reporting your achieved accuracy"
   ]
  },
  {
   "cell_type": "code",
   "execution_count": 54,
   "metadata": {},
   "outputs": [
    {
     "name": "stderr",
     "output_type": "stream",
     "text": [
      "100%|██████████| 35/35 [00:02<00:00, 12.14it/s]\n"
     ]
    },
    {
     "name": "stdout",
     "output_type": "stream",
     "text": [
      "Train Loss : 0.464\n",
      "Valid Loss : 0.293\n",
      "Valid Acc  : 0.866\n"
     ]
    },
    {
     "name": "stderr",
     "output_type": "stream",
     "text": [
      "100%|██████████| 35/35 [00:02<00:00, 12.86it/s]\n"
     ]
    },
    {
     "name": "stdout",
     "output_type": "stream",
     "text": [
      "Train Loss : 0.224\n",
      "Valid Loss : 0.168\n",
      "Valid Acc  : 0.936\n"
     ]
    },
    {
     "name": "stderr",
     "output_type": "stream",
     "text": [
      "100%|██████████| 35/35 [00:02<00:00, 12.73it/s]\n"
     ]
    },
    {
     "name": "stdout",
     "output_type": "stream",
     "text": [
      "Train Loss : 0.141\n",
      "Valid Loss : 0.105\n",
      "Valid Acc  : 0.966\n"
     ]
    },
    {
     "name": "stderr",
     "output_type": "stream",
     "text": [
      "100%|██████████| 35/35 [00:02<00:00, 12.41it/s]\n"
     ]
    },
    {
     "name": "stdout",
     "output_type": "stream",
     "text": [
      "Train Loss : 0.084\n",
      "Valid Loss : 0.073\n",
      "Valid Acc  : 0.978\n"
     ]
    },
    {
     "name": "stderr",
     "output_type": "stream",
     "text": [
      "100%|██████████| 35/35 [00:02<00:00, 12.48it/s]\n"
     ]
    },
    {
     "name": "stdout",
     "output_type": "stream",
     "text": [
      "Train Loss : 0.060\n",
      "Valid Loss : 0.062\n",
      "Valid Acc  : 0.979\n"
     ]
    },
    {
     "name": "stderr",
     "output_type": "stream",
     "text": [
      "100%|██████████| 35/35 [00:02<00:00, 12.11it/s]\n"
     ]
    },
    {
     "name": "stdout",
     "output_type": "stream",
     "text": [
      "Train Loss : 0.045\n",
      "Valid Loss : 0.058\n",
      "Valid Acc  : 0.978\n"
     ]
    },
    {
     "name": "stderr",
     "output_type": "stream",
     "text": [
      "100%|██████████| 35/35 [00:02<00:00, 12.68it/s]\n"
     ]
    },
    {
     "name": "stdout",
     "output_type": "stream",
     "text": [
      "Train Loss : 0.036\n",
      "Valid Loss : 0.058\n",
      "Valid Acc  : 0.979\n"
     ]
    },
    {
     "name": "stderr",
     "output_type": "stream",
     "text": [
      "100%|██████████| 35/35 [00:02<00:00, 12.20it/s]\n"
     ]
    },
    {
     "name": "stdout",
     "output_type": "stream",
     "text": [
      "Train Loss : 0.029\n",
      "Valid Loss : 0.055\n",
      "Valid Acc  : 0.982\n"
     ]
    },
    {
     "name": "stderr",
     "output_type": "stream",
     "text": [
      "100%|██████████| 35/35 [00:02<00:00, 12.85it/s]\n"
     ]
    },
    {
     "name": "stdout",
     "output_type": "stream",
     "text": [
      "Train Loss : 0.022\n",
      "Valid Loss : 0.056\n",
      "Valid Acc  : 0.985\n"
     ]
    },
    {
     "name": "stderr",
     "output_type": "stream",
     "text": [
      "100%|██████████| 35/35 [00:02<00:00, 12.66it/s]\n"
     ]
    },
    {
     "name": "stdout",
     "output_type": "stream",
     "text": [
      "Train Loss : 0.018\n",
      "Valid Loss : 0.059\n",
      "Valid Acc  : 0.986\n"
     ]
    }
   ],
   "source": [
    "# We will evaluate our model on the test set after each epoch, so we can see how it improves over time\n",
    "from torch.optim import Adam\n",
    "\n",
    "epochs = 10\n",
    "learning_rate = 7e-4\n",
    "\n",
    "loss_fn = nn.CrossEntropyLoss()\n",
    "embed_classifier = SpamClassifier().to(device)\n",
    "optimizer = Adam(embed_classifier.parameters(), lr=learning_rate)\n",
    "\n",
    "train_loss, val_loss, val_acc = TrainModel(embed_classifier, loss_fn, optimizer, train_loader, test_loader, device=device, epochs=epochs)"
   ]
  },
  {
   "cell_type": "code",
   "execution_count": 62,
   "metadata": {},
   "outputs": [],
   "source": [
    "def plot_train_n_eval_metric(train_list, eval_list, mode: str=\"Loss\"):\n",
    "    assert len(train_list) == len(eval_list)\n",
    "    x = np.arange(0, len(train_list))\n",
    "    # plot training and validation loss/accuracy \n",
    "    plt.plot(x, train_list, label = f\"Training {mode}\")\n",
    "    plt.plot(x, eval_list, label = f\"Test {mode}\")\n",
    "\n",
    "    plt.legend()\n",
    "    plt.show()\n",
    "\n",
    "def plot_accuracy(val_acc_list):\n",
    "    x = np.arange(0, len(val_acc_list))\n",
    "    plt.plot(x, val_acc_list, label = f\"Test Accuracy\")\n",
    "    plt.legend()\n",
    "    plt.show()"
   ]
  },
  {
   "cell_type": "code",
   "execution_count": 63,
   "metadata": {},
   "outputs": [
    {
     "data": {
      "image/png": "[encoded data removed]",
      "text/plain": [
       "<Figure size 432x288 with 1 Axes>"
      ]
     },
     "metadata": {
      "needs_background": "light"
     },
     "output_type": "display_data"
    }
   ],
   "source": [
    "plot_train_n_eval_metric(train_loss, val_loss, mode=\"Loss\")"
   ]
  },
  {
   "cell_type": "code",
   "execution_count": 64,
   "metadata": {},
   "outputs": [
    {
     "data": {
      "image/png": "[encoded data removed]",
      "text/plain": [
       "<Figure size 432x288 with 1 Axes>"
      ]
     },
     "metadata": {
      "needs_background": "light"
     },
     "output_type": "display_data"
    }
   ],
   "source": [
    "plot_accuracy(val_acc)"
   ]
  },
  {
   "attachments": {},
   "cell_type": "markdown",
   "metadata": {},
   "source": [
    "* Compare your results to your results from the previous assignment (a tf-idf encoder with either a logistic regression or a k-nearest neighbour search with at least k=3 neighbours)."
   ]
  },
  {
   "attachments": {},
   "cell_type": "markdown",
   "metadata": {},
   "source": [
    "Our result to the previous assignment:\n",
    "+ Linear regression: test accuracy = 95%\n",
    "+ K-Nearest neighbors (k=3): test accuracy = 92%\n",
    "\n",
    "* The current results of MLP with GloVe (mean pooling): test accuracy = 98.6%\n",
    "\n",
    "So MLP with GloVe performs better than any of methods from the previous assignment\n",
    "       "
   ]
  }
 ],
 "metadata": {
  "kernelspec": {
   "display_name": "textMng",
   "language": "python",
   "name": "python3"
  },
  "language_info": {
   "codemirror_mode": {
    "name": "ipython",
    "version": 3
   },
   "file_extension": ".py",
   "mimetype": "text/x-python",
   "name": "python",
   "nbconvert_exporter": "python",
   "pygments_lexer": "ipython3",
   "version": "3.8.12"
  },
  "orig_nbformat": 4,
  "vscode": {
   "interpreter": {
    "hash": "e3877805f60f733a48704292cdce2911c30a146526f8576836f8031dcc1bd2fc"
   }
  }
 },
 "nbformat": 4,
 "nbformat_minor": 2
}
