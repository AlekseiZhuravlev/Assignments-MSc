{
  "nbformat": 4,
  "nbformat_minor": 0,
  "metadata": {
    "colab": {
      "provenance": []
    },
    "kernelspec": {
      "name": "python3",
      "display_name": "Python 3"
    },
    "language_info": {
      "name": "python"
    }
  },
  "cells": [
    {
      "cell_type": "code",
      "execution_count": 1,
      "metadata": {
        "id": "3g_sn7BMUOhe"
      },
      "outputs": [],
      "source": [
        "import requests, sklearn, numpy as np, json, pandas as pd\n",
        "from tensorflow.keras.layers import TextVectorization\n",
        "import tensorflow as tf"
      ]
    },
    {
      "cell_type": "code",
      "source": [
        "def get_dataset(split):\n",
        "  \"\"\"\n",
        "  split: 'train', 'test', 'validation'\n",
        "  \"\"\"\n",
        "  res = requests.get(f\"https://datasets-server.huggingface.co/first-rows?dataset=conll2003&config=conll2003&split={split}\")\n",
        "  data_raw = res.content.decode(\"utf-8\") \n",
        "  data = json.loads(data_raw)\n",
        "  rows = [row['row'] for row in data['rows']]\n",
        "  df = pd.DataFrame(rows)\n",
        "  return df"
      ],
      "metadata": {
        "id": "rptyjTbOUU9j"
      },
      "execution_count": 2,
      "outputs": []
    },
    {
      "cell_type": "code",
      "source": [
        "# getting train/test datasets\n",
        "\n",
        "df_train = get_dataset('train')\n",
        "df_validation = get_dataset('validation')\n",
        "df_test = get_dataset('test')\n",
        "\n",
        "df_train.head(5)"
      ],
      "metadata": {
        "colab": {
          "base_uri": "https://localhost:8080/",
          "height": 285
        },
        "id": "8WgbKurrUcpo",
        "outputId": "686a0a23-9a15-47db-92f2-dd6903788d1d"
      },
      "execution_count": 3,
      "outputs": [
        {
          "output_type": "execute_result",
          "data": {
            "text/plain": [
              "  id                                             tokens  \\\n",
              "0  0  [EU, rejects, German, call, to, boycott, Briti...   \n",
              "1  1                                 [Peter, Blackburn]   \n",
              "2  2                             [BRUSSELS, 1996-08-22]   \n",
              "3  3  [The, European, Commission, said, on, Thursday...   \n",
              "4  4  [Germany, 's, representative, to, the, Europea...   \n",
              "\n",
              "                                            pos_tags  \\\n",
              "0                [22, 42, 16, 21, 35, 37, 16, 21, 7]   \n",
              "1                                           [22, 22]   \n",
              "2                                           [22, 11]   \n",
              "3  [12, 22, 22, 38, 15, 22, 28, 38, 15, 16, 21, 3...   \n",
              "4  [22, 27, 21, 35, 12, 22, 22, 27, 16, 21, 22, 2...   \n",
              "\n",
              "                                          chunk_tags  \\\n",
              "0                [11, 21, 11, 12, 21, 22, 11, 12, 0]   \n",
              "1                                           [11, 12]   \n",
              "2                                           [11, 12]   \n",
              "3  [11, 12, 12, 21, 13, 11, 11, 21, 13, 11, 12, 1...   \n",
              "4  [11, 11, 12, 13, 11, 12, 12, 11, 12, 12, 12, 1...   \n",
              "\n",
              "                                            ner_tags  \n",
              "0                        [3, 0, 7, 0, 0, 0, 7, 0, 0]  \n",
              "1                                             [1, 2]  \n",
              "2                                             [5, 0]  \n",
              "3  [0, 3, 4, 0, 0, 0, 0, 0, 0, 7, 0, 0, 0, 0, 0, ...  \n",
              "4  [5, 0, 0, 0, 0, 3, 4, 0, 0, 0, 1, 2, 0, 0, 0, ...  "
            ],
            "text/html": [
              "\n",
              "  <div id=\"df-078e13dd-3c20-4cb6-9836-12e7a58217cd\">\n",
              "    <div class=\"colab-df-container\">\n",
              "      <div>\n",
              "<style scoped>\n",
              "    .dataframe tbody tr th:only-of-type {\n",
              "        vertical-align: middle;\n",
              "    }\n",
              "\n",
              "    .dataframe tbody tr th {\n",
              "        vertical-align: top;\n",
              "    }\n",
              "\n",
              "    .dataframe thead th {\n",
              "        text-align: right;\n",
              "    }\n",
              "</style>\n",
              "<table border=\"1\" class=\"dataframe\">\n",
              "  <thead>\n",
              "    <tr style=\"text-align: right;\">\n",
              "      <th></th>\n",
              "      <th>id</th>\n",
              "      <th>tokens</th>\n",
              "      <th>pos_tags</th>\n",
              "      <th>chunk_tags</th>\n",
              "      <th>ner_tags</th>\n",
              "    </tr>\n",
              "  </thead>\n",
              "  <tbody>\n",
              "    <tr>\n",
              "      <th>0</th>\n",
              "      <td>0</td>\n",
              "      <td>[EU, rejects, German, call, to, boycott, Briti...</td>\n",
              "      <td>[22, 42, 16, 21, 35, 37, 16, 21, 7]</td>\n",
              "      <td>[11, 21, 11, 12, 21, 22, 11, 12, 0]</td>\n",
              "      <td>[3, 0, 7, 0, 0, 0, 7, 0, 0]</td>\n",
              "    </tr>\n",
              "    <tr>\n",
              "      <th>1</th>\n",
              "      <td>1</td>\n",
              "      <td>[Peter, Blackburn]</td>\n",
              "      <td>[22, 22]</td>\n",
              "      <td>[11, 12]</td>\n",
              "      <td>[1, 2]</td>\n",
              "    </tr>\n",
              "    <tr>\n",
              "      <th>2</th>\n",
              "      <td>2</td>\n",
              "      <td>[BRUSSELS, 1996-08-22]</td>\n",
              "      <td>[22, 11]</td>\n",
              "      <td>[11, 12]</td>\n",
              "      <td>[5, 0]</td>\n",
              "    </tr>\n",
              "    <tr>\n",
              "      <th>3</th>\n",
              "      <td>3</td>\n",
              "      <td>[The, European, Commission, said, on, Thursday...</td>\n",
              "      <td>[12, 22, 22, 38, 15, 22, 28, 38, 15, 16, 21, 3...</td>\n",
              "      <td>[11, 12, 12, 21, 13, 11, 11, 21, 13, 11, 12, 1...</td>\n",
              "      <td>[0, 3, 4, 0, 0, 0, 0, 0, 0, 7, 0, 0, 0, 0, 0, ...</td>\n",
              "    </tr>\n",
              "    <tr>\n",
              "      <th>4</th>\n",
              "      <td>4</td>\n",
              "      <td>[Germany, 's, representative, to, the, Europea...</td>\n",
              "      <td>[22, 27, 21, 35, 12, 22, 22, 27, 16, 21, 22, 2...</td>\n",
              "      <td>[11, 11, 12, 13, 11, 12, 12, 11, 12, 12, 12, 1...</td>\n",
              "      <td>[5, 0, 0, 0, 0, 3, 4, 0, 0, 0, 1, 2, 0, 0, 0, ...</td>\n",
              "    </tr>\n",
              "  </tbody>\n",
              "</table>\n",
              "</div>\n",
              "      <button class=\"colab-df-convert\" onclick=\"convertToInteractive('df-078e13dd-3c20-4cb6-9836-12e7a58217cd')\"\n",
              "              title=\"Convert this dataframe to an interactive table.\"\n",
              "              style=\"display:none;\">\n",
              "        \n",
              "  <svg xmlns=\"http://www.w3.org/2000/svg\" height=\"24px\"viewBox=\"0 0 24 24\"\n",
              "       width=\"24px\">\n",
              "    <path d=\"M0 0h24v24H0V0z\" fill=\"none\"/>\n",
              "    <path d=\"M18.56 5.44l.94 2.06.94-2.06 2.06-.94-2.06-.94-.94-2.06-.94 2.06-2.06.94zm-11 1L8.5 8.5l.94-2.06 2.06-.94-2.06-.94L8.5 2.5l-.94 2.06-2.06.94zm10 10l.94 2.06.94-2.06 2.06-.94-2.06-.94-.94-2.06-.94 2.06-2.06.94z\"/><path d=\"M17.41 7.96l-1.37-1.37c-.4-.4-.92-.59-1.43-.59-.52 0-1.04.2-1.43.59L10.3 9.45l-7.72 7.72c-.78.78-.78 2.05 0 2.83L4 21.41c.39.39.9.59 1.41.59.51 0 1.02-.2 1.41-.59l7.78-7.78 2.81-2.81c.8-.78.8-2.07 0-2.86zM5.41 20L4 18.59l7.72-7.72 1.47 1.35L5.41 20z\"/>\n",
              "  </svg>\n",
              "      </button>\n",
              "      \n",
              "  <style>\n",
              "    .colab-df-container {\n",
              "      display:flex;\n",
              "      flex-wrap:wrap;\n",
              "      gap: 12px;\n",
              "    }\n",
              "\n",
              "    .colab-df-convert {\n",
              "      background-color: #E8F0FE;\n",
              "      border: none;\n",
              "      border-radius: 50%;\n",
              "      cursor: pointer;\n",
              "      display: none;\n",
              "      fill: #1967D2;\n",
              "      height: 32px;\n",
              "      padding: 0 0 0 0;\n",
              "      width: 32px;\n",
              "    }\n",
              "\n",
              "    .colab-df-convert:hover {\n",
              "      background-color: #E2EBFA;\n",
              "      box-shadow: 0px 1px 2px rgba(60, 64, 67, 0.3), 0px 1px 3px 1px rgba(60, 64, 67, 0.15);\n",
              "      fill: #174EA6;\n",
              "    }\n",
              "\n",
              "    [theme=dark] .colab-df-convert {\n",
              "      background-color: #3B4455;\n",
              "      fill: #D2E3FC;\n",
              "    }\n",
              "\n",
              "    [theme=dark] .colab-df-convert:hover {\n",
              "      background-color: #434B5C;\n",
              "      box-shadow: 0px 1px 3px 1px rgba(0, 0, 0, 0.15);\n",
              "      filter: drop-shadow(0px 1px 2px rgba(0, 0, 0, 0.3));\n",
              "      fill: #FFFFFF;\n",
              "    }\n",
              "  </style>\n",
              "\n",
              "      <script>\n",
              "        const buttonEl =\n",
              "          document.querySelector('#df-078e13dd-3c20-4cb6-9836-12e7a58217cd button.colab-df-convert');\n",
              "        buttonEl.style.display =\n",
              "          google.colab.kernel.accessAllowed ? 'block' : 'none';\n",
              "\n",
              "        async function convertToInteractive(key) {\n",
              "          const element = document.querySelector('#df-078e13dd-3c20-4cb6-9836-12e7a58217cd');\n",
              "          const dataTable =\n",
              "            await google.colab.kernel.invokeFunction('convertToInteractive',\n",
              "                                                     [key], {});\n",
              "          if (!dataTable) return;\n",
              "\n",
              "          const docLinkHtml = 'Like what you see? Visit the ' +\n",
              "            '<a target=\"_blank\" href=https://colab.research.google.com/notebooks/data_table.ipynb>data table notebook</a>'\n",
              "            + ' to learn more about interactive tables.';\n",
              "          element.innerHTML = '';\n",
              "          dataTable['output_type'] = 'display_data';\n",
              "          await google.colab.output.renderOutput(dataTable, element);\n",
              "          const docLink = document.createElement('div');\n",
              "          docLink.innerHTML = docLinkHtml;\n",
              "          element.appendChild(docLink);\n",
              "        }\n",
              "      </script>\n",
              "    </div>\n",
              "  </div>\n",
              "  "
            ]
          },
          "metadata": {},
          "execution_count": 3
        }
      ]
    },
    {
      "cell_type": "code",
      "source": [
        "# converting list of sentences into one long sequence of words\n",
        "\n",
        "def flatten(l):\n",
        "    return np.asarray([item for sublist in l for item in sublist])\n",
        "\n",
        "def lowercase(l):\n",
        "    return np.asarray([word.lower() for word in l])\n",
        "\n",
        "def make_X_y(df):\n",
        "  X_sentences = df['tokens'].to_numpy()\n",
        "  y_sentences = df['ner_tags'].to_numpy()\n",
        "  \n",
        "  # X = np.asarray([np.asarray(i) for i in X_sentences])\n",
        "  X = lowercase(flatten(X_sentences))\n",
        "  y = flatten(y_sentences)\n",
        "  y = tf.one_hot(y, 9)\n",
        "\n",
        "  return X, y\n",
        "\n",
        "X_train, y_train = make_X_y(df_train)\n",
        "X_val, y_val = make_X_y(df_validation)\n",
        "X_test, y_test = make_X_y(df_test)\n",
        "\n",
        "X_full = np.concatenate([X_train, X_val, X_test])\n",
        "\n",
        "print(X_train[:5])\n",
        "print(y_train[:5])"
      ],
      "metadata": {
        "colab": {
          "base_uri": "https://localhost:8080/",
          "height": 0
        },
        "id": "WcH58MYI612s",
        "outputId": "52f24dc4-ddef-4d96-bb7d-84fadcb70771"
      },
      "execution_count": 4,
      "outputs": [
        {
          "output_type": "stream",
          "name": "stdout",
          "text": [
            "['eu' 'rejects' 'german' 'call' 'to']\n",
            "tf.Tensor(\n",
            "[[0. 0. 0. 1. 0. 0. 0. 0. 0.]\n",
            " [1. 0. 0. 0. 0. 0. 0. 0. 0.]\n",
            " [0. 0. 0. 0. 0. 0. 0. 1. 0.]\n",
            " [1. 0. 0. 0. 0. 0. 0. 0. 0.]\n",
            " [1. 0. 0. 0. 0. 0. 0. 0. 0.]], shape=(5, 9), dtype=float32)\n"
          ]
        }
      ]
    },
    {
      "cell_type": "code",
      "source": [
        "# downloading glove\n",
        "\n",
        "!wget http://nlp.stanford.edu/data/glove.6B.zip\n",
        "!unzip -q glove.6B.zip"
      ],
      "metadata": {
        "colab": {
          "base_uri": "https://localhost:8080/",
          "height": 0
        },
        "id": "mr_2zJ9384Jh",
        "outputId": "26adfe4e-1e74-4532-e16f-b5f6ac334230"
      },
      "execution_count": 5,
      "outputs": [
        {
          "output_type": "stream",
          "name": "stdout",
          "text": [
            "--2022-12-15 08:58:51--  http://nlp.stanford.edu/data/glove.6B.zip\n",
            "Resolving nlp.stanford.edu (nlp.stanford.edu)... 171.64.67.140\n",
            "Connecting to nlp.stanford.edu (nlp.stanford.edu)|171.64.67.140|:80... connected.\n",
            "HTTP request sent, awaiting response... 302 Found\n",
            "Location: https://nlp.stanford.edu/data/glove.6B.zip [following]\n",
            "--2022-12-15 08:58:51--  https://nlp.stanford.edu/data/glove.6B.zip\n",
            "Connecting to nlp.stanford.edu (nlp.stanford.edu)|171.64.67.140|:443... connected.\n",
            "HTTP request sent, awaiting response... 301 Moved Permanently\n",
            "Location: https://downloads.cs.stanford.edu/nlp/data/glove.6B.zip [following]\n",
            "--2022-12-15 08:58:51--  https://downloads.cs.stanford.edu/nlp/data/glove.6B.zip\n",
            "Resolving downloads.cs.stanford.edu (downloads.cs.stanford.edu)... 171.64.64.22\n",
            "Connecting to downloads.cs.stanford.edu (downloads.cs.stanford.edu)|171.64.64.22|:443... connected.\n",
            "HTTP request sent, awaiting response... 200 OK\n",
            "Length: 862182613 (822M) [application/zip]\n",
            "Saving to: ‘glove.6B.zip.1’\n",
            "\n",
            "glove.6B.zip.1       10%[=>                  ]  84.32M  4.98MB/s    eta 1m 50s ^C\n",
            "replace glove.6B.50d.txt? [y]es, [n]o, [A]ll, [N]one, [r]ename: "
          ]
        }
      ]
    },
    {
      "cell_type": "code",
      "source": [
        "!ls"
      ],
      "metadata": {
        "colab": {
          "base_uri": "https://localhost:8080/",
          "height": 0
        },
        "id": "XNAs3NTNoNES",
        "outputId": "b1c5a7ae-bc47-4b96-ea5b-9404d37d01da"
      },
      "execution_count": 6,
      "outputs": [
        {
          "output_type": "stream",
          "name": "stdout",
          "text": [
            "glove.6B.100d.txt  glove.6B.300d.txt  glove.6B.zip    sample_data\n",
            "glove.6B.200d.txt  glove.6B.50d.txt   glove.6B.zip.1\n"
          ]
        }
      ]
    },
    {
      "cell_type": "code",
      "source": [
        "# make a dict mapping words (strings) to their NumPy vector representation\n",
        "\n",
        "path_to_glove_file = \"glove.6B.100d.txt\"\n",
        "\n",
        "embeddings_index = {}\n",
        "with open(path_to_glove_file) as f:\n",
        "    for line in f:\n",
        "        word, coefs = line.split(maxsplit=1)\n",
        "        coefs = np.fromstring(coefs, \"f\", sep=\" \")\n",
        "        embeddings_index[word] = coefs\n",
        "\n",
        "print(\"Found %s word vectors.\" % len(embeddings_index))"
      ],
      "metadata": {
        "colab": {
          "base_uri": "https://localhost:8080/",
          "height": 0
        },
        "id": "VUrR1k7JnLHi",
        "outputId": "84dd48c6-c0c5-4fd5-f7c5-fc59ca82be2a"
      },
      "execution_count": 7,
      "outputs": [
        {
          "output_type": "stream",
          "name": "stdout",
          "text": [
            "Found 400000 word vectors.\n"
          ]
        }
      ]
    },
    {
      "cell_type": "code",
      "source": [
        "vectorizer = TextVectorization(max_tokens=20000)\n",
        "text_ds = tf.data.Dataset.from_tensor_slices(X_full).batch(128)\n",
        "vectorizer.adapt(X_full)\n",
        "print(vectorizer.get_vocabulary()[:5])"
      ],
      "metadata": {
        "colab": {
          "base_uri": "https://localhost:8080/",
          "height": 0
        },
        "id": "5kcJ3fJ8oE5Q",
        "outputId": "d42b2bbd-86f5-42ed-ec11-f254101db3c2"
      },
      "execution_count": 8,
      "outputs": [
        {
          "output_type": "stream",
          "name": "stdout",
          "text": [
            "['', '[UNK]', 'the', 'to', 'a']\n"
          ]
        }
      ]
    },
    {
      "cell_type": "code",
      "source": [
        "# let's see how the vectorized sentence looks like\n",
        "\n",
        "for i in range(15):\n",
        "  output = vectorizer([[X_train[i]]])\n",
        "  print(X_train[i], y_train[i], output.numpy())"
      ],
      "metadata": {
        "colab": {
          "base_uri": "https://localhost:8080/",
          "height": 0
        },
        "id": "SkB6igMypzBH",
        "outputId": "8eb583c6-3175-421d-e4af-0cad6b642fe0"
      },
      "execution_count": 9,
      "outputs": [
        {
          "output_type": "stream",
          "name": "stdout",
          "text": [
            "eu tf.Tensor([0. 0. 0. 1. 0. 0. 0. 0. 0.], shape=(9,), dtype=float32) [[129]]\n",
            "rejects tf.Tensor([1. 0. 0. 0. 0. 0. 0. 0. 0.], shape=(9,), dtype=float32) [[803]]\n",
            "german tf.Tensor([0. 0. 0. 0. 0. 0. 0. 1. 0.], shape=(9,), dtype=float32) [[71]]\n",
            "call tf.Tensor([1. 0. 0. 0. 0. 0. 0. 0. 0.], shape=(9,), dtype=float32) [[527]]\n",
            "to tf.Tensor([1. 0. 0. 0. 0. 0. 0. 0. 0.], shape=(9,), dtype=float32) [[3]]\n",
            "boycott tf.Tensor([1. 0. 0. 0. 0. 0. 0. 0. 0.], shape=(9,), dtype=float32) [[1290]]\n",
            "british tf.Tensor([0. 0. 0. 0. 0. 0. 0. 1. 0.], shape=(9,), dtype=float32) [[72]]\n",
            "lamb tf.Tensor([1. 0. 0. 0. 0. 0. 0. 0. 0.], shape=(9,), dtype=float32) [[252]]\n",
            ". tf.Tensor([1. 0. 0. 0. 0. 0. 0. 0. 0.], shape=(9,), dtype=float32) []\n",
            "peter tf.Tensor([0. 1. 0. 0. 0. 0. 0. 0. 0.], shape=(9,), dtype=float32) [[395]]\n",
            "blackburn tf.Tensor([0. 0. 1. 0. 0. 0. 0. 0. 0.], shape=(9,), dtype=float32) [[532]]\n",
            "brussels tf.Tensor([0. 0. 0. 0. 0. 1. 0. 0. 0.], shape=(9,), dtype=float32) [[1279]]\n",
            "1996-08-22 tf.Tensor([1. 0. 0. 0. 0. 0. 0. 0. 0.], shape=(9,), dtype=float32) [[64]]\n",
            "the tf.Tensor([1. 0. 0. 0. 0. 0. 0. 0. 0.], shape=(9,), dtype=float32) [[2]]\n",
            "european tf.Tensor([0. 0. 0. 1. 0. 0. 0. 0. 0.], shape=(9,), dtype=float32) [[128]]\n"
          ]
        }
      ]
    },
    {
      "cell_type": "code",
      "source": [
        "# making the word index\n",
        "\n",
        "voc = vectorizer.get_vocabulary()\n",
        "word_index = dict(zip(voc, range(len(voc))))"
      ],
      "metadata": {
        "id": "JxTsM9mQqhNi"
      },
      "execution_count": 10,
      "outputs": []
    },
    {
      "cell_type": "code",
      "source": [
        "num_tokens = len(voc) + 2\n",
        "embedding_dim = 100\n",
        "hits = 0\n",
        "misses = 0\n",
        "\n",
        "# Prepare embedding matrix\n",
        "embedding_matrix = np.zeros((num_tokens, embedding_dim))\n",
        "for word, i in word_index.items():\n",
        "    embedding_vector = embeddings_index.get(word)\n",
        "    if embedding_vector is not None:\n",
        "        # Words not found in embedding index will be all-zeros.\n",
        "        # This includes the representation for \"padding\" and \"OOV\"\n",
        "        embedding_matrix[i] = embedding_vector\n",
        "        hits += 1\n",
        "    else:\n",
        "        misses += 1\n",
        "print(\"Converted %d words (%d misses)\" % (hits, misses))"
      ],
      "metadata": {
        "colab": {
          "base_uri": "https://localhost:8080/",
          "height": 0
        },
        "id": "FnxbqhAsqH8p",
        "outputId": "ca2fb716-e4c6-4ce4-971a-651f40087b56"
      },
      "execution_count": 11,
      "outputs": [
        {
          "output_type": "stream",
          "name": "stdout",
          "text": [
            "Converted 1406 words (111 misses)\n"
          ]
        }
      ]
    },
    {
      "cell_type": "code",
      "source": [
        "from tensorflow.keras.layers import Embedding\n",
        "import keras\n",
        "\n",
        "# create the embedding layer\n",
        "embedding_layer = Embedding(\n",
        "    num_tokens,\n",
        "    embedding_dim,\n",
        "    embeddings_initializer=keras.initializers.Constant(embedding_matrix),\n",
        "    trainable=False,\n",
        ")"
      ],
      "metadata": {
        "id": "9HhRrLRLqi5h"
      },
      "execution_count": 12,
      "outputs": []
    },
    {
      "cell_type": "code",
      "source": [
        "from tensorflow.keras import layers\n",
        "\n",
        "# build the model\n",
        "int_sequences_input = keras.Input(shape=(1,))\n",
        "embedded_sequences = embedding_layer(int_sequences_input)\n",
        "\n",
        "# Add 2 bidirectional LSTMs\n",
        "x = layers.LSTM(64)(embedded_sequences)\n",
        "# x = layers.LSTM(64)(x)\n",
        "# Add a classifier\n",
        "outputs = layers.Dense(9, activation=\"sigmoid\")(x)\n",
        "model = keras.Model(int_sequences_input, outputs)\n",
        "model.summary()"
      ],
      "metadata": {
        "colab": {
          "base_uri": "https://localhost:8080/",
          "height": 0
        },
        "id": "HtBtKrnxxdIP",
        "outputId": "2a2fe160-228d-4401-d136-9f8adefe2d26"
      },
      "execution_count": 13,
      "outputs": [
        {
          "output_type": "stream",
          "name": "stdout",
          "text": [
            "Model: \"model\"\n",
            "_________________________________________________________________\n",
            " Layer (type)                Output Shape              Param #   \n",
            "=================================================================\n",
            " input_1 (InputLayer)        [(None, 1)]               0         \n",
            "                                                                 \n",
            " embedding (Embedding)       (None, 1, 100)            151900    \n",
            "                                                                 \n",
            " lstm (LSTM)                 (None, 64)                42240     \n",
            "                                                                 \n",
            " dense (Dense)               (None, 9)                 585       \n",
            "                                                                 \n",
            "=================================================================\n",
            "Total params: 194,725\n",
            "Trainable params: 42,825\n",
            "Non-trainable params: 151,900\n",
            "_________________________________________________________________\n"
          ]
        }
      ]
    },
    {
      "cell_type": "code",
      "source": [
        "# convert our word data to NumPy arrays of integer indices\n",
        "\n",
        "X_train_indices = vectorizer(np.array([[s] for s in X_train])).numpy()\n",
        "X_val_indices = vectorizer(np.array([[s] for s in X_val])).numpy()\n",
        "X_test_indices = vectorizer(np.array([[s] for s in X_test])).numpy()\n",
        "\n",
        "# example of training data\n",
        "for i in zip(X_train[0:10], X_train_indices[0:10]):\n",
        "  print(i)"
      ],
      "metadata": {
        "colab": {
          "base_uri": "https://localhost:8080/",
          "height": 0
        },
        "id": "QrlxLKxAqv92",
        "outputId": "5567c1ee-c2dc-4e70-8bac-da04c8d0c2ac"
      },
      "execution_count": 17,
      "outputs": [
        {
          "output_type": "stream",
          "name": "stdout",
          "text": [
            "<class 'tensorflow.python.framework.ops.EagerTensor'>\n",
            "('eu', array([129]))\n",
            "('rejects', array([803]))\n",
            "('german', array([71]))\n",
            "('call', array([527]))\n",
            "('to', array([3]))\n",
            "('boycott', array([1290]))\n",
            "('british', array([72]))\n",
            "('lamb', array([252]))\n",
            "('.', array([0]))\n",
            "('peter', array([395]))\n"
          ]
        }
      ]
    },
    {
      "cell_type": "code",
      "source": [
        "model.compile(\"adam\", \"binary_crossentropy\", metrics=[\"accuracy\"])\n",
        "history = model.fit(X_train_indices, y_train, epochs=100,\n",
        "          validation_data=(X_val_indices, y_val))"
      ],
      "metadata": {
        "colab": {
          "base_uri": "https://localhost:8080/",
          "height": 0
        },
        "id": "kNoKv_2krYiK",
        "outputId": "a2ba3b13-ad43-428f-d758-a731fa15aefc"
      },
      "execution_count": 15,
      "outputs": [
        {
          "output_type": "stream",
          "name": "stdout",
          "text": [
            "Epoch 1/100\n",
            "52/52 [==============================] - 3s 17ms/step - loss: 0.4925 - accuracy: 0.7428 - val_loss: 0.3357 - val_accuracy: 0.7911\n",
            "Epoch 2/100\n",
            "52/52 [==============================] - 0s 5ms/step - loss: 0.2399 - accuracy: 0.8412 - val_loss: 0.2523 - val_accuracy: 0.7926\n",
            "Epoch 3/100\n",
            "52/52 [==============================] - 0s 6ms/step - loss: 0.1905 - accuracy: 0.8430 - val_loss: 0.2279 - val_accuracy: 0.7985\n",
            "Epoch 4/100\n",
            "52/52 [==============================] - 0s 6ms/step - loss: 0.1642 - accuracy: 0.8490 - val_loss: 0.2099 - val_accuracy: 0.8037\n",
            "Epoch 5/100\n",
            "52/52 [==============================] - 0s 5ms/step - loss: 0.1437 - accuracy: 0.8762 - val_loss: 0.1949 - val_accuracy: 0.8126\n",
            "Epoch 6/100\n",
            "52/52 [==============================] - 0s 5ms/step - loss: 0.1269 - accuracy: 0.8943 - val_loss: 0.1810 - val_accuracy: 0.8170\n",
            "Epoch 7/100\n",
            "52/52 [==============================] - 0s 7ms/step - loss: 0.1123 - accuracy: 0.9010 - val_loss: 0.1689 - val_accuracy: 0.8141\n",
            "Epoch 8/100\n",
            "52/52 [==============================] - 0s 6ms/step - loss: 0.0993 - accuracy: 0.9082 - val_loss: 0.1592 - val_accuracy: 0.8170\n",
            "Epoch 9/100\n",
            "52/52 [==============================] - 0s 5ms/step - loss: 0.0882 - accuracy: 0.9155 - val_loss: 0.1503 - val_accuracy: 0.8163\n",
            "Epoch 10/100\n",
            "52/52 [==============================] - 0s 6ms/step - loss: 0.0786 - accuracy: 0.9245 - val_loss: 0.1431 - val_accuracy: 0.8170\n",
            "Epoch 11/100\n",
            "52/52 [==============================] - 0s 5ms/step - loss: 0.0704 - accuracy: 0.9300 - val_loss: 0.1384 - val_accuracy: 0.8207\n",
            "Epoch 12/100\n",
            "52/52 [==============================] - 0s 5ms/step - loss: 0.0636 - accuracy: 0.9342 - val_loss: 0.1324 - val_accuracy: 0.8185\n",
            "Epoch 13/100\n",
            "52/52 [==============================] - 0s 5ms/step - loss: 0.0579 - accuracy: 0.9384 - val_loss: 0.1294 - val_accuracy: 0.8215\n",
            "Epoch 14/100\n",
            "52/52 [==============================] - 0s 5ms/step - loss: 0.0532 - accuracy: 0.9420 - val_loss: 0.1278 - val_accuracy: 0.8096\n",
            "Epoch 15/100\n",
            "52/52 [==============================] - 0s 5ms/step - loss: 0.0492 - accuracy: 0.9420 - val_loss: 0.1258 - val_accuracy: 0.8096\n",
            "Epoch 16/100\n",
            "52/52 [==============================] - 0s 5ms/step - loss: 0.0458 - accuracy: 0.9444 - val_loss: 0.1241 - val_accuracy: 0.8081\n",
            "Epoch 17/100\n",
            "52/52 [==============================] - 0s 5ms/step - loss: 0.0430 - accuracy: 0.9511 - val_loss: 0.1241 - val_accuracy: 0.8074\n",
            "Epoch 18/100\n",
            "52/52 [==============================] - 0s 5ms/step - loss: 0.0405 - accuracy: 0.9529 - val_loss: 0.1231 - val_accuracy: 0.8081\n",
            "Epoch 19/100\n",
            "52/52 [==============================] - 0s 6ms/step - loss: 0.0384 - accuracy: 0.9541 - val_loss: 0.1229 - val_accuracy: 0.8052\n",
            "Epoch 20/100\n",
            "52/52 [==============================] - 0s 5ms/step - loss: 0.0365 - accuracy: 0.9583 - val_loss: 0.1238 - val_accuracy: 0.8104\n",
            "Epoch 21/100\n",
            "52/52 [==============================] - 0s 4ms/step - loss: 0.0347 - accuracy: 0.9589 - val_loss: 0.1231 - val_accuracy: 0.8111\n",
            "Epoch 22/100\n",
            "52/52 [==============================] - 0s 6ms/step - loss: 0.0332 - accuracy: 0.9632 - val_loss: 0.1244 - val_accuracy: 0.8111\n",
            "Epoch 23/100\n",
            "52/52 [==============================] - 0s 4ms/step - loss: 0.0318 - accuracy: 0.9650 - val_loss: 0.1250 - val_accuracy: 0.8119\n",
            "Epoch 24/100\n",
            "52/52 [==============================] - 0s 5ms/step - loss: 0.0306 - accuracy: 0.9668 - val_loss: 0.1254 - val_accuracy: 0.8133\n",
            "Epoch 25/100\n",
            "52/52 [==============================] - 0s 6ms/step - loss: 0.0295 - accuracy: 0.9680 - val_loss: 0.1244 - val_accuracy: 0.8096\n",
            "Epoch 26/100\n",
            "52/52 [==============================] - 0s 7ms/step - loss: 0.0284 - accuracy: 0.9686 - val_loss: 0.1262 - val_accuracy: 0.8119\n",
            "Epoch 27/100\n",
            "52/52 [==============================] - 0s 6ms/step - loss: 0.0276 - accuracy: 0.9704 - val_loss: 0.1282 - val_accuracy: 0.8141\n",
            "Epoch 28/100\n",
            "52/52 [==============================] - 0s 5ms/step - loss: 0.0265 - accuracy: 0.9698 - val_loss: 0.1273 - val_accuracy: 0.8141\n",
            "Epoch 29/100\n",
            "52/52 [==============================] - 0s 6ms/step - loss: 0.0258 - accuracy: 0.9716 - val_loss: 0.1282 - val_accuracy: 0.8163\n",
            "Epoch 30/100\n",
            "52/52 [==============================] - 0s 5ms/step - loss: 0.0248 - accuracy: 0.9734 - val_loss: 0.1279 - val_accuracy: 0.8133\n",
            "Epoch 31/100\n",
            "52/52 [==============================] - 0s 4ms/step - loss: 0.0241 - accuracy: 0.9740 - val_loss: 0.1307 - val_accuracy: 0.8178\n",
            "Epoch 32/100\n",
            "52/52 [==============================] - 0s 6ms/step - loss: 0.0236 - accuracy: 0.9740 - val_loss: 0.1295 - val_accuracy: 0.8193\n",
            "Epoch 33/100\n",
            "52/52 [==============================] - 0s 5ms/step - loss: 0.0229 - accuracy: 0.9734 - val_loss: 0.1303 - val_accuracy: 0.8193\n",
            "Epoch 34/100\n",
            "52/52 [==============================] - 0s 6ms/step - loss: 0.0223 - accuracy: 0.9764 - val_loss: 0.1302 - val_accuracy: 0.8156\n",
            "Epoch 35/100\n",
            "52/52 [==============================] - 0s 5ms/step - loss: 0.0218 - accuracy: 0.9752 - val_loss: 0.1316 - val_accuracy: 0.8200\n",
            "Epoch 36/100\n",
            "52/52 [==============================] - 0s 5ms/step - loss: 0.0213 - accuracy: 0.9764 - val_loss: 0.1335 - val_accuracy: 0.8215\n",
            "Epoch 37/100\n",
            "52/52 [==============================] - 0s 5ms/step - loss: 0.0207 - accuracy: 0.9764 - val_loss: 0.1339 - val_accuracy: 0.8207\n",
            "Epoch 38/100\n",
            "52/52 [==============================] - 0s 5ms/step - loss: 0.0203 - accuracy: 0.9758 - val_loss: 0.1332 - val_accuracy: 0.8215\n",
            "Epoch 39/100\n",
            "52/52 [==============================] - 0s 5ms/step - loss: 0.0199 - accuracy: 0.9764 - val_loss: 0.1337 - val_accuracy: 0.8215\n",
            "Epoch 40/100\n",
            "52/52 [==============================] - 0s 5ms/step - loss: 0.0195 - accuracy: 0.9764 - val_loss: 0.1344 - val_accuracy: 0.8215\n",
            "Epoch 41/100\n",
            "52/52 [==============================] - 0s 6ms/step - loss: 0.0193 - accuracy: 0.9764 - val_loss: 0.1348 - val_accuracy: 0.8215\n",
            "Epoch 42/100\n",
            "52/52 [==============================] - 0s 5ms/step - loss: 0.0189 - accuracy: 0.9764 - val_loss: 0.1363 - val_accuracy: 0.8215\n",
            "Epoch 43/100\n",
            "52/52 [==============================] - 0s 5ms/step - loss: 0.0186 - accuracy: 0.9783 - val_loss: 0.1343 - val_accuracy: 0.8170\n",
            "Epoch 44/100\n",
            "52/52 [==============================] - 0s 4ms/step - loss: 0.0182 - accuracy: 0.9783 - val_loss: 0.1379 - val_accuracy: 0.8215\n",
            "Epoch 45/100\n",
            "52/52 [==============================] - 0s 5ms/step - loss: 0.0180 - accuracy: 0.9771 - val_loss: 0.1367 - val_accuracy: 0.8222\n",
            "Epoch 46/100\n",
            "52/52 [==============================] - 0s 5ms/step - loss: 0.0177 - accuracy: 0.9789 - val_loss: 0.1368 - val_accuracy: 0.8230\n",
            "Epoch 47/100\n",
            "52/52 [==============================] - 0s 5ms/step - loss: 0.0174 - accuracy: 0.9783 - val_loss: 0.1381 - val_accuracy: 0.8237\n",
            "Epoch 48/100\n",
            "52/52 [==============================] - 0s 5ms/step - loss: 0.0172 - accuracy: 0.9777 - val_loss: 0.1373 - val_accuracy: 0.8237\n",
            "Epoch 49/100\n",
            "52/52 [==============================] - 0s 5ms/step - loss: 0.0170 - accuracy: 0.9777 - val_loss: 0.1384 - val_accuracy: 0.8244\n",
            "Epoch 50/100\n",
            "52/52 [==============================] - 0s 5ms/step - loss: 0.0167 - accuracy: 0.9783 - val_loss: 0.1387 - val_accuracy: 0.8200\n",
            "Epoch 51/100\n",
            "52/52 [==============================] - 0s 5ms/step - loss: 0.0166 - accuracy: 0.9789 - val_loss: 0.1392 - val_accuracy: 0.8244\n",
            "Epoch 52/100\n",
            "52/52 [==============================] - 0s 6ms/step - loss: 0.0164 - accuracy: 0.9777 - val_loss: 0.1389 - val_accuracy: 0.8215\n",
            "Epoch 53/100\n",
            "52/52 [==============================] - 0s 6ms/step - loss: 0.0163 - accuracy: 0.9789 - val_loss: 0.1392 - val_accuracy: 0.8215\n",
            "Epoch 54/100\n",
            "52/52 [==============================] - 0s 5ms/step - loss: 0.0160 - accuracy: 0.9801 - val_loss: 0.1405 - val_accuracy: 0.8215\n",
            "Epoch 55/100\n",
            "52/52 [==============================] - 0s 6ms/step - loss: 0.0159 - accuracy: 0.9789 - val_loss: 0.1401 - val_accuracy: 0.8215\n",
            "Epoch 56/100\n",
            "52/52 [==============================] - 0s 7ms/step - loss: 0.0157 - accuracy: 0.9789 - val_loss: 0.1412 - val_accuracy: 0.8252\n",
            "Epoch 57/100\n",
            "52/52 [==============================] - 0s 6ms/step - loss: 0.0156 - accuracy: 0.9789 - val_loss: 0.1425 - val_accuracy: 0.8252\n",
            "Epoch 58/100\n",
            "52/52 [==============================] - 0s 5ms/step - loss: 0.0155 - accuracy: 0.9795 - val_loss: 0.1404 - val_accuracy: 0.8230\n",
            "Epoch 59/100\n",
            "52/52 [==============================] - 0s 5ms/step - loss: 0.0155 - accuracy: 0.9777 - val_loss: 0.1416 - val_accuracy: 0.8222\n",
            "Epoch 60/100\n",
            "52/52 [==============================] - 0s 5ms/step - loss: 0.0153 - accuracy: 0.9783 - val_loss: 0.1414 - val_accuracy: 0.8222\n",
            "Epoch 61/100\n",
            "52/52 [==============================] - 0s 6ms/step - loss: 0.0152 - accuracy: 0.9777 - val_loss: 0.1410 - val_accuracy: 0.8237\n",
            "Epoch 62/100\n",
            "52/52 [==============================] - 0s 4ms/step - loss: 0.0151 - accuracy: 0.9783 - val_loss: 0.1423 - val_accuracy: 0.8267\n",
            "Epoch 63/100\n",
            "52/52 [==============================] - 0s 4ms/step - loss: 0.0149 - accuracy: 0.9783 - val_loss: 0.1418 - val_accuracy: 0.8244\n",
            "Epoch 64/100\n",
            "52/52 [==============================] - 0s 6ms/step - loss: 0.0149 - accuracy: 0.9764 - val_loss: 0.1421 - val_accuracy: 0.8252\n",
            "Epoch 65/100\n",
            "52/52 [==============================] - 0s 5ms/step - loss: 0.0147 - accuracy: 0.9783 - val_loss: 0.1428 - val_accuracy: 0.8237\n",
            "Epoch 66/100\n",
            "52/52 [==============================] - 0s 5ms/step - loss: 0.0148 - accuracy: 0.9783 - val_loss: 0.1426 - val_accuracy: 0.8289\n",
            "Epoch 67/100\n",
            "52/52 [==============================] - 0s 6ms/step - loss: 0.0144 - accuracy: 0.9801 - val_loss: 0.1443 - val_accuracy: 0.8274\n",
            "Epoch 68/100\n",
            "52/52 [==============================] - 0s 5ms/step - loss: 0.0145 - accuracy: 0.9777 - val_loss: 0.1446 - val_accuracy: 0.8274\n",
            "Epoch 69/100\n",
            "52/52 [==============================] - 0s 5ms/step - loss: 0.0144 - accuracy: 0.9764 - val_loss: 0.1435 - val_accuracy: 0.8289\n",
            "Epoch 70/100\n",
            "52/52 [==============================] - 0s 5ms/step - loss: 0.0143 - accuracy: 0.9783 - val_loss: 0.1441 - val_accuracy: 0.8289\n",
            "Epoch 71/100\n",
            "52/52 [==============================] - 0s 5ms/step - loss: 0.0143 - accuracy: 0.9777 - val_loss: 0.1446 - val_accuracy: 0.8252\n",
            "Epoch 72/100\n",
            "52/52 [==============================] - 0s 6ms/step - loss: 0.0143 - accuracy: 0.9783 - val_loss: 0.1457 - val_accuracy: 0.8252\n",
            "Epoch 73/100\n",
            "52/52 [==============================] - 0s 4ms/step - loss: 0.0141 - accuracy: 0.9783 - val_loss: 0.1454 - val_accuracy: 0.8252\n",
            "Epoch 74/100\n",
            "52/52 [==============================] - 0s 5ms/step - loss: 0.0141 - accuracy: 0.9789 - val_loss: 0.1455 - val_accuracy: 0.8289\n",
            "Epoch 75/100\n",
            "52/52 [==============================] - 0s 5ms/step - loss: 0.0140 - accuracy: 0.9771 - val_loss: 0.1449 - val_accuracy: 0.8267\n",
            "Epoch 76/100\n",
            "52/52 [==============================] - 0s 5ms/step - loss: 0.0140 - accuracy: 0.9789 - val_loss: 0.1469 - val_accuracy: 0.8289\n",
            "Epoch 77/100\n",
            "52/52 [==============================] - 0s 6ms/step - loss: 0.0139 - accuracy: 0.9771 - val_loss: 0.1462 - val_accuracy: 0.8289\n",
            "Epoch 78/100\n",
            "52/52 [==============================] - 0s 6ms/step - loss: 0.0140 - accuracy: 0.9783 - val_loss: 0.1456 - val_accuracy: 0.8296\n",
            "Epoch 79/100\n",
            "52/52 [==============================] - 0s 5ms/step - loss: 0.0138 - accuracy: 0.9783 - val_loss: 0.1462 - val_accuracy: 0.8259\n",
            "Epoch 80/100\n",
            "52/52 [==============================] - 0s 7ms/step - loss: 0.0137 - accuracy: 0.9777 - val_loss: 0.1472 - val_accuracy: 0.8259\n",
            "Epoch 81/100\n",
            "52/52 [==============================] - 0s 5ms/step - loss: 0.0137 - accuracy: 0.9789 - val_loss: 0.1473 - val_accuracy: 0.8259\n",
            "Epoch 82/100\n",
            "52/52 [==============================] - 0s 5ms/step - loss: 0.0135 - accuracy: 0.9789 - val_loss: 0.1472 - val_accuracy: 0.8296\n",
            "Epoch 83/100\n",
            "52/52 [==============================] - 0s 5ms/step - loss: 0.0136 - accuracy: 0.9807 - val_loss: 0.1457 - val_accuracy: 0.8259\n",
            "Epoch 84/100\n",
            "52/52 [==============================] - 0s 5ms/step - loss: 0.0135 - accuracy: 0.9758 - val_loss: 0.1468 - val_accuracy: 0.8259\n",
            "Epoch 85/100\n",
            "52/52 [==============================] - 0s 6ms/step - loss: 0.0135 - accuracy: 0.9771 - val_loss: 0.1491 - val_accuracy: 0.8304\n",
            "Epoch 86/100\n",
            "52/52 [==============================] - 0s 6ms/step - loss: 0.0138 - accuracy: 0.9758 - val_loss: 0.1489 - val_accuracy: 0.8296\n",
            "Epoch 87/100\n",
            "52/52 [==============================] - 0s 5ms/step - loss: 0.0135 - accuracy: 0.9777 - val_loss: 0.1479 - val_accuracy: 0.8296\n",
            "Epoch 88/100\n",
            "52/52 [==============================] - 0s 7ms/step - loss: 0.0135 - accuracy: 0.9771 - val_loss: 0.1496 - val_accuracy: 0.8296\n",
            "Epoch 89/100\n",
            "52/52 [==============================] - 0s 5ms/step - loss: 0.0134 - accuracy: 0.9783 - val_loss: 0.1483 - val_accuracy: 0.8296\n",
            "Epoch 90/100\n",
            "52/52 [==============================] - 0s 6ms/step - loss: 0.0134 - accuracy: 0.9771 - val_loss: 0.1502 - val_accuracy: 0.8296\n",
            "Epoch 91/100\n",
            "52/52 [==============================] - 0s 5ms/step - loss: 0.0134 - accuracy: 0.9783 - val_loss: 0.1485 - val_accuracy: 0.8259\n",
            "Epoch 92/100\n",
            "52/52 [==============================] - 0s 5ms/step - loss: 0.0135 - accuracy: 0.9771 - val_loss: 0.1487 - val_accuracy: 0.8296\n",
            "Epoch 93/100\n",
            "52/52 [==============================] - 0s 7ms/step - loss: 0.0132 - accuracy: 0.9801 - val_loss: 0.1487 - val_accuracy: 0.8274\n",
            "Epoch 94/100\n",
            "52/52 [==============================] - 0s 5ms/step - loss: 0.0132 - accuracy: 0.9783 - val_loss: 0.1494 - val_accuracy: 0.8259\n",
            "Epoch 95/100\n",
            "52/52 [==============================] - 0s 5ms/step - loss: 0.0133 - accuracy: 0.9795 - val_loss: 0.1478 - val_accuracy: 0.8274\n",
            "Epoch 96/100\n",
            "52/52 [==============================] - 0s 4ms/step - loss: 0.0132 - accuracy: 0.9777 - val_loss: 0.1503 - val_accuracy: 0.8304\n",
            "Epoch 97/100\n",
            "52/52 [==============================] - 0s 5ms/step - loss: 0.0131 - accuracy: 0.9771 - val_loss: 0.1488 - val_accuracy: 0.8296\n",
            "Epoch 98/100\n",
            "52/52 [==============================] - 0s 5ms/step - loss: 0.0132 - accuracy: 0.9777 - val_loss: 0.1496 - val_accuracy: 0.8259\n",
            "Epoch 99/100\n",
            "52/52 [==============================] - 0s 5ms/step - loss: 0.0134 - accuracy: 0.9771 - val_loss: 0.1477 - val_accuracy: 0.8274\n",
            "Epoch 100/100\n",
            "52/52 [==============================] - 0s 5ms/step - loss: 0.0131 - accuracy: 0.9771 - val_loss: 0.1504 - val_accuracy: 0.8259\n"
          ]
        }
      ]
    },
    {
      "cell_type": "code",
      "source": [
        "import matplotlib.pyplot as plt\n",
        "\n",
        "plt.plot(history.history['accuracy'])\n",
        "plt.plot(history.history['val_accuracy'])\n",
        "plt.title('model accuracy')\n",
        "plt.ylabel('accuracy')\n",
        "plt.xlabel('epoch')\n",
        "plt.legend(['train', 'val'], loc='upper left')\n",
        "plt.show()"
      ],
      "metadata": {
        "colab": {
          "base_uri": "https://localhost:8080/",
          "height": 295
        },
        "id": "5Nj3mKsfy3Up",
        "outputId": "f0cde817-2735-428c-b6ae-2bfa2fbf1731"
      },
      "execution_count": 16,
      "outputs": [
        {
          "output_type": "display_data",
          "data": {
            "text/plain": [
              "<Figure size 432x288 with 1 Axes>"
            ],
            "image/png": "[encoded data removed]"
          },
          "metadata": {
            "needs_background": "light"
          }
        }
      ]
    },
    {
      "cell_type": "code",
      "source": [
        "# accuracy on the test set\n",
        "\n",
        "metric_accuracy = tf.keras.metrics.Accuracy()\n",
        "predictions = model.predict(X_test_indices)\n",
        "\n",
        "metric_accuracy.update_state(tf.argmax(predictions, 1), tf.argmax(y_test,1))\n",
        "metric_accuracy.result().numpy()\n"
      ],
      "metadata": {
        "id": "S4M00UV56x_p",
        "colab": {
          "base_uri": "https://localhost:8080/",
          "height": 0
        },
        "outputId": "b64db1dc-bf67-47bf-a7e2-c2d57bfccc48"
      },
      "execution_count": 26,
      "outputs": [
        {
          "output_type": "stream",
          "name": "stdout",
          "text": [
            "45/45 [==============================] - 0s 2ms/step\n"
          ]
        },
        {
          "output_type": "execute_result",
          "data": {
            "text/plain": [
              "0.84388185"
            ]
          },
          "metadata": {},
          "execution_count": 26
        }
      ]
    },
    {
      "cell_type": "markdown",
      "source": [
        "# Exercise 6.2\n",
        "\n",
        "The advantage of using RNN is that they have internal state and can renember previous input. This is useful because named entities often come in specific context, i.e. preceded by 'the': 'the EU'"
      ],
      "metadata": {
        "id": "qeQnScrmFuCz"
      }
    },
    {
      "cell_type": "code",
      "source": [],
      "metadata": {
        "id": "Dd5HT9_MBnmS"
      },
      "execution_count": null,
      "outputs": []
    }
  ]
}