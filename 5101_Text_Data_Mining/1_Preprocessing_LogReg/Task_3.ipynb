{
  "nbformat": 4,
  "nbformat_minor": 0,
  "metadata": {
    "colab": {
      "provenance": []
    },
    "kernelspec": {
      "name": "python3",
      "display_name": "Python 3"
    },
    "language_info": {
      "name": "python"
    }
  },
  "cells": [
    {
      "cell_type": "markdown",
      "source": [
        "# Task 3"
      ],
      "metadata": {
        "id": "xFlCHvOWfyEK"
      }
    },
    {
      "cell_type": "code",
      "execution_count": null,
      "metadata": {
        "id": "R7bx8vgcaGDw"
      },
      "outputs": [],
      "source": [
        "# download the dataset\n",
        "import requests\n",
        "res = requests.get('http://archive.ics.uci.edu/ml/machine-learning-databases/00228/smsspamcollection.zip')"
      ]
    },
    {
      "cell_type": "code",
      "source": [
        "# write zip to temporary file (needed to unzip)\n",
        "with open('temp.zip', 'wb') as f:\n",
        "  f.write(res.content)"
      ],
      "metadata": {
        "id": "P_oCsrNSansY"
      },
      "execution_count": null,
      "outputs": []
    },
    {
      "cell_type": "code",
      "source": [
        "from zipfile import ZipFile\n",
        "\n",
        "# unzip the dataset\n",
        "with ZipFile('temp.zip') as myzip:\n",
        "  with myzip.open('SMSSpamCollection') as myfile:\n",
        "    spam_raw = myfile.read().decode(\"utf-8\") \n",
        "    # print(spam_raw)\n",
        "  with myzip.open('readme') as myfile:\n",
        "    readme = myfile.read().decode(\"ISO-8859-1\") "
      ],
      "metadata": {
        "id": "2ZPTq1CJarTT"
      },
      "execution_count": null,
      "outputs": []
    },
    {
      "cell_type": "code",
      "source": [
        "# get features and labels\n",
        "X_raw = []\n",
        "y = []\n",
        "for line in spam_raw.splitlines():\n",
        "  label = line.split('\\t')[0]\n",
        "  if label == 'ham':\n",
        "    y.append(0)\n",
        "  else:\n",
        "    y.append(1)\n",
        "  X_raw.append(line.split('\\t')[1])\n",
        "\n",
        "for i in range(5):\n",
        "  print(X_raw[i], y[i])"
      ],
      "metadata": {
        "colab": {
          "base_uri": "https://localhost:8080/"
        },
        "id": "h4MK7fOOedcS",
        "outputId": "7adb4e9f-61ee-4e6c-ce4f-6178ef566831"
      },
      "execution_count": null,
      "outputs": [
        {
          "output_type": "stream",
          "name": "stdout",
          "text": [
            "Go until jurong point, crazy.. Available only in bugis n great world la e buffet... Cine there got amore wat... 0\n",
            "Ok lar... Joking wif u oni... 0\n",
            "Free entry in 2 a wkly comp to win FA Cup final tkts 21st May 2005. Text FA to 87121 to receive entry question(std txt rate)T&C's apply 08452810075over18's 1\n",
            "U dun say so early hor... U c already then say... 0\n",
            "Nah I don't think he goes to usf, he lives around here though 0\n"
          ]
        }
      ]
    },
    {
      "cell_type": "code",
      "source": [
        "from sklearn.feature_extraction.text import TfidfVectorizer\n",
        "\n",
        "# preprocessing and encoding\n",
        "vectorizer = TfidfVectorizer(strip_accents='unicode', stop_words='english')\n",
        "X = vectorizer.fit_transform(X_raw)\n",
        "features = vectorizer.get_feature_names_out()\n",
        "\n",
        "print('shape of transformed dataset:', X.shape)\n",
        "print('example raw entry:', X_raw[1])\n",
        "print('spam?', y[1])\n",
        "print('encoded:')\n",
        "print(X[1])\n",
        "\n",
        "print('decoded:')\n",
        "for i, val in enumerate(X.toarray()[1]):\n",
        "  if val:\n",
        "    print(features[i], end=' ')"
      ],
      "metadata": {
        "colab": {
          "base_uri": "https://localhost:8080/"
        },
        "id": "dZTA0hfgib76",
        "outputId": "8a91a833-147a-4b5f-e9ee-6afef8f99420"
      },
      "execution_count": null,
      "outputs": [
        {
          "output_type": "stream",
          "name": "stdout",
          "text": [
            "shape of transformed dataset: (5574, 8442)\n",
            "example raw entry: Ok lar... Joking wif u oni...\n",
            "spam? 0\n",
            "encoded:\n",
            "  (0, 5402)\t0.5466195966483365\n",
            "  (0, 8191)\t0.4316309977097208\n",
            "  (0, 4216)\t0.5236769406481622\n",
            "  (0, 4410)\t0.4083285209202484\n",
            "  (0, 5376)\t0.27190435673704183\n",
            "decoded:\n",
            "joking lar ok oni wif "
          ]
        }
      ]
    },
    {
      "cell_type": "code",
      "source": [
        "from sklearn.model_selection import train_test_split\n",
        "\n",
        "# train-test split\n",
        "X_train, X_test, y_train, y_test = train_test_split(\n",
        "     X, y, test_size=0.2)"
      ],
      "metadata": {
        "id": "N-Vv3AbXe8bs"
      },
      "execution_count": null,
      "outputs": []
    },
    {
      "cell_type": "code",
      "source": [
        "from sklearn.linear_model import LogisticRegression\n",
        "from sklearn.metrics import accuracy_score\n",
        "\n",
        "# training linear regression\n",
        "log_reg = LogisticRegression()\n",
        "log_reg.fit(X_train, y_train)\n",
        "\n",
        "pred_train = log_reg.predict(X_train)\n",
        "pred_test = log_reg.predict(X_test)\n",
        "print('linear regression')\n",
        "print(f'accuracy score on train set: {accuracy_score(y_train, pred_train):.2f}')\n",
        "print(f'accuracy score on test set: {accuracy_score(y_test, pred_test):.2f}')"
      ],
      "metadata": {
        "colab": {
          "base_uri": "https://localhost:8080/"
        },
        "id": "2KFGDLZTluQB",
        "outputId": "9be17c00-5c13-4f5c-cd34-b5d7f4c3e243"
      },
      "execution_count": null,
      "outputs": [
        {
          "output_type": "stream",
          "name": "stdout",
          "text": [
            "linear regression\n",
            "accuracy score on train set: 0.97\n",
            "accuracy score on test set: 0.95\n"
          ]
        }
      ]
    },
    {
      "cell_type": "code",
      "source": [
        "from sklearn.neighbors import KNeighborsClassifier\n",
        "\n",
        "knn = KNeighborsClassifier(3)\n",
        "knn.fit(X_train, y_train)\n",
        "\n",
        "pred_train = knn.predict(X_train)\n",
        "pred_test = knn.predict(X_test)\n",
        "print('k-nearest neighbors, k=3')\n",
        "print(f'accuracy score on train set: {accuracy_score(y_train, pred_train):.2f}')\n",
        "print(f'accuracy score on test set: {accuracy_score(y_test, pred_test):.2f}')"
      ],
      "metadata": {
        "colab": {
          "base_uri": "https://localhost:8080/"
        },
        "id": "JY3pKGUDmvtn",
        "outputId": "b9509c7c-7b61-4c60-a4e4-34e374b971e2"
      },
      "execution_count": null,
      "outputs": [
        {
          "output_type": "stream",
          "name": "stdout",
          "text": [
            "k-nearest neighbors, k=3\n",
            "accuracy score on train set: 0.94\n",
            "accuracy score on test set: 0.92\n"
          ]
        }
      ]
    }
  ]
}