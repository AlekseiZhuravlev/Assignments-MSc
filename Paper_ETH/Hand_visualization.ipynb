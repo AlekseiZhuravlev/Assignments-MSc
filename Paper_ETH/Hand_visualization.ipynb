{
 "cells": [
  {
   "cell_type": "code",
   "execution_count": 1,
   "metadata": {
    "collapsed": true
   },
   "outputs": [],
   "source": [
    "import os\n",
    "\n",
    "base_folder = r'C:\\Users\\Алексей\\Documents\\ETHZ\\interhand_masked\\masked\\test\\Capture0\\ROM04_LT_Occlusion'\n",
    "target_folder = r'C:\\Users\\Алексей\\Documents\\ETHZ\\interhand_masked\\single_image_per_camera'\n",
    "target_folder_gifs = r'C:\\Users\\Алексей\\Documents\\ETHZ\\interhand_masked\\gifs'\n",
    "\n",
    "target_folder_noised = r'C:\\Users\\Алексей\\Documents\\ETHZ\\interhand_masked\\single_image_per_camera_noised'\n",
    "\n",
    "# make target folder if it doesn't exist\n",
    "if not os.path.exists(target_folder):\n",
    "    os.makedirs(target_folder)\n",
    "\n",
    "if not os.path.exists(target_folder_gifs):\n",
    "    os.makedirs(target_folder_gifs)\n",
    "\n",
    "if not os.path.exists(target_folder_noised):\n",
    "    os.makedirs(target_folder_noised)"
   ]
  },
  {
   "cell_type": "code",
   "execution_count": 2,
   "outputs": [],
   "source": [
    "import shutil\n",
    "\n",
    "for folder in os.listdir(base_folder):\n",
    "    images_list = sorted(os.listdir(os.path.join(base_folder, folder)))\n",
    "\n",
    "    # copy the first image to the target folder, with name of the folder\n",
    "    shutil.copy(os.path.join(base_folder, folder, images_list[0]), os.path.join(target_folder, folder + '.jpg'))"
   ],
   "metadata": {
    "collapsed": false
   }
  },
  {
   "cell_type": "code",
   "execution_count": null,
   "outputs": [],
   "source": [],
   "metadata": {
    "collapsed": false
   }
  },
  {
   "cell_type": "code",
   "execution_count": 24,
   "outputs": [],
   "source": [
    "import matplotlib.pyplot as plt\n",
    "import matplotlib.animation as animation\n",
    "\n",
    "cameras_list = [\n",
    "    'cam400263',\n",
    "    'cam400293',\n",
    "    'cam400296',\n",
    "]\n",
    "\n",
    "\n",
    "\n",
    "\n",
    "\n",
    "# for each camera, go to base_folder/camera_name, get first 50 images in that folder, add gaussian noise to them, save them to target_folder_noised/camera_name\n",
    "import numpy as np\n",
    "import cv2\n",
    "\n",
    "for camera in cameras_list:\n",
    "    images_list = sorted(os.listdir(os.path.join(base_folder, camera)))\n",
    "\n",
    "    cam_dir = os.path.join(target_folder_noised, camera)\n",
    "    if not os.path.exists(cam_dir):\n",
    "        os.makedirs(cam_dir)\n",
    "\n",
    "    for i in range(50):\n",
    "        # read image without opencv\n",
    "        image = plt.imread(os.path.join(base_folder, camera, images_list[i])) * 255\n",
    "\n",
    "\n",
    "        # image = image + np.random.normal(0, 10, image.shape)\n",
    "        # distort image\n",
    "        image = cv2.resize(image, (0, 0), fx=0.85, fy=0.85)\n",
    "        image = cv2.resize(image, (0, 0), fx=1.15, fy=1.15)\n",
    "\n",
    "\n",
    "        image = np.clip(image, 0, 255)\n",
    "        image = image.astype(np.uint8)\n",
    "\n",
    "        # save image without opencv\n",
    "        plt.imsave(os.path.join(cam_dir, images_list[i]), image)"
   ],
   "metadata": {
    "collapsed": false
   }
  },
  {
   "cell_type": "code",
   "execution_count": 8,
   "outputs": [],
   "source": [
    "from PIL import Image\n",
    "from PIL import ImageDraw, ImageFont\n",
    "import numpy as np\n",
    "import cv2\n",
    "\n",
    "\n",
    "def preprocess_frame(frame):\n",
    "\n",
    "    # replace white with black\n",
    "    frame_np = np.array(frame)\n",
    "    frame_np[frame_np == 255] = 0\n",
    "\n",
    "    mask = frame_np != 0\n",
    "\n",
    "    frame_np_distorted = frame_np.copy()\n",
    "\n",
    "    # add gaussian noise\n",
    "    frame_np_distorted = frame_np_distorted + np.random.normal(0, 9, frame_np_distorted.shape)\n",
    "\n",
    "    # multiply by mask\n",
    "    frame_np_distorted = frame_np_distorted * mask\n",
    "\n",
    "    compression_factor = 0.8\n",
    "    frame_np_distorted = cv2.resize(frame_np_distorted, (0, 0), fx=compression_factor, fy=compression_factor)\n",
    "    frame_np_distorted = cv2.resize(frame_np_distorted, (0, 0), fx=1/compression_factor, fy=1/compression_factor)\n",
    "\n",
    "    # apply gaussian blur\n",
    "    frame_np_distorted = cv2.GaussianBlur(frame_np_distorted, (5, 5), 0)\n",
    "\n",
    "    frame_np_distorted = np.clip(frame_np_distorted, 0, 255)\n",
    "    frame_np_distorted = frame_np_distorted.astype(np.uint8)\n",
    "\n",
    "    frame = Image.fromarray(frame_np)\n",
    "    I1 = ImageDraw.Draw(frame)\n",
    "    font = ImageFont.truetype(\"arial.ttf\", 30)\n",
    "    I1.text((100, frame_np.shape[0] - 40), \"Ground truth\", fill=(254, 254, 254), font=font)\n",
    "\n",
    "    frame_dist = Image.fromarray(frame_np_distorted)\n",
    "    I2 = ImageDraw.Draw(frame_dist)\n",
    "    I2.text((100, frame_np.shape[0] - 40), \"Predicted\", fill=(254, 254, 254), font=font)\n",
    "\n",
    "    # make new frame of size 2 * width\n",
    "    new_frame = Image.new('RGB', (frame.width * 2, frame.height))\n",
    "    new_frame.paste(frame, (0, 0))\n",
    "    new_frame.paste(frame_dist, (frame.width, 0))\n",
    "\n",
    "    return new_frame\n",
    "\n",
    "    # return frame\n",
    "\n",
    "\n",
    "def make_gif(frame_list, gif_name, duration=100):\n",
    "    frames = [Image.open(image) for image in frame_list]\n",
    "\n",
    "    for i in range(len(frames)):\n",
    "        frames[i] = preprocess_frame(frames[i])\n",
    "\n",
    "    frame_one = frames[0]\n",
    "    frame_one.save(gif_name, format=\"GIF\", append_images=frames,\n",
    "               save_all=True, duration=duration, loop=0)\n",
    "\n",
    "\n",
    "cameras_list = [\n",
    "    'cam400263',\n",
    "    'cam400280',\n",
    "    'cam400293',\n",
    "    'cam400296',\n",
    "]\n",
    "\n",
    "for camera in cameras_list:\n",
    "    images_list = sorted(os.listdir(os.path.join(base_folder, camera)))\n",
    "    full_images_list = [os.path.join(base_folder, camera, image) for image in images_list[:50]]\n",
    "\n",
    "    make_gif(full_images_list,\n",
    "             os.path.join(target_folder_gifs, camera + '.gif'), duration=250)"
   ],
   "metadata": {
    "collapsed": false
   }
  },
  {
   "cell_type": "code",
   "execution_count": null,
   "outputs": [],
   "source": [],
   "metadata": {
    "collapsed": false
   }
  }
 ],
 "metadata": {
  "kernelspec": {
   "display_name": "Python 3",
   "language": "python",
   "name": "python3"
  },
  "language_info": {
   "codemirror_mode": {
    "name": "ipython",
    "version": 2
   },
   "file_extension": ".py",
   "mimetype": "text/x-python",
   "name": "python",
   "nbconvert_exporter": "python",
   "pygments_lexer": "ipython2",
   "version": "2.7.6"
  }
 },
 "nbformat": 4,
 "nbformat_minor": 0
}
