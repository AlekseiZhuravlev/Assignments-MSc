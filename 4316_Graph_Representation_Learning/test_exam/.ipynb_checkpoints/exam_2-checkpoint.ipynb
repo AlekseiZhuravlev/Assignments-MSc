{
 "cells": [
  {
   "cell_type": "markdown",
   "id": "cfcf1918",
   "metadata": {},
   "source": [
    "# Exam: MA-INF4316 Graph Representation Learning\n",
    "\n",
    "- Wintersemester 2021/2022\n",
    "- Exam: 1\n",
    "- Date 2022-02-21\n",
    "- Examiner: Dr. Pascal Welke\n",
    "\n",
    "### To be filled by the student\n",
    "- Name: Aleksei\n",
    "- Given Name: Zhuravlev\n",
    "- Matriculation number:\n",
    "- Course of Studies: MSc Computer Science\n",
    "\n",
    "(Please enter your data here)"
   ]
  },
  {
   "cell_type": "markdown",
   "id": "1fb8b009",
   "metadata": {},
   "source": [
    "# Task 4.1"
   ]
  },
  {
   "cell_type": "code",
   "execution_count": 1,
   "id": "b7d50316",
   "metadata": {},
   "outputs": [],
   "source": [
    "import grakel"
   ]
  },
  {
   "cell_type": "code",
   "execution_count": 2,
   "id": "49a50847",
   "metadata": {},
   "outputs": [],
   "source": [
    "from grakel.datasets import fetch_dataset\n",
    "DATASET = fetch_dataset(\"MUTAG\", verbose=False, as_graphs=True)\n",
    "graphs = DATASET.data\n",
    "labels = DATASET.target"
   ]
  },
  {
   "cell_type": "code",
   "execution_count": 3,
   "id": "7509db9c",
   "metadata": {},
   "outputs": [],
   "source": [
    "rwk = grakel.RandomWalk(lamda=0.0001, kernel_type='geometric', method_type='fast')"
   ]
  },
  {
   "cell_type": "code",
   "execution_count": 4,
   "id": "b223c19d",
   "metadata": {},
   "outputs": [],
   "source": [
    "kernel = rwk.fit_transform(graphs)"
   ]
  },
  {
   "cell_type": "code",
   "execution_count": 5,
   "id": "adf0b722",
   "metadata": {},
   "outputs": [
    {
     "data": {
      "text/plain": [
       "array([[18624617.85594907, 14242096.79565822, 14242096.79565822, ...,\n",
       "        13146588.40736175, 23007138.91629849, 17529109.46768189],\n",
       "       [14242096.79565822, 10890817.8791033 , 10890817.8791033 , ...,\n",
       "        10053091.34816023, 17593375.71225793, 13404370.26473753],\n",
       "       [14242096.79565822, 10890817.8791033 , 10890817.8791033 , ...,\n",
       "        10053091.34816023, 17593375.71225793, 13404370.26473753],\n",
       "       ...,\n",
       "       [13146588.40736175, 10053091.34816023, 10053091.34816023, ...,\n",
       "         9279803.11270956, 16240085.46660462, 12373300.17193175],\n",
       "       [23007138.91629849, 17593375.71225793, 17593375.71225793, ...,\n",
       "        16240085.46660462, 28420902.12041142, 21653848.67068137],\n",
       "       [17529109.46768189, 13404370.26473754, 13404370.26473754, ...,\n",
       "        12373300.17193175, 21653848.67068137, 16498039.37490366]])"
      ]
     },
     "execution_count": 5,
     "metadata": {},
     "output_type": "execute_result"
    }
   ],
   "source": [
    "import numpy as np\n",
    "\n",
    "gram_matrix = np.array(kernel) @ np.array(kernel).T\n",
    "gram_matrix"
   ]
  },
  {
   "cell_type": "code",
   "execution_count": 6,
   "id": "f5364d94",
   "metadata": {},
   "outputs": [
    {
     "name": "stdout",
     "output_type": "stream",
     "text": [
      "G_45-G_84: 529.2917850770382\n",
      "G_23-G_42: 513.2905893228317\n",
      "G_87-G_87: 144.05763137538378\n"
     ]
    }
   ],
   "source": [
    "print(f'G_45-G_84: {kernel[45][84]}')\n",
    "print(f'G_23-G_42: {kernel[23][42]}')\n",
    "print(f'G_87-G_87: {kernel[87][87]}')"
   ]
  },
  {
   "cell_type": "markdown",
   "id": "94d10f89",
   "metadata": {},
   "source": [
    "# Task 4.2"
   ]
  },
  {
   "cell_type": "code",
   "execution_count": 7,
   "id": "b200a3b5",
   "metadata": {},
   "outputs": [],
   "source": [
    "from sklearn.model_selection import cross_validate\n",
    "from sklearn.metrics import recall_score\n",
    "from sklearn import svm\n",
    "\n",
    "scoring = ['accuracy']\n",
    "clf = svm.SVC(kernel='linear', C=1, random_state=0)\n",
    "scores = cross_validate(clf, kernel, labels, scoring=scoring, cv=10)"
   ]
  },
  {
   "cell_type": "code",
   "execution_count": 8,
   "id": "db59af43",
   "metadata": {},
   "outputs": [
    {
     "name": "stdout",
     "output_type": "stream",
     "text": [
      "mean accuracy: 0.791812865497076, std 0.07890187123051665\n"
     ]
    }
   ],
   "source": [
    "print(f'mean accuracy: {np.mean(scores[\"test_accuracy\"])}, std {np.std(scores[\"test_accuracy\"])}')"
   ]
  },
  {
   "cell_type": "markdown",
   "id": "82d70d04",
   "metadata": {},
   "source": [
    "# Task 4.3"
   ]
  },
  {
   "cell_type": "code",
   "execution_count": 9,
   "id": "b2bfc065",
   "metadata": {},
   "outputs": [
    {
     "name": "stdout",
     "output_type": "stream",
     "text": [
      "lambda 0.001\n",
      "[[290.45251269 222.07010608 222.07010608]\n",
      " [222.07010608 169.78837985 169.78837985]\n",
      " [222.07010608 169.78837985 169.78837985]]\n",
      "lambda 0.01\n",
      "[[304.33785326 232.28317307 232.28317307]\n",
      " [232.28317307 177.30075089 177.30075089]\n",
      " [232.28317307 177.30075089 177.30075089]]\n",
      "lambda 0.1\n",
      "[[637.43291573 469.03596206 469.03596206]\n",
      " [469.03596206 345.90763142 345.90763142]\n",
      " [469.03596206 345.90763142 345.90763142]]\n",
      "lambda 0.2\n",
      "[[ -800.56842712 -1342.61280833 -1342.61280833]\n",
      " [-1342.61280833  -828.62628264  -828.62628264]\n",
      " [-1342.61280833  -828.62628264  -828.62628264]]\n",
      "lambda 0.5\n",
      "[[ -74.06716166  -47.86646267  -47.86646266]\n",
      " [ -47.86646267 -146.74251374 -146.74251366]\n",
      " [ -47.86646266 -146.74251366 -146.74251377]]\n"
     ]
    },
    {
     "name": "stderr",
     "output_type": "stream",
     "text": [
      "C:\\ProgramData\\Anaconda3\\lib\\site-packages\\grakel\\kernels\\random_walk.py:128: UserWarning: random-walk series may fail to converge\n",
      "  warnings.warn('random-walk series may fail to converge')\n"
     ]
    },
    {
     "name": "stdout",
     "output_type": "stream",
     "text": [
      "lambda 0.9\n",
      "[[-113.40220843  -90.06825448  -90.06825448]\n",
      " [ -90.06825448  -79.71453614  -79.71453611]\n",
      " [ -90.06825448  -79.71453611  -79.71453619]]\n"
     ]
    }
   ],
   "source": [
    "small = graphs[:50]\n",
    "\n",
    "for lambda_ in [0.001, 0.01, 0.1, 0.2, 0.5, 0.9]:\n",
    "    rwk_small = grakel.RandomWalk(lamda=lambda_, kernel_type='geometric', method_type='fast')\n",
    "    kernel_small = rwk_small.fit_transform(small)\n",
    "    print('lambda', lambda_)\n",
    "    print(kernel_small[:3, :3])"
   ]
  },
  {
   "cell_type": "markdown",
   "id": "8d42c307",
   "metadata": {},
   "source": [
    "Analysis: lambda 0.001 and 0.01 are suitable, higher lambdas are not. The geometric random walk kernel converges only if $\\lambda < \\frac{1}{\\lambda_x}$, where $\\lambda_x$ is the largest eigenvalue of adjacency matrix of the product graph of two respective graphs."
   ]
  },
  {
   "cell_type": "markdown",
   "id": "bb3c279c",
   "metadata": {},
   "source": [
    "# Task 4.4"
   ]
  },
  {
   "cell_type": "code",
   "execution_count": 10,
   "id": "a86ab08f",
   "metadata": {},
   "outputs": [
    {
     "name": "stdout",
     "output_type": "stream",
     "text": [
      "G_0-G_43: 289.14448468842784, G_0-G_0: 289.14448468842784, G_43-G_43: 289.14448468842784\n",
      "G_0-G_69: 238.11406811874224, G_0-G_0: 289.14448468842784, G_43-G_43: 196.0900547909938\n"
     ]
    }
   ],
   "source": [
    "print(f'G_0-G_43: {kernel[0][43]}, G_0-G_0: {kernel[0][0]}, G_43-G_43: {kernel[43][43]}')\n",
    "print(f'G_0-G_69: {kernel[0][69]}, G_0-G_0: {kernel[0][0]}, G_43-G_43: {kernel[69][69]}')"
   ]
  },
  {
   "cell_type": "markdown",
   "id": "af3cffd3",
   "metadata": {},
   "source": [
    "G_0 and G_43 are isomorphic, because the entries in kernel corresponding to G_0-G_43, G_0-G_0, and G_43-G_43 are equal.\n",
    "G_0 and G_69 are not isomorphic because the corresponding entries are different"
   ]
  },
  {
   "cell_type": "markdown",
   "id": "bb9b99a2",
   "metadata": {},
   "source": [
    "# Task 4.5"
   ]
  },
  {
   "cell_type": "code",
   "execution_count": 15,
   "id": "3a97da87",
   "metadata": {},
   "outputs": [
    {
     "name": "stdout",
     "output_type": "stream",
     "text": [
      "-4.547473508864641e-13 64.04843847029952 0.0\n"
     ]
    }
   ],
   "source": [
    "distance_matrix = np.zeros((len(graphs), len(graphs)))\n",
    "for i in range(len(graphs)):\n",
    "    for j in range(len(graphs)):\n",
    "        distance_matrix[i, j] = kernel[i, i] + kernel[j, j] - 2 * kernel[i, j]\n",
    "                   \n",
    "print(distance_matrix[45, 84], distance_matrix[23, 42], distance_matrix[187, 187])"
   ]
  },
  {
   "cell_type": "markdown",
   "id": "bbc6f2bc",
   "metadata": {},
   "source": [
    "# Task 4.6"
   ]
  },
  {
   "cell_type": "code",
   "execution_count": 17,
   "id": "ac1e875d",
   "metadata": {},
   "outputs": [
    {
     "name": "stdout",
     "output_type": "stream",
     "text": [
      "0.0 64.04843847029952 0.0\n"
     ]
    }
   ],
   "source": [
    "distance_matrix = np.clip(distance_matrix, 0, np.inf)\n",
    "print(distance_matrix[45, 84], distance_matrix[23, 42], distance_matrix[187, 187])"
   ]
  },
  {
   "cell_type": "markdown",
   "id": "1db42edf",
   "metadata": {},
   "source": [
    "# Task 4.7"
   ]
  },
  {
   "cell_type": "code",
   "execution_count": 18,
   "id": "d7fcf8aa",
   "metadata": {},
   "outputs": [
    {
     "name": "stderr",
     "output_type": "stream",
     "text": [
      "C:\\ProgramData\\Anaconda3\\lib\\site-packages\\sklearn\\manifold\\_t_sne.py:780: FutureWarning: The default initialization in TSNE will change from 'random' to 'pca' in 1.2.\n",
      "  warnings.warn(\n",
      "C:\\ProgramData\\Anaconda3\\lib\\site-packages\\sklearn\\manifold\\_t_sne.py:790: FutureWarning: The default learning rate in TSNE will change from 200.0 to 'auto' in 1.2.\n",
      "  warnings.warn(\n",
      "C:\\ProgramData\\Anaconda3\\lib\\site-packages\\sklearn\\manifold\\_t_sne.py:819: FutureWarning: 'square_distances' has been introduced in 0.24 to help phase out legacy squaring behavior. The 'legacy' setting will be removed in 1.1 (renaming of 0.26), and the default setting will be changed to True. In 1.3, 'square_distances' will be removed altogether, and distances will be squared by default. Set 'square_distances'=True to silence this warning.\n",
      "  warnings.warn(\n"
     ]
    },
    {
     "data": {
      "image/png": "[encoded data removed]",
      "text/plain": [
       "<Figure size 432x288 with 1 Axes>"
      ]
     },
     "metadata": {
      "needs_background": "light"
     },
     "output_type": "display_data"
    }
   ],
   "source": [
    "from sklearn.manifold import TSNE\n",
    "import matplotlib.pyplot as plt\n",
    "\n",
    "tsne = TSNE(n_components=2, random_state=0, metric='precomputed')\n",
    "emb = tsne.fit_transform(distance_matrix)\n",
    "plt.scatter(emb[:, 0], emb[:, 1], c=DATASET.target)\n",
    "plt.show()"
   ]
  },
  {
   "cell_type": "markdown",
   "id": "1e77e6bc",
   "metadata": {},
   "source": [
    "Analysis: t-SNE outputs 2d data in such a way that similar objects are modeled by nearby points and dissimilar objects are modeled by distant points. According to the plot, the dataset can be divided into two groups of similar entries (there are some outliers, but not too many). Since graph isomorphism can be thought of as a measure of how 'similar' the graphs are, random walk kernels are well suited for classifying the MUTAG dataset. "
   ]
  },
  {
   "cell_type": "code",
   "execution_count": null,
   "id": "f3cd8e9f",
   "metadata": {},
   "outputs": [],
   "source": []
  }
 ],
 "metadata": {
  "kernelspec": {
   "display_name": "Python 3 (ipykernel)",
   "language": "python",
   "name": "python3"
  },
  "language_info": {
   "codemirror_mode": {
    "name": "ipython",
    "version": 3
   },
   "file_extension": ".py",
   "mimetype": "text/x-python",
   "name": "python",
   "nbconvert_exporter": "python",
   "pygments_lexer": "ipython3",
   "version": "3.9.12"
  }
 },
 "nbformat": 4,
 "nbformat_minor": 5
}
