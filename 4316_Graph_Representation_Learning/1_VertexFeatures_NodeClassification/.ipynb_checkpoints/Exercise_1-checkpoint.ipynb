{
 "cells": [
  {
   "cell_type": "code",
   "execution_count": 18,
   "id": "48c3241e",
   "metadata": {},
   "outputs": [],
   "source": [
    "import igraph\n",
    "import numpy as np\n",
    "import time\n",
    "import sklearn"
   ]
  },
  {
   "cell_type": "code",
   "execution_count": 2,
   "id": "7ac2e474",
   "metadata": {},
   "outputs": [],
   "source": [
    "# TASK 1"
   ]
  },
  {
   "cell_type": "code",
   "execution_count": 93,
   "id": "9d2da0c3",
   "metadata": {},
   "outputs": [],
   "source": [
    "# loading the graph into memory\n",
    "g = igraph.Graph.Read_Pickle('ogbn-arxiv.pickle')"
   ]
  },
  {
   "cell_type": "code",
   "execution_count": 4,
   "id": "22120046",
   "metadata": {},
   "outputs": [
    {
     "name": "stdout",
     "output_type": "stream",
     "text": [
      "number of vertices: 169343\n",
      "number of edges: 1166243\n"
     ]
    }
   ],
   "source": [
    "print(f'number of vertices: {len(g.vs)}')\n",
    "print(f'number of edges: {len(g.es)}')"
   ]
  },
  {
   "cell_type": "code",
   "execution_count": 5,
   "id": "746b0e51",
   "metadata": {},
   "outputs": [
    {
     "name": "stdout",
     "output_type": "stream",
     "text": [
      "most cited papers: [array([2014], dtype=int64)],\n",
      "[13161] citations\n",
      " subject areas: [array([24], dtype=int64)]\n"
     ]
    }
   ],
   "source": [
    "# finding the node with highest degree, i.e. the most cited paper\n",
    "most_cited = g.vs.select(_degree=g.maxdegree())\n",
    "print(f\"most cited papers: {most_cited['year']},\\n\"\n",
    "      f\"{most_cited.degree()} citations\\n\", \n",
    "      f\"subject areas: {most_cited['label']}\")"
   ]
  },
  {
   "cell_type": "code",
   "execution_count": 6,
   "id": "9b1555e9",
   "metadata": {},
   "outputs": [],
   "source": [
    "# TASK 2"
   ]
  },
  {
   "cell_type": "code",
   "execution_count": 7,
   "id": "9b4b2bc5",
   "metadata": {},
   "outputs": [
    {
     "name": "stdout",
     "output_type": "stream",
     "text": [
      "train_set: 120740 entries\n",
      "test_set: 48603 entries\n"
     ]
    }
   ],
   "source": [
    "train_set = g.vs.select(year_lt=2019)\n",
    "test_set = g.vs.select(year_ge=2019)\n",
    "print(f'train_set: {len(train_set)} entries')\n",
    "print(f'test_set: {len(test_set)} entries')"
   ]
  },
  {
   "cell_type": "code",
   "execution_count": 8,
   "id": "3f42b7bd",
   "metadata": {},
   "outputs": [],
   "source": [
    "# TASK 3"
   ]
  },
  {
   "cell_type": "markdown",
   "id": "fd81040a",
   "metadata": {},
   "source": [
    "Lemma 1 Let G be a graph and v ∈ V (G). Then, $∆(v) = |E(G[N (v)])|$\n",
    "\n",
    "We need to calculate the number of triangle subgraphs of G that contain v.\n",
    "By definition, the neighbourhood N(v) of a vertex v in a graph G is the subgraph of G induced by all vertices adjacent to v. Since there is an edge between each node in N(v) and v, to complete a triangle between two neighbor nodes and v, we need those neighbor nodes to be connected by edge. As a result, the number of number of triangle subgraphs of G that contain v will simply be the number of edges in the neighborhood of v."
   ]
  },
  {
   "cell_type": "code",
   "execution_count": 9,
   "id": "b11f3212",
   "metadata": {},
   "outputs": [
    {
     "name": "stdout",
     "output_type": "stream",
     "text": [
      "number of triangles for first 10 vertices:\n",
      "[1460    1   20    1   12    0    0    1    0    2]\n",
      "time taken: 29.17\n"
     ]
    }
   ],
   "source": [
    "# TASK 3.1\n",
    "\n",
    "# for each vertex, getting the list of its neighbors,\n",
    "# selecting a subgraph that consists only of the neighbors\n",
    "# and calculating the number of edges in it. The number of triangles  is \n",
    "# equal to the number of the edges.\n",
    "triangles_list = np.zeros(len(g.vs), dtype=int)\n",
    "\n",
    "time_start = time.time()\n",
    "for i, vertex in enumerate(g.vs):\n",
    "    neighbors = vertex.neighbors()\n",
    "    subgraph = g.induced_subgraph(neighbors)\n",
    "    triangles_list[i] = len(subgraph.es)\n",
    "print(f'number of triangles for first 10 vertices:')\n",
    "print(triangles_list[0:10])\n",
    "print(f'time taken: {time.time() - time_start:.2f}')"
   ]
  },
  {
   "cell_type": "code",
   "execution_count": 98,
   "id": "2731e8f4",
   "metadata": {},
   "outputs": [
    {
     "name": "stdout",
     "output_type": "stream",
     "text": [
      "pageranks: 0.593s\n",
      "corenesses: 0.215s\n",
      "eigen_centralities: 2.382s\n",
      "degrees: 0.004s\n",
      "in_degrees: 0.003s\n",
      "out_degrees: 0.003s\n",
      "[2.39521875e-06 2.00000000e+00 1.34803997e-19 1.00000000e+00\n",
      " 1.00000000e+00 2.00000000e+00]\n"
     ]
    }
   ],
   "source": [
    "# TASK 3.2\n",
    "\n",
    "def check_time(method_name):\n",
    "    global time_start\n",
    "    print(f\"{method_name}: {time.time() - time_start:.3f}s\")\n",
    "    time_start = time.time()\n",
    "\n",
    "time_start = time.time()\n",
    "pageranks = g.pagerank()\n",
    "check_time('pageranks')\n",
    "\n",
    "corenesses = g.coreness()\n",
    "check_time('corenesses')\n",
    "\n",
    "eigen_centralities = g.eigenvector_centrality()\n",
    "check_time('eigen_centralities')\n",
    "\n",
    "degrees = g.degree(g.vs)\n",
    "check_time('degrees')\n",
    "\n",
    "in_degrees = g.indegree(g.vs)\n",
    "check_time('in_degrees')\n",
    "\n",
    "out_degrees = g.outdegree(g.vs)\n",
    "check_time('out_degrees')\n",
    "\n",
    "features_graph_structure = np.transpose(np.array([\n",
    "    pageranks,\n",
    "    corenesses,\n",
    "    eigen_centralities,\n",
    "    in_degrees,\n",
    "    out_degrees,\n",
    "    degrees, \n",
    "]))\n",
    "print(features_graph_structure[1])"
   ]
  },
  {
   "cell_type": "code",
   "execution_count": 41,
   "id": "129b7bae",
   "metadata": {},
   "outputs": [],
   "source": [
    "# TASK 4"
   ]
  },
  {
   "cell_type": "code",
   "execution_count": 111,
   "id": "256bba82",
   "metadata": {},
   "outputs": [
    {
     "name": "stdout",
     "output_type": "stream",
     "text": [
      "accuracy when training on embedding data: 0.2747978519844454\n"
     ]
    }
   ],
   "source": [
    "from sklearn.tree import DecisionTreeClassifier\n",
    "from sklearn.metrics import accuracy_score\n",
    "\n",
    "# preparing training data and unpacking labels,\n",
    "# each article has only 1 subject area\n",
    "\n",
    "def train_decision_tree(graph):\n",
    "\n",
    "    train_set = graph.vs.select(year_lt=2019)\n",
    "    test_set = graph.vs.select(year_ge=2019)\n",
    "\n",
    "    X = train_set['attr']\n",
    "    y = [i[0] for i in train_set['label']]\n",
    "\n",
    "    tree_clf = DecisionTreeClassifier(max_depth=4)\n",
    "    tree_clf.fit(X, y)\n",
    "\n",
    "    predictions_emb = tree_clf.predict(test_set['attr'])\n",
    "    accuracy = accuracy_score(predictions_emb, test_set['label'])\n",
    "    return accuracy\n",
    "    \n",
    "acc_embed = train_decision_tree(g)\n",
    "print(f'accuracy when training on embedding data: {acc_embed}')"
   ]
  },
  {
   "cell_type": "code",
   "execution_count": 121,
   "id": "68e64aee",
   "metadata": {},
   "outputs": [
    {
     "name": "stdout",
     "output_type": "stream",
     "text": [
      "accuracy when training on own and neighbours' embedding data: 0.38168425817336377\n"
     ]
    }
   ],
   "source": [
    "# adding new feature:\n",
    "# mean neighbor embedding vector\n",
    "\n",
    "new_g = g.copy()\n",
    "\n",
    "for i, vertex in enumerate(g.vs):\n",
    "    neighbors = vertex.neighbors()\n",
    "    \n",
    "    neighb_embeds = np.zeros(len(vertex['attr']))\n",
    "    neighb_embeds += vertex['attr']\n",
    "\n",
    "    for n in neighbors:\n",
    "        neighb_embeds += n['attr']\n",
    "    neighb_embeds /= len(neighbors) + 1\n",
    "    \n",
    "    new_g.vs[i]['attr'] = np.concatenate((new_g.vs[i]['attr'], neighb_embeds))\n",
    "    \n",
    "acc_n_embed = train_decision_tree(new_g)\n",
    "print(f\"accuracy when training on own and neighbours' embedding data: {acc_n_embed}\")"
   ]
  },
  {
   "cell_type": "code",
   "execution_count": 123,
   "id": "8ecf8b04",
   "metadata": {},
   "outputs": [
    {
     "name": "stdout",
     "output_type": "stream",
     "text": [
      "accuracy when training on graph stracture: 0.16992778223566446\n"
     ]
    }
   ],
   "source": [
    "# replacing features with the ones based on graph structure\n",
    "\n",
    "new_g_1 = g.copy()\n",
    "\n",
    "for i in range(len(new_g_1.vs)):\n",
    "    new_g_1.vs[i]['attr'] = features_graph_structure[i]\n",
    "    \n",
    "acc_struct = train_decision_tree(new_g_1)\n",
    "print(f'accuracy when training on graph stracture: {acc_struct}')"
   ]
  },
  {
   "cell_type": "code",
   "execution_count": 117,
   "id": "2e189cc7",
   "metadata": {
    "scrolled": true
   },
   "outputs": [
    {
     "data": {
      "image/png": "[encoded data removed]",
      "text/plain": [
       "<Figure size 432x288 with 1 Axes>"
      ]
     },
     "metadata": {
      "needs_background": "light"
     },
     "output_type": "display_data"
    }
   ],
   "source": [
    "import matplotlib.pyplot as plt\n",
    "\n",
    "plt.axhline(y=acc_embed, color='r', linestyle='-', label='own embed')\n",
    "plt.axhline(y=acc_n_embed, color='b', linestyle='-', label = \"neighbors' embed\")\n",
    "plt.axhline(y=acc_struct, color='g', linestyle='-', label = \"structure\")\n",
    "plt.legend()\n",
    "\n",
    "plt.show()"
   ]
  }
 ],
 "metadata": {
  "kernelspec": {
   "display_name": "Python 3 (ipykernel)",
   "language": "python",
   "name": "python3"
  },
  "language_info": {
   "codemirror_mode": {
    "name": "ipython",
    "version": 3
   },
   "file_extension": ".py",
   "mimetype": "text/x-python",
   "name": "python",
   "nbconvert_exporter": "python",
   "pygments_lexer": "ipython3",
   "version": "3.9.12"
  }
 },
 "nbformat": 4,
 "nbformat_minor": 5
}
