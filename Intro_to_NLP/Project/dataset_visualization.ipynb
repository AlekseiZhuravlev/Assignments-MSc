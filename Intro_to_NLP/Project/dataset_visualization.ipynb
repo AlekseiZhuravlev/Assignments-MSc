{
 "cells": [
  {
   "cell_type": "code",
   "execution_count": 3,
   "metadata": {
    "collapsed": true
   },
   "outputs": [
    {
     "name": "stdout",
     "output_type": "stream",
     "text": [
      "ours_formal\n",
      "['do', \"n't\", 'ever', 'let', 'somebody', 'tell', 'you', 'that', 'you', 'can', 'not', 'do', 'something', ',', 'not', 'even', 'me', '.']\n",
      "['i', 'am', 'the', 'type', 'of', 'person', 'who', ',', 'if', 'you', 'ask', 'me', 'a', 'question', 'and', 'i', 'do', \"n't\", 'know', 'the', 'answer', ',', 'i', 'will', 'inform', 'you', 'that', 'i', 'do', 'not', 'know', '.']\n",
      "['however', ',', 'i', 'am', 'confident', 'that', 'i', 'have', 'the', 'skills', 'to', 'find', 'the', 'answer', 'and', 'will', 'do', 'so', '.']\n",
      "['there', 'is', 'an', \"'\", 'i', \"'\", 'in', '``', 'happiness', ',', \"''\", 'and', 'there', 'is', 'no', \"'\", 'y', '.', \"'\", 'it', 'is', 'spelled', 'with', 'an', \"'\", 'i', '.', \"'\"]\n",
      "['if', 'you', 'have', 'a', 'dream', ',', 'you', 'must', 'protect', 'it', '.']\n",
      "\n",
      "ours_informal\n",
      "['do', \"n't\", 'ever', 'let', 'somebody', 'tell', 'you', 'you', 'ca', \"n't\", 'do', 'something', ',', 'not', 'even', 'me', '.']\n",
      "['i', \"'m\", 'the', 'type', 'of', 'person', ',', 'if', 'you', 'ask', 'me', 'a', 'question', ',', 'and', 'i', 'do', \"n't\", 'know', 'the', 'answer', ',', 'i', \"'m\", 'gon', 'na', 'to', 'tell', 'you', 'that', 'i', 'do', \"n't\", 'know', '.']\n",
      "['but', 'i', 'bet', 'you', 'what', ':', 'i', 'know', 'how', 'to', 'find', 'the', 'answer', ',', 'and', 'i', \"'ll\", 'find', 'the', 'answer', '.']\n",
      "['there', 'is', 'an', 'i', 'in', '``', 'happiness', \"''\", ',', 'there', 'is', 'no', 'y', 'in', '``', 'happiness', \"''\", ',', 'it', \"'s\", 'an', 'i', '.']\n",
      "['you', 'got', 'a', 'dream', ',', 'you', 'got', 'ta', 'protect', 'it', '.']\n",
      "\n",
      "gyafc_formal\n",
      "['is', 'any', 'baby', 'really', 'a', 'freak', '.']\n",
      "['aspen', 'colorado', 'has', 'he', 'best', 'music', 'festivals', ',', 'you', 'sit', 'all', 'over', 'the', 'mountains', 'it', 'is', 'on', 'and', 'just', 'hang', 'out', '.']\n",
      "['you', 'can', 'get', 'almost', 'anything', 'on', 'ebay', '!']\n",
      "['everybody', 'is', 'dying', 'to', 'get', 'in', '.']\n",
      "['i', \"'m\", 'not', 'referring', 'to', 'people', 'like', '__NUM', 'cent', 'and', 'his', 'group', 'because', 'those', 'people', 'give', 'hip-hop', 'a', 'bad', 'name', '.']\n",
      "\n",
      "gyafc_informal\n",
      "['is', 'any', 'baby', 'really', 'a', 'freak', '.']\n",
      "['aspen', 'colorado', 'has', 'he', 'best', 'music', 'festivals', ',', 'you', 'sit', 'all', 'over', 'the', 'moutians', 'its', 'on', 'and', 'just', 'hang', 'out']\n",
      "['you', 'can', 'get', 'almost', 'anything', 'on', 'ebay', '!']\n",
      "['everybody', 'is', 'dying', 'to', 'get', 'in']\n",
      "['not', 'idiots', 'like', '__num', 'cent', 'and', 'his', 'whole', 'gay', 'unit.those', 'kinds', 'of', 'ppl', 'give', 'hip-hop', 'a', 'bad', 'name', '.']\n",
      "\n"
     ]
    }
   ],
   "source": [
    "import nltk\n",
    "# nltk.download('punkt')\n",
    "from nltk.tokenize import word_tokenize\n",
    "\n",
    "\n",
    "def read_data(file_path):\n",
    "    with open(file_path, 'r') as f:\n",
    "        lines = f.readlines()\n",
    "\n",
    "        # tokenize with nltk\n",
    "    lines = [word_tokenize(line) for line in lines]\n",
    "\n",
    "    # convert to lowercase\n",
    "    lines = [[token.lower() for token in line] for line in lines]\n",
    "\n",
    "    # if token contains digits, replace it with __NUM\n",
    "    for line in lines:\n",
    "        for i in range(len(line)):\n",
    "            if any(char.isdigit() for char in line[i]):\n",
    "                line[i] = '__NUM'\n",
    "\n",
    "    # join tokens into a sentence\n",
    "    # lines = [' '.join(line) for line in lines]\n",
    "\n",
    "    return lines\n",
    "\n",
    "data = {\n",
    "    'ours_formal': 'StyleINS/ours_formal.txt',\n",
    "    'ours_informal': 'StyleINS/ours_informal.txt',\n",
    "    'gyafc_formal': 'StyleINS/gyafc_test_formal.txt',\n",
    "    'gyafc_informal': 'StyleINS/gyafc_informal.txt',\n",
    "}\n",
    "\n",
    "# read data\n",
    "data = {k: read_data(v) for k, v in data.items()}\n",
    "\n",
    "# print first 5 sentences from each dataset\n",
    "for k, v in data.items():\n",
    "    print(k)\n",
    "    for line in v[:5]:\n",
    "        print(line)\n",
    "    print()"
   ]
  },
  {
   "cell_type": "code",
   "execution_count": 8,
   "outputs": [],
   "source": [
    "from nltk.metrics.distance import edit_distance\n",
    "\n",
    "def levenshtein_edit_distance(dataset_0, dataset_1):\n",
    "    edit_distances = []\n",
    "\n",
    "    for i in range(len(dataset_0)):\n",
    "        edit_distances.append(\n",
    "            edit_distance(\n",
    "                ' '.join(dataset_0[i]),\n",
    "                ' '.join(dataset_1[i])\n",
    "            )\n",
    "        )\n",
    "    return edit_distances\n",
    "\n",
    "edit_distances = {\n",
    "    'ours': levenshtein_edit_distance(data['ours_formal'], data['ours_informal']),\n",
    "    'gyafc': levenshtein_edit_distance(data['gyafc_formal'], data['gyafc_informal'])\n",
    "}"
   ],
   "metadata": {
    "collapsed": false
   }
  },
  {
   "cell_type": "code",
   "execution_count": 32,
   "outputs": [
    {
     "data": {
      "text/plain": "<Figure size 640x480 with 1 Axes>",
      "image/png": "[encoded data removed]"
     },
     "metadata": {},
     "output_type": "display_data"
    }
   ],
   "source": [
    "# create a diagram of edit distances, x axis: edit distances, bins of 10, 0 to 80, y axis: % of sentences\n",
    "import matplotlib.pyplot as plt\n",
    "import numpy as np\n",
    "import matplotlib.ticker as mtick\n",
    "from matplotlib.ticker import FuncFormatter\n",
    "\n",
    "\n",
    "# plt.style.use('seaborn-deep')\n",
    "\n",
    "fig, ax = plt.subplots()\n",
    "\n",
    "\n",
    "\n",
    "x = edit_distances['gyafc']\n",
    "y = edit_distances['ours']\n",
    "bins = np.linspace(0, 90, 10)\n",
    "\n",
    "ax.hist([x, y], bins, label=['GYAFC', 'ours'], density=True)\n",
    "ax.legend(loc='upper right')\n",
    "\n",
    "ax.set_title('Edit distance between formal and informal sentences')\n",
    "ax.set_xlabel('Edit distance')\n",
    "ax.set_ylabel('% of sentences')\n",
    "\n",
    "# set x axis ticks as [0, 10) with step 10\n",
    "ax.xaxis.set_major_locator(mtick.MultipleLocator(10))\n",
    "ax.yaxis.set_major_formatter(FuncFormatter(lambda y, _: f'{y*1000:.0f}‰'))\n",
    "\n",
    "# save figure to plots\n",
    "plt.savefig('plots/edit_distance.png')\n",
    "plt.show()\n"
   ],
   "metadata": {
    "collapsed": false
   }
  },
  {
   "cell_type": "code",
   "execution_count": null,
   "outputs": [],
   "source": [
    "from transformers import BertModel\n",
    "\n",
    "def sentence_embedding(sentence_0):\n",
    "    # create an embedding of a sentence with bert\n",
    "    # https://huggingface.co/transformers/model_doc/bert.html#bertmodel\n",
    "\n",
    "    # create a sentence embedding by averaging word embeddings\n",
    "\n",
    "    model = BertModel.from_pretrained('bert-base-uncased')\n",
    "    model.eval()\n",
    "\n",
    "    with torch.no_grad():\n",
    "        # encode sentences\n",
    "        encoded_0 = model(sentence_0)\n",
    "\n",
    "        # average word embeddings\n",
    "        embedding_0 = torch.mean(encoded_0[0], dim=1)\n",
    "        embedding_1 = torch.mean(encoded_1[0], dim=1)\n",
    "\n",
    "        # cosine similarity\n",
    "        similarity = torch.cosine_similarity(embedding_0, embedding_1, dim=1)\n",
    "\n",
    "        return similarity"
   ],
   "metadata": {
    "collapsed": false
   }
  }
 ],
 "metadata": {
  "kernelspec": {
   "display_name": "Python 3",
   "language": "python",
   "name": "python3"
  },
  "language_info": {
   "codemirror_mode": {
    "name": "ipython",
    "version": 2
   },
   "file_extension": ".py",
   "mimetype": "text/x-python",
   "name": "python",
   "nbconvert_exporter": "python",
   "pygments_lexer": "ipython2",
   "version": "2.7.6"
  }
 },
 "nbformat": 4,
 "nbformat_minor": 0
}
