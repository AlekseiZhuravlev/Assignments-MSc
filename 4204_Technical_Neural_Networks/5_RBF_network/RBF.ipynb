{
 "cells": [
  {
   "cell_type": "code",
   "execution_count": 122,
   "id": "9c780548",
   "metadata": {},
   "outputs": [],
   "source": [
    "import numpy as np\n",
    "import re\n",
    "import requests\n",
    "from sklearn.cluster import KMeans\n",
    "import matplotlib.pyplot as plt\n",
    "\n",
    "np.random.seed(0)"
   ]
  },
  {
   "cell_type": "code",
   "execution_count": 241,
   "id": "b11c80fd",
   "metadata": {},
   "outputs": [
    {
     "name": "stdout",
     "output_type": "stream",
     "text": [
      "# WS22/23_TNN_Assignment_PA-A_data_File_No_1_PA-A_training_data_05.txt\n",
      "# P=8    N=6    M=2   \n",
      "0.0 0.0 0.0 0.0 1.0 0.0     0.1 0.9\n",
      "0.0 1.0 1.0 0.0 0.0 0.0     0.9 0.1\n",
      "0.0 0.0 1.0 0.0 0.0 0.0     0.1 0.1\n",
      "0.0 1.0 0.0 0.0 1.0 0.0     0.9 0.9\n",
      "0.0 1.0 0.0 0.0 0.0 0.0     0.9 0.1\n",
      "0.0 0.0 1.0 0.0 1.0 0.0     0.1 0.9\n",
      "1.0 1.0 0.0 0.0 0.0 0.0     0.9 0.1\n",
      "1.0 0.0 1.0 0.0 1.0 0.0     0.1 0.9\n",
      "\n",
      "\n",
      "P = 8, N = 6, M = 2\n",
      "X = [[0. 0. 0. 0. 1. 0.]\n",
      " [0. 1. 1. 0. 0. 0.]\n",
      " [0. 0. 1. 0. 0. 0.]\n",
      " [0. 1. 0. 0. 1. 0.]\n",
      " [0. 1. 0. 0. 0. 0.]\n",
      " [0. 0. 1. 0. 1. 0.]\n",
      " [1. 1. 0. 0. 0. 0.]\n",
      " [1. 0. 1. 0. 1. 0.]]\n",
      "y = [[0.1 0.9]\n",
      " [0.9 0.1]\n",
      " [0.1 0.1]\n",
      " [0.9 0.9]\n",
      " [0.9 0.1]\n",
      " [0.1 0.9]\n",
      " [0.9 0.1]\n",
      " [0.1 0.9]]\n"
     ]
    }
   ],
   "source": [
    "def parse_text_file(text):\n",
    "    data = text.split('\\n')\n",
    "    \n",
    "    # reading P, N, M using re\n",
    "    P, N, M = map(int, re.findall(r'\\d+', data[1]))\n",
    "    \n",
    "    X = np.zeros((P,N))\n",
    "    y = np.zeros((P,M))\n",
    "    for i, line in enumerate(data[2: 2 + P]):\n",
    "        nums = list(map(float, line.split()))\n",
    "        X[i] = nums[:N]\n",
    "        y[i] = nums[N:]\n",
    "    return P, N, M, X, y\n",
    "\n",
    "text_file = requests.get(\n",
    "  'https://raw.githubusercontent.com/AgentSamBond/Maching_learning_study/'\n",
    "  'main/4204_Technical_Neural_Networks/'\n",
    "  '1_Single_layer_perceptron/'\n",
    "  'PA-A_training_data_06.txt'\n",
    ").text\n",
    "print(text_file)\n",
    "\n",
    "P, N, M, X, y = parse_text_file(\n",
    "    text_file\n",
    "    )\n",
    "print(f'P = {P}, N = {N}, M = {M}')\n",
    "print('X =', X)\n",
    "print('y =', y)\n",
    "\n",
    "#K<P\n",
    "K = 6"
   ]
  },
  {
   "cell_type": "code",
   "execution_count": 242,
   "id": "4265b2bb",
   "metadata": {},
   "outputs": [],
   "source": [
    "class RBF:\n",
    "    def __init__(self, N, K, M):\n",
    "        self.N = N\n",
    "        self.M = M\n",
    "        self.K = K\n",
    "        \n",
    "        #weights\n",
    "        self.w = np.random.uniform(-0.5, 0.5, (self.K+1, self.M))\n",
    "        \n",
    "        #K RBF neurons [C, s]\n",
    "        self.C = np.random.uniform(0, 1, (self.K, self.N))\n",
    "        self.s = np.ones(self.K)\n",
    "        \n",
    "    def iterate(self, X):\n",
    "        self.r = [np.ones(8)]\n",
    "        for i in range(self.K):\n",
    "            d = np.linalg.norm(X-self.C[i], axis=1)\n",
    "            self.r.append(np.exp(-d**2/(2*(self.s[i]**2+0.000001))))\n",
    "        y = np.transpose(self.r)@self.w\n",
    "        return y\n",
    "    \n",
    "    def adjust_weights(self, y_pred, y, l = 0.1):\n",
    "        self.w = self.w+l*np.array(self.r)@(y-y_pred)\n",
    "    \n",
    "    def adjust_RBF(self, X):\n",
    "        #input data driven approach by k-means clustering\n",
    "        kmeans = KMeans(n_clusters=self.K).fit(X)\n",
    "        self.C = kmeans.cluster_centers_\n",
    "        X_dist = kmeans.transform(X)\n",
    "        X_dist = np.min(X_dist, axis=1)\n",
    "        for i in range(K):\n",
    "            self.s[i] = np.max(X_dist[np.where(kmeans.labels_ == i)])   \n",
    "    \n",
    "    def mean_square_error(self, y_pred, y):\n",
    "        return np.sqrt(((y_pred - y)**2).mean(axis=None))\n",
    "        "
   ]
  },
  {
   "cell_type": "code",
   "execution_count": 243,
   "id": "9ecad074",
   "metadata": {},
   "outputs": [
    {
     "name": "stdout",
     "output_type": "stream",
     "text": [
      "predictions: [[0.09643798 0.90346432]\n",
      " [0.53726991 0.06142346]\n",
      " [0.44834365 0.1059171 ]\n",
      " [0.89904685 0.5562208 ]\n",
      " [0.93424759 0.45804926]\n",
      " [0.09643802 0.90346428]\n",
      " [0.89643798 0.10346432]\n",
      " [0.09592629 0.90396198]]\n"
     ]
    },
    {
     "data": {
      "image/png": "[encoded data removed]",
      "text/plain": [
       "<Figure size 640x480 with 1 Axes>"
      ]
     },
     "metadata": {},
     "output_type": "display_data"
    }
   ],
   "source": [
    "model = RBF(N=N, M=M, K=K)\n",
    "model.adjust_RBF(X)\n",
    "\n",
    "f = open(\"learning curve.txt\", \"w\")\n",
    "cycles_RBF = []\n",
    "for i in range(1000):\n",
    "        y_pred = model.iterate(X)\n",
    "        model.adjust_weights(y_pred, y)\n",
    "        cycles_RBF.append([\n",
    "            i,\n",
    "            model.mean_square_error(y_pred, y)\n",
    "        ])\n",
    "        f.write(str(model.mean_square_error(y_pred, y)))\n",
    "        f.write('\\n')\n",
    "f.close()\n",
    "print('predictions:', y_pred)\n",
    "\n",
    "x, y = zip(*cycles_RBF)\n",
    "plt.plot(x, y)\n",
    "plt.title('RBF')\n",
    "plt.show()"
   ]
  },
  {
   "cell_type": "code",
   "execution_count": 244,
   "id": "16420d46",
   "metadata": {},
   "outputs": [
    {
     "name": "stdout",
     "output_type": "stream",
     "text": [
      "# WS22/23_TNN_Assignment_PA-A_data_File_No_1_PA-A_training_data_05.txt\n",
      "# P=8    N=6    M=2   \n",
      "0.0 0.0 0.0 0.0 1.0 0.0     0.1 0.9\n",
      "0.0 1.0 1.0 0.0 0.0 0.0     0.9 0.1\n",
      "0.0 0.0 1.0 0.0 0.0 0.0     0.1 0.1\n",
      "0.0 1.0 0.0 0.0 1.0 0.0     0.9 0.9\n",
      "0.0 1.0 0.0 0.0 0.0 0.0     0.9 0.1\n",
      "0.0 0.0 1.0 0.0 1.0 0.0     0.1 0.9\n",
      "1.0 1.0 0.0 0.0 0.0 0.0     0.9 0.1\n",
      "1.0 0.0 1.0 0.0 1.0 0.0     0.1 0.9\n",
      "\n",
      "\n",
      "P = 8, N = 6, M = 2\n",
      "X = [[0. 0. 0. 0. 1. 0.]\n",
      " [0. 1. 1. 0. 0. 0.]\n",
      " [0. 0. 1. 0. 0. 0.]\n",
      " [0. 1. 0. 0. 1. 0.]\n",
      " [0. 1. 0. 0. 0. 0.]\n",
      " [0. 0. 1. 0. 1. 0.]\n",
      " [1. 1. 0. 0. 0. 0.]\n",
      " [1. 0. 1. 0. 1. 0.]]\n",
      "y = [[0.1 0.9]\n",
      " [0.9 0.1]\n",
      " [0.1 0.1]\n",
      " [0.9 0.9]\n",
      " [0.9 0.1]\n",
      " [0.1 0.9]\n",
      " [0.9 0.1]\n",
      " [0.1 0.9]]\n",
      "predictions: [[0.09643846 0.90346385]\n",
      " [0.53729179 0.06140217]\n",
      " [0.44832053 0.10593958]\n",
      " [0.8990237  0.55624331]\n",
      " [0.93426945 0.458028  ]\n",
      " [0.09643849 0.90346382]\n",
      " [0.89643846 0.10346385]\n",
      " [0.09592683 0.90396145]]\n"
     ]
    }
   ],
   "source": [
    "#validation\n",
    "text_file = requests.get(\n",
    "  'https://raw.githubusercontent.com/AgentSamBond/Maching_learning_study/main/'\n",
    "  '4204_Technical_Neural_Networks/1_Single_layer_perceptron/'\n",
    "  'PA-A_training_data_06.txt'\n",
    ").text\n",
    "print(text_file)\n",
    "\n",
    "P, N, M, X, y = parse_text_file(\n",
    "    text_file\n",
    "    )\n",
    "print(f'P = {P}, N = {N}, M = {M}')\n",
    "print('X =', X)\n",
    "print('y =', y)\n",
    "\n",
    "y_pred = model.iterate(X)\n",
    "print('predictions:', y_pred)"
   ]
  },
  {
   "cell_type": "code",
   "execution_count": null,
   "id": "46b58c46",
   "metadata": {},
   "outputs": [],
   "source": []
  }
 ],
 "metadata": {
  "kernelspec": {
   "display_name": "Python 3 (ipykernel)",
   "language": "python",
   "name": "python3"
  },
  "language_info": {
   "codemirror_mode": {
    "name": "ipython",
    "version": 3
   },
   "file_extension": ".py",
   "mimetype": "text/x-python",
   "name": "python",
   "nbconvert_exporter": "python",
   "pygments_lexer": "ipython3",
   "version": "3.9.13"
  }
 },
 "nbformat": 4,
 "nbformat_minor": 5
}
