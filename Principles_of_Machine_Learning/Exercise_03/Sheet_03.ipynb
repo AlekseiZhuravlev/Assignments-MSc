{
 "cells": [
  {
   "cell_type": "markdown",
   "id": "0dcef5dc-aeb2-4650-9de3-533fe8e6c486",
   "metadata": {},
   "source": [
    "## Task 3.2"
   ]
  },
  {
   "cell_type": "markdown",
   "id": "c18c7e25-792a-47a1-8625-89db7a7c35d8",
   "metadata": {},
   "source": [
    "### task 3.1.1"
   ]
  },
  {
   "cell_type": "code",
   "execution_count": 38,
   "id": "72e5cf49-41e8-45dd-85d1-5f256e6ed404",
   "metadata": {
    "tags": []
   },
   "outputs": [
    {
     "data": {
      "text/plain": [
       "array([[-3, -4, -5, -6],\n",
       "       [-1, -2, -3, -4]])"
      ]
     },
     "execution_count": 38,
     "metadata": {},
     "output_type": "execute_result"
    }
   ],
   "source": [
    "import numpy as np\n",
    "\n",
    "def diffMatrix(u, v):\n",
    "    return np.subtract.outer(u, v)\n",
    "    \n",
    "u = [1, 3]\n",
    "v = [4, 5, 6, 7]\n",
    "diffMatrix(u, v)"
   ]
  },
  {
   "cell_type": "code",
   "execution_count": 22,
   "id": "51570490-646e-46a9-8cc4-117b9d2f6008",
   "metadata": {
    "tags": []
   },
   "outputs": [
    {
     "name": "stdout",
     "output_type": "stream",
     "text": [
      "[[ 0. -1. -2.]\n",
      " [ 1.  0. -1.]\n",
      " [ 2.  1.  0.]\n",
      " [ 3.  2.  1.]]\n"
     ]
    }
   ],
   "source": [
    "def diffMatrix(u, v):\n",
    "    M = np.zeros((max(len(u), len(v)), min(len(u), len(v))))\n",
    "    for i in range(max(len(u), len(v))):\n",
    "        for j in range(min(len(u), len(v))):\n",
    "            if(len(u) < len(v)):\n",
    "                M[i, j] = v[i] - u[j]\n",
    "            else:\n",
    "                M[i, j] = u[i] - v[j]\n",
    "    print(M)\n",
    "u = [1, 2, 3]\n",
    "v = [1, 2, 3, 4]\n",
    "diffMatrix(u, v)"
   ]
  },
  {
   "cell_type": "markdown",
   "id": "967a4152-d615-455c-bba1-c31bdf1844a4",
   "metadata": {},
   "source": [
    "### task 3.1.2"
   ]
  },
  {
   "cell_type": "code",
   "execution_count": 46,
   "id": "cf9cc708-48d3-4e4e-a2aa-5fe2ebd80477",
   "metadata": {
    "tags": []
   },
   "outputs": [
    {
     "data": {
      "text/plain": [
       "array([[ 4,  5,  6,  7],\n",
       "       [12, 15, 18, 21]])"
      ]
     },
     "execution_count": 46,
     "metadata": {},
     "output_type": "execute_result"
    }
   ],
   "source": [
    "def prodMatrix(u, v):\n",
    "    return np.multiply.outer(u, v)\n",
    "u = [1, 3]\n",
    "v = [4, 5, 6, 7]\n",
    "prodMatrix(u, v)"
   ]
  },
  {
   "cell_type": "code",
   "execution_count": 48,
   "id": "43e1d1c6-5ae4-4d99-8f92-2a745a7b2806",
   "metadata": {
    "tags": []
   },
   "outputs": [
    {
     "data": {
      "text/plain": [
       "array([[ 4.,  5.,  6.,  7.],\n",
       "       [12., 15., 18., 21.]])"
      ]
     },
     "execution_count": 48,
     "metadata": {},
     "output_type": "execute_result"
    }
   ],
   "source": [
    "def prodMatrix(u, v):\n",
    "    M = np.zeros((max(len(u), len(v)), min(len(u), len(v))))\n",
    "    for i in range(max(len(u), len(v))):\n",
    "        for j in range(min(len(u), len(v))):\n",
    "            if(len(u) < len(v)):\n",
    "                M[i, j] = v[i] * u[j]\n",
    "            else:\n",
    "                M[i, j] = u[i] * v[j]\n",
    "    return M.T\n",
    "u = np.array([1, 3])\n",
    "v = np.array([4, 5, 6, 7])\n",
    "prodMatrix(u, v)"
   ]
  },
  {
   "cell_type": "markdown",
   "id": "344bc3d5-f3b8-4dcc-940e-8b8fff9d459d",
   "metadata": {},
   "source": [
    "## Task 3.2"
   ]
  },
  {
   "cell_type": "markdown",
   "id": "2aed896a-a955-4bbe-ba39-30f0eedea552",
   "metadata": {},
   "source": [
    "### task 3.2.1"
   ]
  },
  {
   "cell_type": "code",
   "execution_count": 49,
   "id": "de9892e0-a294-4ce8-81d6-c6836ff992df",
   "metadata": {
    "tags": []
   },
   "outputs": [],
   "source": [
    "def linearKernelMatrix(alpha, u, v):\n",
    "    return alpha * np.multiply.outer(u, v)"
   ]
  },
  {
   "cell_type": "markdown",
   "id": "99748c6e-aeee-45d9-be5b-88ddd130a58a",
   "metadata": {},
   "source": [
    "### task 3.2.2"
   ]
  },
  {
   "cell_type": "code",
   "execution_count": 52,
   "id": "483d2160-7dc8-4530-bd9c-bb272754b9fd",
   "metadata": {
    "tags": []
   },
   "outputs": [
    {
     "data": {
      "text/plain": [
       "array([[0.9739574 , 0.40600585, 0.1318108 , 0.03332699],\n",
       "       [2.64749071, 1.81959198, 0.9739574 , 0.40600585]])"
      ]
     },
     "execution_count": 52,
     "metadata": {},
     "output_type": "execute_result"
    }
   ],
   "source": [
    "def gaussKernelMatrix(alpha, u, v, sigma):\n",
    "    return alpha * np.exp((-1) * np.subtract.outer(u, v) ** 2 / (2 * sigma ** 2))\n",
    "\n",
    "u = np.array([1, 3])\n",
    "v = np.array([4, 5, 6, 7])\n",
    "gaussKernelMatrix(3, u, v, 2)"
   ]
  },
  {
   "cell_type": "code",
   "execution_count": 53,
   "id": "14998fc5-9911-41a9-98b7-b72d354784a9",
   "metadata": {
    "tags": []
   },
   "outputs": [
    {
     "data": {
      "text/plain": [
       "array([[0.9739574 , 0.40600585, 0.1318108 , 0.03332699],\n",
       "       [2.64749071, 1.81959198, 0.9739574 , 0.40600585]])"
      ]
     },
     "execution_count": 53,
     "metadata": {},
     "output_type": "execute_result"
    }
   ],
   "source": [
    "def gaussKernelMatrix(alpha, u, v, sigma):\n",
    "    K = np.zeros((max(len(u), len(v)), min(len(u), len(v))))\n",
    "    for i in range(max(len(u), len(v))):\n",
    "        for j in range(min(len(u), len(v))):\n",
    "            if(len(u) < len(v)):\n",
    "                K[i, j] = alpha * np.exp((-1) * (v[i] - u[j]) ** 2 / (2 * sigma ** 2))\n",
    "            else:\n",
    "                K[i, j] = alpha * np.exp((-1) * (u[i] - v[j]) ** 2 / (2 * sigma ** 2))\n",
    "    return K.T\n",
    "u = np.array([1, 3])\n",
    "v = np.array([4, 5, 6, 7])\n",
    "gaussKernelMatrix(3, u, v, 2)"
   ]
  },
  {
   "cell_type": "markdown",
   "id": "1fa54c5b-892a-411c-a93b-a43b469130be",
   "metadata": {},
   "source": [
    "## Task 3.4"
   ]
  },
  {
   "cell_type": "code",
   "execution_count": 16,
   "id": "41d791da-3f68-4203-ae51-ddb8f1fec000",
   "metadata": {
    "tags": []
   },
   "outputs": [
    {
     "name": "stdout",
     "output_type": "stream",
     "text": [
      "Answer: teta_hat =  [41.75777847  6.98886267  0.         95.59333082]\n"
     ]
    }
   ],
   "source": [
    "import pandas as pd\n",
    "import numpy as np\n",
    "import scipy.optimize as opt\n",
    "\n",
    "def normalization(y):\n",
    "    y = np.array(y)\n",
    "    I = np.array(np.ones(len(y)))\n",
    "    return y - (np.outer(I.T, I) @ y) / len(y)\n",
    "\n",
    "def kernel_matrix(x, teta):\n",
    "    K = teta[0] * np.exp((-1) * (np.subtract.outer(x, x) ** 2) / (2 * teta[1] ** 2)) + teta[2] * np.multiply.outer(x, x) #+ teta[3] * np.diag(np.ones(len(x)))\n",
    "    return K\n",
    "\n",
    "def parameterized_matrix(K, teta):\n",
    "    return K + teta[3] * np.diag(np.ones(K.shape[0]))\n",
    "\n",
    "def negLikelihood(teta, x, y):\n",
    "    K = kernel_matrix(X, teta)\n",
    "    y_norm = normalization(y)\n",
    "    C = parameterized_matrix(K, teta)\n",
    "\n",
    "    det_C = np.linalg.det(C)\n",
    "    inv_C = np.linalg.inv(C)\n",
    "    res = np.dot(np.dot(y_norm, inv_C), y_norm) / 2\n",
    "    return np.log(det_C) / 2 + y_norm.T @ inv_C @ y_norm / 2\n",
    "\n",
    "def gaussian_proccess(X, y):\n",
    "    teta = [1.0, 20.0, 0.5, 1.0]\n",
    "\n",
    "    result = opt.minimize(negLikelihood, teta, args = (X, y), bounds=((0, None), (0, None), (0, None), (0, None)))\n",
    "    return result.x\n",
    "    \n",
    "df = pd.read_csv('whDatadat.sec', sep=' ')\n",
    "df = df.drop(['#', 'gender(m|f)', '(cm)'], axis = 1)\n",
    "df = df[((df['weight(kg)'] != -1) & (df['size'] != 'm'))]\n",
    "df = df.reset_index(drop=True)\n",
    "\n",
    "X = np.array(df['size'], dtype=np.int64)\n",
    "y = np.array(df['weight(kg)'], dtype=np.int64)\n",
    "teta_hat = gaussian_proccess(X, y)\n",
    "\n",
    "print(\"Answer: teta_hat = \", teta_hat)"
   ]
  },
  {
   "cell_type": "markdown",
   "id": "1bd7a867-6ad3-4df7-9542-b541feaf5593",
   "metadata": {},
   "source": [
    "## Task 3.5"
   ]
  },
  {
   "cell_type": "markdown",
   "id": "3f22de18-df77-4a15-9238-b12df95a91d9",
   "metadata": {},
   "source": [
    "### First Version"
   ]
  },
  {
   "cell_type": "code",
   "execution_count": 29,
   "id": "07fa2933-77b1-4b50-b132-480d753a4713",
   "metadata": {
    "tags": []
   },
   "outputs": [
    {
     "data": {
      "image/png": "[encoded data removed]",
      "text/plain": [
       "<Figure size 640x480 with 1 Axes>"
      ]
     },
     "metadata": {},
     "output_type": "display_data"
    }
   ],
   "source": [
    "import matplotlib.pyplot as plt\n",
    "import time\n",
    "def get_de_normalization(y_mean, y):\n",
    "    y = np.array(y)\n",
    "    I = np.array(np.ones(len(y)))\n",
    "    return y_mean + (np.outer(I.T, I) @ y) / len(y)\n",
    "\n",
    "start = time.time()\n",
    "\n",
    "df = pd.read_csv('whDatadat.sec', sep=' ')\n",
    "df = df.drop(['#', 'gender(m|f)', '(cm)'], axis = 1)\n",
    "df = df[((df['weight(kg)'] != -1) & (df['size'] != 'm'))]\n",
    "df = df.reset_index(drop=True)\n",
    "\n",
    "X = np.array(df['size'], dtype=np.int64)\n",
    "y = np.array(df['weight(kg)'], dtype=np.int64)\n",
    "teta_hat = gaussian_proccess(X, y)\n",
    "\n",
    "C = kernel_matrix(X, teta_hat) + teta_hat[3] * np.diag(np.ones(len(X)))\n",
    "\n",
    "y_mean_mark = np.random.multivariate_normal(mean = np.zeros(len(X)).T, cov = C)\n",
    "y_mark = get_de_normalization(y_mean_mark, y)\n",
    "end = time.time()\n",
    "\n",
    "first_time = end - start\n",
    "\n",
    "plt.plot(X, y, 'k.')\n",
    "plt.plot(X, y_mark, 'r.')\n",
    "\n",
    "plt.show()"
   ]
  },
  {
   "cell_type": "markdown",
   "id": "9752a204-1e3b-4c33-821f-3ec1d140eab3",
   "metadata": {
    "tags": []
   },
   "source": [
    "### Second Version"
   ]
  },
  {
   "cell_type": "code",
   "execution_count": 30,
   "id": "36151b6d-b20d-488f-ba99-3c381f9802bd",
   "metadata": {
    "tags": []
   },
   "outputs": [
    {
     "data": {
      "image/png": "[encoded data removed]",
      "text/plain": [
       "<Figure size 640x480 with 1 Axes>"
      ]
     },
     "metadata": {},
     "output_type": "display_data"
    }
   ],
   "source": [
    "import matplotlib.pyplot as plt\n",
    "def get_de_normalization(y_mean, y):\n",
    "    y = np.array(y)\n",
    "    I = np.array(np.ones(len(y)))\n",
    "    return y_mean + (np.outer(I.T, I) @ y) / len(y)\n",
    "\n",
    "start = time.time()\n",
    "df = pd.read_csv('whDatadat.sec', sep=' ')\n",
    "df = df.drop(['#', 'gender(m|f)', '(cm)'], axis = 1)\n",
    "df = df[((df['weight(kg)'] != -1) & (df['size'] != 'm'))]\n",
    "df = df.reset_index(drop=True)\n",
    "\n",
    "X = np.array(df['size'], dtype=np.int64)\n",
    "y = np.array(df['weight(kg)'], dtype=np.int64)\n",
    "teta_hat = gaussian_proccess(X, y)\n",
    "\n",
    "C = kernel_matrix(X, teta_hat) + teta_hat[3] * np.diag(np.ones(len(X)))\n",
    "L = np.linalg.cholesky(C)\n",
    "\n",
    "y_mean_mark = L @ np.random.multivariate_normal(mean = np.zeros(len(X)).T, cov = np.diag(np.ones(len(X))))\n",
    "y_mark = get_de_normalization(y_mean_mark, y)\n",
    "\n",
    "end = time.time()\n",
    "\n",
    "second_time = end - start\n",
    "\n",
    "plt.plot(X, y, 'k.')\n",
    "plt.plot(X, y_mark, 'r.')\n",
    "\n",
    "plt.show()"
   ]
  },
  {
   "cell_type": "code",
   "execution_count": 31,
   "id": "20f0a461-5003-4af9-b239-0bcca710e50b",
   "metadata": {
    "tags": []
   },
   "outputs": [
    {
     "name": "stdout",
     "output_type": "stream",
     "text": [
      "Computing time for First Version:  0.052237749099731445\n",
      "Computing time for Second Version:  0.05527472496032715\n"
     ]
    }
   ],
   "source": [
    "print(\"Computing time for First Version: \", first_time)\n",
    "print(\"Computing time for Second Version: \", second_time)"
   ]
  },
  {
   "cell_type": "code",
   "execution_count": null,
   "id": "14d835b4-ae5c-4def-9019-91517b4286e9",
   "metadata": {},
   "outputs": [],
   "source": []
  },
  {
   "cell_type": "code",
   "execution_count": null,
   "id": "8de6d91d-069e-4647-a2e4-ed31cfa36810",
   "metadata": {},
   "outputs": [],
   "source": []
  }
 ],
 "metadata": {
  "kernelspec": {
   "display_name": "Python 3 (ipykernel)",
   "language": "python",
   "name": "python3"
  },
  "language_info": {
   "codemirror_mode": {
    "name": "ipython",
    "version": 3
   },
   "file_extension": ".py",
   "mimetype": "text/x-python",
   "name": "python",
   "nbconvert_exporter": "python",
   "pygments_lexer": "ipython3",
   "version": "3.11.5"
  }
 },
 "nbformat": 4,
 "nbformat_minor": 5
}
