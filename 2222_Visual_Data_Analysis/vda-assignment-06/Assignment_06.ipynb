{
 "cells": [
  {
   "cell_type": "markdown",
   "source": [
    "# Task 1"
   ],
   "metadata": {
    "collapsed": false
   }
  },
  {
   "cell_type": "markdown",
   "source": [
    "1. Read the Breast Cancer Dataset breast-cancer-wisconsin.xlsx (from Sheet 3) and fill in the\n",
    "missing values as before. Then compute the Pearson correlation between any pair of variables,\n",
    "and store them in a matrix"
   ],
   "metadata": {
    "collapsed": false
   }
  },
  {
   "cell_type": "code",
   "execution_count": 1,
   "outputs": [
    {
     "data": {
      "text/plain": "      code  thickness  uniCelS  uniCelShape  marAdh  epiCelSize  bareNuc  \\\n0  1000025          5        1            1       1           2      1.0   \n1  1002945          5        4            4       5           7     10.0   \n2  1015425          3        1            1       1           2      2.0   \n3  1016277          6        8            8       1           3      4.0   \n4  1017023          4        1            1       3           2      1.0   \n\n   blaChroma  normNuc  mitoses  class  \n0          3        1        1      2  \n1          3        2        1      2  \n2          3        1        1      2  \n3          3        7        1      2  \n4          3        1        1      2  ",
      "text/html": "<div>\n<style scoped>\n    .dataframe tbody tr th:only-of-type {\n        vertical-align: middle;\n    }\n\n    .dataframe tbody tr th {\n        vertical-align: top;\n    }\n\n    .dataframe thead th {\n        text-align: right;\n    }\n</style>\n<table border=\"1\" class=\"dataframe\">\n  <thead>\n    <tr style=\"text-align: right;\">\n      <th></th>\n      <th>code</th>\n      <th>thickness</th>\n      <th>uniCelS</th>\n      <th>uniCelShape</th>\n      <th>marAdh</th>\n      <th>epiCelSize</th>\n      <th>bareNuc</th>\n      <th>blaChroma</th>\n      <th>normNuc</th>\n      <th>mitoses</th>\n      <th>class</th>\n    </tr>\n  </thead>\n  <tbody>\n    <tr>\n      <th>0</th>\n      <td>1000025</td>\n      <td>5</td>\n      <td>1</td>\n      <td>1</td>\n      <td>1</td>\n      <td>2</td>\n      <td>1.0</td>\n      <td>3</td>\n      <td>1</td>\n      <td>1</td>\n      <td>2</td>\n    </tr>\n    <tr>\n      <th>1</th>\n      <td>1002945</td>\n      <td>5</td>\n      <td>4</td>\n      <td>4</td>\n      <td>5</td>\n      <td>7</td>\n      <td>10.0</td>\n      <td>3</td>\n      <td>2</td>\n      <td>1</td>\n      <td>2</td>\n    </tr>\n    <tr>\n      <th>2</th>\n      <td>1015425</td>\n      <td>3</td>\n      <td>1</td>\n      <td>1</td>\n      <td>1</td>\n      <td>2</td>\n      <td>2.0</td>\n      <td>3</td>\n      <td>1</td>\n      <td>1</td>\n      <td>2</td>\n    </tr>\n    <tr>\n      <th>3</th>\n      <td>1016277</td>\n      <td>6</td>\n      <td>8</td>\n      <td>8</td>\n      <td>1</td>\n      <td>3</td>\n      <td>4.0</td>\n      <td>3</td>\n      <td>7</td>\n      <td>1</td>\n      <td>2</td>\n    </tr>\n    <tr>\n      <th>4</th>\n      <td>1017023</td>\n      <td>4</td>\n      <td>1</td>\n      <td>1</td>\n      <td>3</td>\n      <td>2</td>\n      <td>1.0</td>\n      <td>3</td>\n      <td>1</td>\n      <td>1</td>\n      <td>2</td>\n    </tr>\n  </tbody>\n</table>\n</div>"
     },
     "execution_count": 1,
     "metadata": {},
     "output_type": "execute_result"
    }
   ],
   "source": [
    "import pandas as pd\n",
    "\n",
    "df_bc = pd.read_excel('breast-cancer-wisconsin.xlsx')\n",
    "df_bc.head()"
   ],
   "metadata": {
    "collapsed": false
   }
  },
  {
   "cell_type": "code",
   "execution_count": 3,
   "outputs": [],
   "source": [
    "# fill missing values with mean column values\n",
    "df_bc.fillna(df_bc.mean(), inplace=True)"
   ],
   "metadata": {
    "collapsed": false
   }
  },
  {
   "cell_type": "code",
   "execution_count": 6,
   "outputs": [
    {
     "data": {
      "text/plain": "                 code  thickness   uniCelS  uniCelShape    marAdh  epiCelSize  \\\ncode         1.000000  -0.055308 -0.041603    -0.041576 -0.064878   -0.045528   \nthickness   -0.055308   1.000000  0.644913     0.654589  0.486356    0.521816   \nuniCelS     -0.041603   0.644913  1.000000     0.906882  0.705582    0.751799   \nuniCelShape -0.041576   0.654589  0.906882     1.000000  0.683079    0.719668   \nmarAdh      -0.064878   0.486356  0.705582     0.683079  1.000000    0.599599   \nepiCelSize  -0.045528   0.521816  0.751799     0.719668  0.599599    1.000000   \nbareNuc     -0.098668   0.587300  0.686801     0.709606  0.665049    0.581261   \nblaChroma   -0.060051   0.558428  0.755721     0.735948  0.666715    0.616102   \nnormNuc     -0.052072   0.535835  0.722865     0.719446  0.603352    0.628881   \nmitoses     -0.034901   0.350034  0.458693     0.438911  0.417633    0.479101   \nclass       -0.080226   0.716001  0.817904     0.818934  0.696800    0.682785   \n\n              bareNuc  blaChroma   normNuc   mitoses     class  \ncode        -0.098668  -0.060051 -0.052072 -0.034901 -0.080226  \nthickness    0.587300   0.558428  0.535835  0.350034  0.716001  \nuniCelS      0.686801   0.755721  0.722865  0.458693  0.817904  \nuniCelShape  0.709606   0.735948  0.719446  0.438911  0.818934  \nmarAdh       0.665049   0.666715  0.603352  0.417633  0.696800  \nepiCelSize   0.581261   0.616102  0.628881  0.479101  0.682785  \nbareNuc      1.000000   0.675896  0.577362  0.338740  0.816050  \nblaChroma    0.675896   1.000000  0.665878  0.344169  0.756616  \nnormNuc      0.577362   0.665878  1.000000  0.428336  0.712244  \nmitoses      0.338740   0.344169  0.428336  1.000000  0.423170  \nclass        0.816050   0.756616  0.712244  0.423170  1.000000  ",
      "text/html": "<div>\n<style scoped>\n    .dataframe tbody tr th:only-of-type {\n        vertical-align: middle;\n    }\n\n    .dataframe tbody tr th {\n        vertical-align: top;\n    }\n\n    .dataframe thead th {\n        text-align: right;\n    }\n</style>\n<table border=\"1\" class=\"dataframe\">\n  <thead>\n    <tr style=\"text-align: right;\">\n      <th></th>\n      <th>code</th>\n      <th>thickness</th>\n      <th>uniCelS</th>\n      <th>uniCelShape</th>\n      <th>marAdh</th>\n      <th>epiCelSize</th>\n      <th>bareNuc</th>\n      <th>blaChroma</th>\n      <th>normNuc</th>\n      <th>mitoses</th>\n      <th>class</th>\n    </tr>\n  </thead>\n  <tbody>\n    <tr>\n      <th>code</th>\n      <td>1.000000</td>\n      <td>-0.055308</td>\n      <td>-0.041603</td>\n      <td>-0.041576</td>\n      <td>-0.064878</td>\n      <td>-0.045528</td>\n      <td>-0.098668</td>\n      <td>-0.060051</td>\n      <td>-0.052072</td>\n      <td>-0.034901</td>\n      <td>-0.080226</td>\n    </tr>\n    <tr>\n      <th>thickness</th>\n      <td>-0.055308</td>\n      <td>1.000000</td>\n      <td>0.644913</td>\n      <td>0.654589</td>\n      <td>0.486356</td>\n      <td>0.521816</td>\n      <td>0.587300</td>\n      <td>0.558428</td>\n      <td>0.535835</td>\n      <td>0.350034</td>\n      <td>0.716001</td>\n    </tr>\n    <tr>\n      <th>uniCelS</th>\n      <td>-0.041603</td>\n      <td>0.644913</td>\n      <td>1.000000</td>\n      <td>0.906882</td>\n      <td>0.705582</td>\n      <td>0.751799</td>\n      <td>0.686801</td>\n      <td>0.755721</td>\n      <td>0.722865</td>\n      <td>0.458693</td>\n      <td>0.817904</td>\n    </tr>\n    <tr>\n      <th>uniCelShape</th>\n      <td>-0.041576</td>\n      <td>0.654589</td>\n      <td>0.906882</td>\n      <td>1.000000</td>\n      <td>0.683079</td>\n      <td>0.719668</td>\n      <td>0.709606</td>\n      <td>0.735948</td>\n      <td>0.719446</td>\n      <td>0.438911</td>\n      <td>0.818934</td>\n    </tr>\n    <tr>\n      <th>marAdh</th>\n      <td>-0.064878</td>\n      <td>0.486356</td>\n      <td>0.705582</td>\n      <td>0.683079</td>\n      <td>1.000000</td>\n      <td>0.599599</td>\n      <td>0.665049</td>\n      <td>0.666715</td>\n      <td>0.603352</td>\n      <td>0.417633</td>\n      <td>0.696800</td>\n    </tr>\n    <tr>\n      <th>epiCelSize</th>\n      <td>-0.045528</td>\n      <td>0.521816</td>\n      <td>0.751799</td>\n      <td>0.719668</td>\n      <td>0.599599</td>\n      <td>1.000000</td>\n      <td>0.581261</td>\n      <td>0.616102</td>\n      <td>0.628881</td>\n      <td>0.479101</td>\n      <td>0.682785</td>\n    </tr>\n    <tr>\n      <th>bareNuc</th>\n      <td>-0.098668</td>\n      <td>0.587300</td>\n      <td>0.686801</td>\n      <td>0.709606</td>\n      <td>0.665049</td>\n      <td>0.581261</td>\n      <td>1.000000</td>\n      <td>0.675896</td>\n      <td>0.577362</td>\n      <td>0.338740</td>\n      <td>0.816050</td>\n    </tr>\n    <tr>\n      <th>blaChroma</th>\n      <td>-0.060051</td>\n      <td>0.558428</td>\n      <td>0.755721</td>\n      <td>0.735948</td>\n      <td>0.666715</td>\n      <td>0.616102</td>\n      <td>0.675896</td>\n      <td>1.000000</td>\n      <td>0.665878</td>\n      <td>0.344169</td>\n      <td>0.756616</td>\n    </tr>\n    <tr>\n      <th>normNuc</th>\n      <td>-0.052072</td>\n      <td>0.535835</td>\n      <td>0.722865</td>\n      <td>0.719446</td>\n      <td>0.603352</td>\n      <td>0.628881</td>\n      <td>0.577362</td>\n      <td>0.665878</td>\n      <td>1.000000</td>\n      <td>0.428336</td>\n      <td>0.712244</td>\n    </tr>\n    <tr>\n      <th>mitoses</th>\n      <td>-0.034901</td>\n      <td>0.350034</td>\n      <td>0.458693</td>\n      <td>0.438911</td>\n      <td>0.417633</td>\n      <td>0.479101</td>\n      <td>0.338740</td>\n      <td>0.344169</td>\n      <td>0.428336</td>\n      <td>1.000000</td>\n      <td>0.423170</td>\n    </tr>\n    <tr>\n      <th>class</th>\n      <td>-0.080226</td>\n      <td>0.716001</td>\n      <td>0.817904</td>\n      <td>0.818934</td>\n      <td>0.696800</td>\n      <td>0.682785</td>\n      <td>0.816050</td>\n      <td>0.756616</td>\n      <td>0.712244</td>\n      <td>0.423170</td>\n      <td>1.000000</td>\n    </tr>\n  </tbody>\n</table>\n</div>"
     },
     "execution_count": 6,
     "metadata": {},
     "output_type": "execute_result"
    }
   ],
   "source": [
    "# compute pearson correlation\n",
    "pears_corr = df_bc.corr(method='pearson')\n",
    "pears_corr"
   ],
   "metadata": {
    "collapsed": false
   }
  },
  {
   "cell_type": "markdown",
   "source": [
    "2. Create a graph from the correlation matrix and visualize it with a force-directed layout. Represent\n",
    "each variable as a node in the graph. Insert an edge between two variables whenever the Pearson\n",
    "correlation between them exceeds the threshold ρ > 0.6."
   ],
   "metadata": {
    "collapsed": false
   }
  },
  {
   "cell_type": "code",
   "execution_count": 10,
   "outputs": [
    {
     "data": {
      "image/svg+xml": "<?xml version=\"1.0\" encoding=\"UTF-8\" standalone=\"no\"?>\n<!DOCTYPE svg PUBLIC \"-//W3C//DTD SVG 1.1//EN\"\n \"http://www.w3.org/Graphics/SVG/1.1/DTD/svg11.dtd\">\n<!-- Generated by graphviz version 2.49.3 (20211023.0002)\n -->\n<!-- Pages: 1 -->\n<svg width=\"568pt\" height=\"548pt\"\n viewBox=\"0.00 0.00 568.00 548.00\" xmlns=\"http://www.w3.org/2000/svg\" xmlns:xlink=\"http://www.w3.org/1999/xlink\">\n<g id=\"graph0\" class=\"graph\" transform=\"scale(1 1) rotate(0) translate(4 544)\">\n<polygon fill=\"white\" stroke=\"transparent\" points=\"-4,4 -4,-544 564,-544 564,4 -4,4\"/>\n<!-- code -->\n<g id=\"node1\" class=\"node\">\n<title>code</title>\n<ellipse fill=\"none\" stroke=\"black\" cx=\"101\" cy=\"-522\" rx=\"28.7\" ry=\"18\"/>\n<text text-anchor=\"middle\" x=\"101\" y=\"-518.3\" font-family=\"Times New Roman,serif\" font-size=\"14.00\">code</text>\n</g>\n<!-- thickness -->\n<g id=\"node2\" class=\"node\">\n<title>thickness</title>\n<ellipse fill=\"none\" stroke=\"black\" cx=\"192\" cy=\"-522\" rx=\"44.39\" ry=\"18\"/>\n<text text-anchor=\"middle\" x=\"192\" y=\"-518.3\" font-family=\"Times New Roman,serif\" font-size=\"14.00\">thickness</text>\n</g>\n<!-- uniCelS -->\n<g id=\"node3\" class=\"node\">\n<title>uniCelS</title>\n<ellipse fill=\"none\" stroke=\"black\" cx=\"295\" cy=\"-450\" rx=\"38.99\" ry=\"18\"/>\n<text text-anchor=\"middle\" x=\"295\" y=\"-446.3\" font-family=\"Times New Roman,serif\" font-size=\"14.00\">uniCelS</text>\n</g>\n<!-- thickness&#45;&#45;uniCelS -->\n<g id=\"edge1\" class=\"edge\">\n<title>thickness&#45;&#45;uniCelS</title>\n<path fill=\"none\" stroke=\"black\" d=\"M213.84,-506.15C231.56,-494.12 256.38,-477.25 273.89,-465.35\"/>\n</g>\n<!-- uniCelShape -->\n<g id=\"node4\" class=\"node\">\n<title>uniCelShape</title>\n<ellipse fill=\"none\" stroke=\"black\" cx=\"192\" cy=\"-378\" rx=\"55.79\" ry=\"18\"/>\n<text text-anchor=\"middle\" x=\"192\" y=\"-374.3\" font-family=\"Times New Roman,serif\" font-size=\"14.00\">uniCelShape</text>\n</g>\n<!-- thickness&#45;&#45;uniCelShape -->\n<g id=\"edge2\" class=\"edge\">\n<title>thickness&#45;&#45;uniCelShape</title>\n<path fill=\"none\" stroke=\"black\" d=\"M192,-503.87C192,-476.58 192,-423.52 192,-396.19\"/>\n</g>\n<!-- class -->\n<g id=\"node11\" class=\"node\">\n<title>class</title>\n<ellipse fill=\"none\" stroke=\"black\" cx=\"201\" cy=\"-18\" rx=\"28.7\" ry=\"18\"/>\n<text text-anchor=\"middle\" x=\"201\" y=\"-14.3\" font-family=\"Times New Roman,serif\" font-size=\"14.00\">class</text>\n</g>\n<!-- thickness&#45;&#45;class -->\n<g id=\"edge3\" class=\"edge\">\n<title>thickness&#45;&#45;class</title>\n<path fill=\"none\" stroke=\"black\" d=\"M164.9,-507.75C111.97,-480.97 0,-419.53 0,-379 0,-379 0,-379 0,-161 0,-114.5 18.92,-101.34 55,-72 90.15,-43.42 142.04,-29.52 173.56,-23.35\"/>\n</g>\n<!-- uniCelS&#45;&#45;uniCelShape -->\n<g id=\"edge4\" class=\"edge\">\n<title>uniCelS&#45;&#45;uniCelShape</title>\n<path fill=\"none\" stroke=\"black\" d=\"M273.66,-434.5C256.45,-422.8 232.31,-406.4 214.74,-394.46\"/>\n</g>\n<!-- marAdh -->\n<g id=\"node5\" class=\"node\">\n<title>marAdh</title>\n<ellipse fill=\"none\" stroke=\"black\" cx=\"246\" cy=\"-306\" rx=\"40.09\" ry=\"18\"/>\n<text text-anchor=\"middle\" x=\"246\" y=\"-302.3\" font-family=\"Times New Roman,serif\" font-size=\"14.00\">marAdh</text>\n</g>\n<!-- uniCelS&#45;&#45;marAdh -->\n<g id=\"edge5\" class=\"edge\">\n<title>uniCelS&#45;&#45;marAdh</title>\n<path fill=\"none\" stroke=\"black\" d=\"M289.19,-432.15C279.76,-404.82 261.23,-351.14 251.81,-323.82\"/>\n</g>\n<!-- epiCelSize -->\n<g id=\"node6\" class=\"node\">\n<title>epiCelSize</title>\n<ellipse fill=\"none\" stroke=\"black\" cx=\"445\" cy=\"-234\" rx=\"48.99\" ry=\"18\"/>\n<text text-anchor=\"middle\" x=\"445\" y=\"-230.3\" font-family=\"Times New Roman,serif\" font-size=\"14.00\">epiCelSize</text>\n</g>\n<!-- uniCelS&#45;&#45;epiCelSize -->\n<g id=\"edge6\" class=\"edge\">\n<title>uniCelS&#45;&#45;epiCelSize</title>\n<path fill=\"none\" stroke=\"black\" d=\"M313.22,-433.79C338.48,-411.86 384.18,-369 412,-324 426.3,-300.87 435.87,-270.59 440.88,-251.98\"/>\n</g>\n<!-- bareNuc -->\n<g id=\"node7\" class=\"node\">\n<title>bareNuc</title>\n<ellipse fill=\"none\" stroke=\"black\" cx=\"108\" cy=\"-234\" rx=\"41.69\" ry=\"18\"/>\n<text text-anchor=\"middle\" x=\"108\" y=\"-230.3\" font-family=\"Times New Roman,serif\" font-size=\"14.00\">bareNuc</text>\n</g>\n<!-- uniCelS&#45;&#45;bareNuc -->\n<g id=\"edge7\" class=\"edge\">\n<title>uniCelS&#45;&#45;bareNuc</title>\n<path fill=\"none\" stroke=\"black\" d=\"M256.1,-448.22C217.11,-445.19 158.49,-434.05 127,-396 92.55,-354.37 99.09,-284.62 104.51,-252.35\"/>\n</g>\n<!-- blaChroma -->\n<g id=\"node8\" class=\"node\">\n<title>blaChroma</title>\n<ellipse fill=\"none\" stroke=\"black\" cx=\"251\" cy=\"-162\" rx=\"50.89\" ry=\"18\"/>\n<text text-anchor=\"middle\" x=\"251\" y=\"-158.3\" font-family=\"Times New Roman,serif\" font-size=\"14.00\">blaChroma</text>\n</g>\n<!-- uniCelS&#45;&#45;blaChroma -->\n<g id=\"edge8\" class=\"edge\">\n<title>uniCelS&#45;&#45;blaChroma</title>\n<path fill=\"none\" stroke=\"black\" d=\"M296.87,-431.92C299.7,-402.35 303.85,-339.8 295,-288 288.14,-247.86 269.73,-203.47 259.02,-179.9\"/>\n</g>\n<!-- normNuc -->\n<g id=\"node9\" class=\"node\">\n<title>normNuc</title>\n<ellipse fill=\"none\" stroke=\"black\" cx=\"349\" cy=\"-90\" rx=\"44.69\" ry=\"18\"/>\n<text text-anchor=\"middle\" x=\"349\" y=\"-86.3\" font-family=\"Times New Roman,serif\" font-size=\"14.00\">normNuc</text>\n</g>\n<!-- uniCelS&#45;&#45;normNuc -->\n<g id=\"edge9\" class=\"edge\">\n<title>uniCelS&#45;&#45;normNuc</title>\n<path fill=\"none\" stroke=\"black\" d=\"M331.47,-443.36C395.64,-431.13 522,-395.79 522,-307 522,-307 522,-307 522,-233 522,-161.89 433.6,-119.88 383.18,-101.71\"/>\n</g>\n<!-- uniCelS&#45;&#45;class -->\n<g id=\"edge10\" class=\"edge\">\n<title>uniCelS&#45;&#45;class</title>\n<path fill=\"none\" stroke=\"black\" d=\"M333.25,-445.96C406.64,-437.82 560,-408.65 560,-307 560,-307 560,-307 560,-161 560,-90.24 492.86,-100.29 428,-72 359.93,-42.31 272.81,-27.95 228.93,-22.2\"/>\n</g>\n<!-- uniCelShape&#45;&#45;marAdh -->\n<g id=\"edge11\" class=\"edge\">\n<title>uniCelShape&#45;&#45;marAdh</title>\n<path fill=\"none\" stroke=\"black\" d=\"M204.8,-360.41C213.41,-349.25 224.71,-334.6 233.29,-323.47\"/>\n</g>\n<!-- uniCelShape&#45;&#45;epiCelSize -->\n<g id=\"edge12\" class=\"edge\">\n<title>uniCelShape&#45;&#45;epiCelSize</title>\n<path fill=\"none\" stroke=\"black\" d=\"M244.87,-371.93C285.45,-365.88 341.26,-352.68 382,-324 408.31,-305.47 427.46,-272.31 437.36,-252.11\"/>\n</g>\n<!-- uniCelShape&#45;&#45;bareNuc -->\n<g id=\"edge13\" class=\"edge\">\n<title>uniCelShape&#45;&#45;bareNuc</title>\n<path fill=\"none\" stroke=\"black\" d=\"M182.03,-360.15C165.87,-332.82 134.11,-279.14 117.95,-251.82\"/>\n</g>\n<!-- uniCelShape&#45;&#45;blaChroma -->\n<g id=\"edge14\" class=\"edge\">\n<title>uniCelShape&#45;&#45;blaChroma</title>\n<path fill=\"none\" stroke=\"black\" d=\"M191.2,-359.68C190.77,-341.56 191.24,-312.4 197,-288 206.62,-247.28 228.75,-203.11 241.49,-179.73\"/>\n</g>\n<!-- uniCelShape&#45;&#45;normNuc -->\n<g id=\"edge15\" class=\"edge\">\n<title>uniCelShape&#45;&#45;normNuc</title>\n<path fill=\"none\" stroke=\"black\" d=\"M231.92,-365.36C253.53,-357.11 279,-343.91 295,-324 347.92,-258.12 350.83,-149.75 349.8,-108.07\"/>\n</g>\n<!-- uniCelShape&#45;&#45;class -->\n<g id=\"edge16\" class=\"edge\">\n<title>uniCelShape&#45;&#45;class</title>\n<path fill=\"none\" stroke=\"black\" d=\"M157.82,-363.51C112.45,-343.1 38,-299.73 38,-235 38,-235 38,-235 38,-161 38,-88.57 130.65,-44.64 176.24,-27.41\"/>\n</g>\n<!-- marAdh&#45;&#45;bareNuc -->\n<g id=\"edge17\" class=\"edge\">\n<title>marAdh&#45;&#45;bareNuc</title>\n<path fill=\"none\" stroke=\"black\" d=\"M220.37,-292C195.74,-279.5 158.71,-260.72 133.96,-248.17\"/>\n</g>\n<!-- marAdh&#45;&#45;blaChroma -->\n<g id=\"edge18\" class=\"edge\">\n<title>marAdh&#45;&#45;blaChroma</title>\n<path fill=\"none\" stroke=\"black\" d=\"M246.6,-287.87C247.56,-260.58 249.43,-207.52 250.39,-180.19\"/>\n</g>\n<!-- marAdh&#45;&#45;normNuc -->\n<g id=\"edge19\" class=\"edge\">\n<title>marAdh&#45;&#45;normNuc</title>\n<path fill=\"none\" stroke=\"black\" d=\"M255.24,-288.22C268.24,-264.42 292.39,-219.36 311,-180 322.7,-155.24 334.91,-125.93 342.23,-107.9\"/>\n</g>\n<!-- marAdh&#45;&#45;class -->\n<g id=\"edge20\" class=\"edge\">\n<title>marAdh&#45;&#45;class</title>\n<path fill=\"none\" stroke=\"black\" d=\"M235.99,-288.37C222.62,-265.1 199.64,-221.07 191,-180 180.17,-128.48 190.64,-65.8 196.96,-36.14\"/>\n</g>\n<!-- epiCelSize&#45;&#45;blaChroma -->\n<g id=\"edge21\" class=\"edge\">\n<title>epiCelSize&#45;&#45;blaChroma</title>\n<path fill=\"none\" stroke=\"black\" d=\"M411.21,-220.81C375.93,-208.08 320.88,-188.22 285.38,-175.41\"/>\n</g>\n<!-- epiCelSize&#45;&#45;normNuc -->\n<g id=\"edge22\" class=\"edge\">\n<title>epiCelSize&#45;&#45;normNuc</title>\n<path fill=\"none\" stroke=\"black\" d=\"M433.8,-216.43C415.3,-189.07 378.58,-134.75 360.13,-107.46\"/>\n</g>\n<!-- epiCelSize&#45;&#45;class -->\n<g id=\"edge23\" class=\"edge\">\n<title>epiCelSize&#45;&#45;class</title>\n<path fill=\"none\" stroke=\"black\" d=\"M445.77,-215.97C446.28,-183.3 442.5,-111.55 403,-72 356.25,-25.18 273.49,-18.18 229.83,-18.02\"/>\n</g>\n<!-- bareNuc&#45;&#45;blaChroma -->\n<g id=\"edge24\" class=\"edge\">\n<title>bareNuc&#45;&#45;blaChroma</title>\n<path fill=\"none\" stroke=\"black\" d=\"M134.56,-220C159.44,-207.82 196.52,-189.67 222.12,-177.14\"/>\n</g>\n<!-- bareNuc&#45;&#45;class -->\n<g id=\"edge25\" class=\"edge\">\n<title>bareNuc&#45;&#45;class</title>\n<path fill=\"none\" stroke=\"black\" d=\"M111.12,-215.71C117.09,-185.28 131.9,-120.77 158,-72 165.6,-57.79 177.26,-43.72 186.52,-33.65\"/>\n</g>\n<!-- blaChroma&#45;&#45;normNuc -->\n<g id=\"edge26\" class=\"edge\">\n<title>blaChroma&#45;&#45;normNuc</title>\n<path fill=\"none\" stroke=\"black\" d=\"M272.75,-145.46C289.22,-133.7 311.7,-117.64 327.98,-106.01\"/>\n</g>\n<!-- blaChroma&#45;&#45;class -->\n<g id=\"edge27\" class=\"edge\">\n<title>blaChroma&#45;&#45;class</title>\n<path fill=\"none\" stroke=\"black\" d=\"M244.97,-143.87C235.31,-116.43 216.47,-62.95 206.9,-35.75\"/>\n</g>\n<!-- normNuc&#45;&#45;class -->\n<g id=\"edge28\" class=\"edge\">\n<title>normNuc&#45;&#45;class</title>\n<path fill=\"none\" stroke=\"black\" d=\"M321.16,-75.83C292.86,-62.45 249.56,-41.97 223.4,-29.59\"/>\n</g>\n<!-- mitoses -->\n<g id=\"node10\" class=\"node\">\n<title>mitoses</title>\n<ellipse fill=\"none\" stroke=\"black\" cx=\"293\" cy=\"-522\" rx=\"38.19\" ry=\"18\"/>\n<text text-anchor=\"middle\" x=\"293\" y=\"-518.3\" font-family=\"Times New Roman,serif\" font-size=\"14.00\">mitoses</text>\n</g>\n</g>\n</svg>\n",
      "text/plain": "<graphviz.graphs.Graph at 0x1b8c06e10c0>"
     },
     "execution_count": 10,
     "metadata": {},
     "output_type": "execute_result"
    }
   ],
   "source": [
    "import graphviz as gv\n",
    "\n",
    "graph = gv.Graph(format='svg')\n",
    "\n",
    "# add nodes for each variable\n",
    "for col in pears_corr.columns:\n",
    "    graph.node(col)\n",
    "\n",
    "# add edges for each pair of variables with correlation > 0.6\n",
    "for i, col in enumerate(pears_corr.columns):\n",
    "    for j in range(len(pears_corr.columns)):\n",
    "        row = pears_corr.columns[j]\n",
    "        if pears_corr[col][row] > 0.6 and col != row:\n",
    "            graph.edge(col, row)\n",
    "\n",
    "graph"
   ],
   "metadata": {
    "collapsed": false
   }
  },
  {
   "cell_type": "markdown",
   "source": [
    "3. Modify the visual attributes of edges to reflect the magnitude of the correlation"
   ],
   "metadata": {
    "collapsed": false
   }
  },
  {
   "cell_type": "code",
   "execution_count": 23,
   "outputs": [
    {
     "data": {
      "image/svg+xml": "<?xml version=\"1.0\" encoding=\"UTF-8\" standalone=\"no\"?>\n<!DOCTYPE svg PUBLIC \"-//W3C//DTD SVG 1.1//EN\"\n \"http://www.w3.org/Graphics/SVG/1.1/DTD/svg11.dtd\">\n<!-- Generated by graphviz version 2.49.3 (20211023.0002)\n -->\n<!-- Pages: 1 -->\n<svg width=\"568pt\" height=\"548pt\"\n viewBox=\"0.00 0.00 568.00 548.00\" xmlns=\"http://www.w3.org/2000/svg\" xmlns:xlink=\"http://www.w3.org/1999/xlink\">\n<g id=\"graph0\" class=\"graph\" transform=\"scale(1 1) rotate(0) translate(4 544)\">\n<polygon fill=\"white\" stroke=\"transparent\" points=\"-4,4 -4,-544 564,-544 564,4 -4,4\"/>\n<!-- code -->\n<g id=\"node1\" class=\"node\">\n<title>code</title>\n<ellipse fill=\"none\" stroke=\"black\" cx=\"101\" cy=\"-522\" rx=\"28.7\" ry=\"18\"/>\n<text text-anchor=\"middle\" x=\"101\" y=\"-518.3\" font-family=\"Times New Roman,serif\" font-size=\"14.00\">code</text>\n</g>\n<!-- thickness -->\n<g id=\"node2\" class=\"node\">\n<title>thickness</title>\n<ellipse fill=\"none\" stroke=\"black\" cx=\"192\" cy=\"-522\" rx=\"44.39\" ry=\"18\"/>\n<text text-anchor=\"middle\" x=\"192\" y=\"-518.3\" font-family=\"Times New Roman,serif\" font-size=\"14.00\">thickness</text>\n</g>\n<!-- uniCelS -->\n<g id=\"node3\" class=\"node\">\n<title>uniCelS</title>\n<ellipse fill=\"none\" stroke=\"black\" cx=\"295\" cy=\"-450\" rx=\"38.99\" ry=\"18\"/>\n<text text-anchor=\"middle\" x=\"295\" y=\"-446.3\" font-family=\"Times New Roman,serif\" font-size=\"14.00\">uniCelS</text>\n</g>\n<!-- thickness&#45;&#45;uniCelS -->\n<g id=\"edge1\" class=\"edge\">\n<title>thickness&#45;&#45;uniCelS</title>\n<path fill=\"none\" stroke=\"black\" stroke-dasharray=\"1,5\" d=\"M213.84,-506.15C231.56,-494.12 256.38,-477.25 273.89,-465.35\"/>\n</g>\n<!-- uniCelShape -->\n<g id=\"node4\" class=\"node\">\n<title>uniCelShape</title>\n<ellipse fill=\"none\" stroke=\"black\" cx=\"192\" cy=\"-378\" rx=\"55.79\" ry=\"18\"/>\n<text text-anchor=\"middle\" x=\"192\" y=\"-374.3\" font-family=\"Times New Roman,serif\" font-size=\"14.00\">uniCelShape</text>\n</g>\n<!-- thickness&#45;&#45;uniCelShape -->\n<g id=\"edge2\" class=\"edge\">\n<title>thickness&#45;&#45;uniCelShape</title>\n<path fill=\"none\" stroke=\"black\" stroke-dasharray=\"1,5\" d=\"M192,-503.87C192,-476.58 192,-423.52 192,-396.19\"/>\n</g>\n<!-- class -->\n<g id=\"node11\" class=\"node\">\n<title>class</title>\n<ellipse fill=\"none\" stroke=\"black\" cx=\"201\" cy=\"-18\" rx=\"28.7\" ry=\"18\"/>\n<text text-anchor=\"middle\" x=\"201\" y=\"-14.3\" font-family=\"Times New Roman,serif\" font-size=\"14.00\">class</text>\n</g>\n<!-- thickness&#45;&#45;class -->\n<g id=\"edge3\" class=\"edge\">\n<title>thickness&#45;&#45;class</title>\n<path fill=\"none\" stroke=\"black\" stroke-dasharray=\"5,2\" d=\"M164.9,-507.75C111.97,-480.97 0,-419.53 0,-379 0,-379 0,-379 0,-161 0,-114.5 18.92,-101.34 55,-72 90.15,-43.42 142.04,-29.52 173.56,-23.35\"/>\n</g>\n<!-- uniCelS&#45;&#45;uniCelShape -->\n<g id=\"edge4\" class=\"edge\">\n<title>uniCelS&#45;&#45;uniCelShape</title>\n<path fill=\"none\" stroke=\"black\" stroke-width=\"3\" d=\"M273.66,-434.5C256.45,-422.8 232.31,-406.4 214.74,-394.46\"/>\n</g>\n<!-- marAdh -->\n<g id=\"node5\" class=\"node\">\n<title>marAdh</title>\n<ellipse fill=\"none\" stroke=\"black\" cx=\"246\" cy=\"-306\" rx=\"40.09\" ry=\"18\"/>\n<text text-anchor=\"middle\" x=\"246\" y=\"-302.3\" font-family=\"Times New Roman,serif\" font-size=\"14.00\">marAdh</text>\n</g>\n<!-- uniCelS&#45;&#45;marAdh -->\n<g id=\"edge5\" class=\"edge\">\n<title>uniCelS&#45;&#45;marAdh</title>\n<path fill=\"none\" stroke=\"black\" stroke-dasharray=\"5,2\" d=\"M289.19,-432.15C279.76,-404.82 261.23,-351.14 251.81,-323.82\"/>\n</g>\n<!-- epiCelSize -->\n<g id=\"node6\" class=\"node\">\n<title>epiCelSize</title>\n<ellipse fill=\"none\" stroke=\"black\" cx=\"445\" cy=\"-234\" rx=\"48.99\" ry=\"18\"/>\n<text text-anchor=\"middle\" x=\"445\" y=\"-230.3\" font-family=\"Times New Roman,serif\" font-size=\"14.00\">epiCelSize</text>\n</g>\n<!-- uniCelS&#45;&#45;epiCelSize -->\n<g id=\"edge6\" class=\"edge\">\n<title>uniCelS&#45;&#45;epiCelSize</title>\n<path fill=\"none\" stroke=\"black\" stroke-dasharray=\"5,2\" d=\"M313.22,-433.79C338.48,-411.86 384.18,-369 412,-324 426.3,-300.87 435.87,-270.59 440.88,-251.98\"/>\n</g>\n<!-- bareNuc -->\n<g id=\"node7\" class=\"node\">\n<title>bareNuc</title>\n<ellipse fill=\"none\" stroke=\"black\" cx=\"108\" cy=\"-234\" rx=\"41.69\" ry=\"18\"/>\n<text text-anchor=\"middle\" x=\"108\" y=\"-230.3\" font-family=\"Times New Roman,serif\" font-size=\"14.00\">bareNuc</text>\n</g>\n<!-- uniCelS&#45;&#45;bareNuc -->\n<g id=\"edge7\" class=\"edge\">\n<title>uniCelS&#45;&#45;bareNuc</title>\n<path fill=\"none\" stroke=\"black\" stroke-dasharray=\"1,5\" d=\"M256.1,-448.22C217.11,-445.19 158.49,-434.05 127,-396 92.55,-354.37 99.09,-284.62 104.51,-252.35\"/>\n</g>\n<!-- blaChroma -->\n<g id=\"node8\" class=\"node\">\n<title>blaChroma</title>\n<ellipse fill=\"none\" stroke=\"black\" cx=\"251\" cy=\"-162\" rx=\"50.89\" ry=\"18\"/>\n<text text-anchor=\"middle\" x=\"251\" y=\"-158.3\" font-family=\"Times New Roman,serif\" font-size=\"14.00\">blaChroma</text>\n</g>\n<!-- uniCelS&#45;&#45;blaChroma -->\n<g id=\"edge8\" class=\"edge\">\n<title>uniCelS&#45;&#45;blaChroma</title>\n<path fill=\"none\" stroke=\"black\" stroke-dasharray=\"5,2\" d=\"M296.87,-431.92C299.7,-402.35 303.85,-339.8 295,-288 288.14,-247.86 269.73,-203.47 259.02,-179.9\"/>\n</g>\n<!-- normNuc -->\n<g id=\"node9\" class=\"node\">\n<title>normNuc</title>\n<ellipse fill=\"none\" stroke=\"black\" cx=\"349\" cy=\"-90\" rx=\"44.69\" ry=\"18\"/>\n<text text-anchor=\"middle\" x=\"349\" y=\"-86.3\" font-family=\"Times New Roman,serif\" font-size=\"14.00\">normNuc</text>\n</g>\n<!-- uniCelS&#45;&#45;normNuc -->\n<g id=\"edge9\" class=\"edge\">\n<title>uniCelS&#45;&#45;normNuc</title>\n<path fill=\"none\" stroke=\"black\" stroke-dasharray=\"5,2\" d=\"M331.47,-443.36C395.64,-431.13 522,-395.79 522,-307 522,-307 522,-307 522,-233 522,-161.89 433.6,-119.88 383.18,-101.71\"/>\n</g>\n<!-- uniCelS&#45;&#45;class -->\n<g id=\"edge10\" class=\"edge\">\n<title>uniCelS&#45;&#45;class</title>\n<path fill=\"none\" stroke=\"black\" d=\"M333.25,-445.96C406.64,-437.82 560,-408.65 560,-307 560,-307 560,-307 560,-161 560,-90.24 492.86,-100.29 428,-72 359.93,-42.31 272.81,-27.95 228.93,-22.2\"/>\n</g>\n<!-- uniCelShape&#45;&#45;marAdh -->\n<g id=\"edge11\" class=\"edge\">\n<title>uniCelShape&#45;&#45;marAdh</title>\n<path fill=\"none\" stroke=\"black\" stroke-dasharray=\"1,5\" d=\"M204.8,-360.41C213.41,-349.25 224.71,-334.6 233.29,-323.47\"/>\n</g>\n<!-- uniCelShape&#45;&#45;epiCelSize -->\n<g id=\"edge12\" class=\"edge\">\n<title>uniCelShape&#45;&#45;epiCelSize</title>\n<path fill=\"none\" stroke=\"black\" stroke-dasharray=\"5,2\" d=\"M244.87,-371.93C285.45,-365.88 341.26,-352.68 382,-324 408.31,-305.47 427.46,-272.31 437.36,-252.11\"/>\n</g>\n<!-- uniCelShape&#45;&#45;bareNuc -->\n<g id=\"edge13\" class=\"edge\">\n<title>uniCelShape&#45;&#45;bareNuc</title>\n<path fill=\"none\" stroke=\"black\" stroke-dasharray=\"5,2\" d=\"M182.03,-360.15C165.87,-332.82 134.11,-279.14 117.95,-251.82\"/>\n</g>\n<!-- uniCelShape&#45;&#45;blaChroma -->\n<g id=\"edge14\" class=\"edge\">\n<title>uniCelShape&#45;&#45;blaChroma</title>\n<path fill=\"none\" stroke=\"black\" stroke-dasharray=\"5,2\" d=\"M191.2,-359.68C190.77,-341.56 191.24,-312.4 197,-288 206.62,-247.28 228.75,-203.11 241.49,-179.73\"/>\n</g>\n<!-- uniCelShape&#45;&#45;normNuc -->\n<g id=\"edge15\" class=\"edge\">\n<title>uniCelShape&#45;&#45;normNuc</title>\n<path fill=\"none\" stroke=\"black\" stroke-dasharray=\"5,2\" d=\"M231.92,-365.36C253.53,-357.11 279,-343.91 295,-324 347.92,-258.12 350.83,-149.75 349.8,-108.07\"/>\n</g>\n<!-- uniCelShape&#45;&#45;class -->\n<g id=\"edge16\" class=\"edge\">\n<title>uniCelShape&#45;&#45;class</title>\n<path fill=\"none\" stroke=\"black\" d=\"M157.82,-363.51C112.45,-343.1 38,-299.73 38,-235 38,-235 38,-235 38,-161 38,-88.57 130.65,-44.64 176.24,-27.41\"/>\n</g>\n<!-- marAdh&#45;&#45;bareNuc -->\n<g id=\"edge17\" class=\"edge\">\n<title>marAdh&#45;&#45;bareNuc</title>\n<path fill=\"none\" stroke=\"black\" stroke-dasharray=\"1,5\" d=\"M220.37,-292C195.74,-279.5 158.71,-260.72 133.96,-248.17\"/>\n</g>\n<!-- marAdh&#45;&#45;blaChroma -->\n<g id=\"edge18\" class=\"edge\">\n<title>marAdh&#45;&#45;blaChroma</title>\n<path fill=\"none\" stroke=\"black\" stroke-dasharray=\"1,5\" d=\"M246.6,-287.87C247.56,-260.58 249.43,-207.52 250.39,-180.19\"/>\n</g>\n<!-- marAdh&#45;&#45;normNuc -->\n<g id=\"edge19\" class=\"edge\">\n<title>marAdh&#45;&#45;normNuc</title>\n<path fill=\"none\" stroke=\"black\" stroke-dasharray=\"1,5\" d=\"M255.24,-288.22C268.24,-264.42 292.39,-219.36 311,-180 322.7,-155.24 334.91,-125.93 342.23,-107.9\"/>\n</g>\n<!-- marAdh&#45;&#45;class -->\n<g id=\"edge20\" class=\"edge\">\n<title>marAdh&#45;&#45;class</title>\n<path fill=\"none\" stroke=\"black\" stroke-dasharray=\"1,5\" d=\"M235.99,-288.37C222.62,-265.1 199.64,-221.07 191,-180 180.17,-128.48 190.64,-65.8 196.96,-36.14\"/>\n</g>\n<!-- epiCelSize&#45;&#45;blaChroma -->\n<g id=\"edge21\" class=\"edge\">\n<title>epiCelSize&#45;&#45;blaChroma</title>\n<path fill=\"none\" stroke=\"black\" stroke-dasharray=\"1,5\" d=\"M411.21,-220.81C375.93,-208.08 320.88,-188.22 285.38,-175.41\"/>\n</g>\n<!-- epiCelSize&#45;&#45;normNuc -->\n<g id=\"edge22\" class=\"edge\">\n<title>epiCelSize&#45;&#45;normNuc</title>\n<path fill=\"none\" stroke=\"black\" stroke-dasharray=\"1,5\" d=\"M433.8,-216.43C415.3,-189.07 378.58,-134.75 360.13,-107.46\"/>\n</g>\n<!-- epiCelSize&#45;&#45;class -->\n<g id=\"edge23\" class=\"edge\">\n<title>epiCelSize&#45;&#45;class</title>\n<path fill=\"none\" stroke=\"black\" stroke-dasharray=\"1,5\" d=\"M445.77,-215.97C446.28,-183.3 442.5,-111.55 403,-72 356.25,-25.18 273.49,-18.18 229.83,-18.02\"/>\n</g>\n<!-- bareNuc&#45;&#45;blaChroma -->\n<g id=\"edge24\" class=\"edge\">\n<title>bareNuc&#45;&#45;blaChroma</title>\n<path fill=\"none\" stroke=\"black\" stroke-dasharray=\"1,5\" d=\"M134.56,-220C159.44,-207.82 196.52,-189.67 222.12,-177.14\"/>\n</g>\n<!-- bareNuc&#45;&#45;class -->\n<g id=\"edge25\" class=\"edge\">\n<title>bareNuc&#45;&#45;class</title>\n<path fill=\"none\" stroke=\"black\" d=\"M111.12,-215.71C117.09,-185.28 131.9,-120.77 158,-72 165.6,-57.79 177.26,-43.72 186.52,-33.65\"/>\n</g>\n<!-- blaChroma&#45;&#45;normNuc -->\n<g id=\"edge26\" class=\"edge\">\n<title>blaChroma&#45;&#45;normNuc</title>\n<path fill=\"none\" stroke=\"black\" stroke-dasharray=\"1,5\" d=\"M272.75,-145.46C289.22,-133.7 311.7,-117.64 327.98,-106.01\"/>\n</g>\n<!-- blaChroma&#45;&#45;class -->\n<g id=\"edge27\" class=\"edge\">\n<title>blaChroma&#45;&#45;class</title>\n<path fill=\"none\" stroke=\"black\" stroke-dasharray=\"5,2\" d=\"M244.97,-143.87C235.31,-116.43 216.47,-62.95 206.9,-35.75\"/>\n</g>\n<!-- normNuc&#45;&#45;class -->\n<g id=\"edge28\" class=\"edge\">\n<title>normNuc&#45;&#45;class</title>\n<path fill=\"none\" stroke=\"black\" stroke-dasharray=\"5,2\" d=\"M321.16,-75.83C292.86,-62.45 249.56,-41.97 223.4,-29.59\"/>\n</g>\n<!-- mitoses -->\n<g id=\"node10\" class=\"node\">\n<title>mitoses</title>\n<ellipse fill=\"none\" stroke=\"black\" cx=\"293\" cy=\"-522\" rx=\"38.19\" ry=\"18\"/>\n<text text-anchor=\"middle\" x=\"293\" y=\"-518.3\" font-family=\"Times New Roman,serif\" font-size=\"14.00\">mitoses</text>\n</g>\n</g>\n</svg>\n",
      "text/plain": "<graphviz.graphs.Graph at 0x1b8c119f760>"
     },
     "execution_count": 23,
     "metadata": {},
     "output_type": "execute_result"
    }
   ],
   "source": [
    "# set thickness of edges based on correlation\n",
    "def thickness_corr(corr):\n",
    "    if corr > 0.9:\n",
    "        return '3'\n",
    "    elif corr > 0.8:\n",
    "        return '1'\n",
    "    elif corr > 0.7:\n",
    "        return '1'\n",
    "    elif corr > 0.6:\n",
    "        return '1'\n",
    "    else:\n",
    "        return '1'\n",
    "\n",
    "def style_corr(corr):\n",
    "    if corr > 0.9:\n",
    "        return 'bold'\n",
    "    elif corr > 0.8:\n",
    "        return 'solid'\n",
    "    elif corr > 0.7:\n",
    "        return 'dashed'\n",
    "    elif corr > 0.6:\n",
    "        return 'dotted'\n",
    "    else:\n",
    "        return 'invis'\n",
    "\n",
    "graph = gv.Graph(format='svg')\n",
    "\n",
    "# add nodes for each variable\n",
    "for col in pears_corr.columns:\n",
    "    graph.node(col)\n",
    "\n",
    "# add edges for each pair of variables with correlation > 0.6\n",
    "for i, col in enumerate(pears_corr.columns):\n",
    "    for j in range(i, len(pears_corr.columns)):\n",
    "        row = pears_corr.columns[j]\n",
    "        if pears_corr[col][row] > 0.6 and col != row:\n",
    "            graph.edge(col, row, style=style_corr(pears_corr[col][row]),\n",
    "                       penwidth=thickness_corr(pears_corr[col][row]))\n",
    "\n",
    "graph"
   ],
   "metadata": {
    "collapsed": false
   }
  },
  {
   "cell_type": "markdown",
   "source": [
    "4. Produce an alternative visualization with a circular layout. Color the nodes so that there are four\n",
    "sets of nodes, one color for having at least one correlation more than 0.9 to other nodes, another\n",
    "for having at least a correlation 0.8 < ρmax <= 0.9, one for having a correlation 0.6 < ρmax <= 0.8\n",
    "and the last one for the remaining nodes"
   ],
   "metadata": {
    "collapsed": false
   }
  },
  {
   "cell_type": "code",
   "execution_count": 33,
   "outputs": [
    {
     "data": {
      "image/svg+xml": "<?xml version=\"1.0\" encoding=\"UTF-8\" standalone=\"no\"?>\n<!DOCTYPE svg PUBLIC \"-//W3C//DTD SVG 1.1//EN\"\n \"http://www.w3.org/Graphics/SVG/1.1/DTD/svg11.dtd\">\n<!-- Generated by graphviz version 2.49.3 (20211023.0002)\n -->\n<!-- Pages: 1 -->\n<svg width=\"609pt\" height=\"599pt\"\n viewBox=\"0.00 0.00 608.99 599.26\" xmlns=\"http://www.w3.org/2000/svg\" xmlns:xlink=\"http://www.w3.org/1999/xlink\">\n<g id=\"graph0\" class=\"graph\" transform=\"scale(1 1) rotate(0) translate(4 595.26)\">\n<polygon fill=\"white\" stroke=\"transparent\" points=\"-4,4 -4,-595.26 604.99,-595.26 604.99,4 -4,4\"/>\n<!-- code -->\n<g id=\"node1\" class=\"node\">\n<title>code</title>\n<ellipse fill=\"#0571b0\" stroke=\"black\" cx=\"65.98\" cy=\"-573.26\" rx=\"28.7\" ry=\"18\"/>\n<text text-anchor=\"middle\" x=\"65.98\" y=\"-569.56\" font-family=\"Times New Roman,serif\" font-size=\"14.00\">code</text>\n</g>\n<!-- thickness -->\n<g id=\"node2\" class=\"node\">\n<title>thickness</title>\n<ellipse fill=\"#92c5de\" stroke=\"black\" cx=\"490.65\" cy=\"-108.04\" rx=\"44.39\" ry=\"18\"/>\n<text text-anchor=\"middle\" x=\"490.65\" y=\"-104.34\" font-family=\"Times New Roman,serif\" font-size=\"14.00\">thickness</text>\n</g>\n<!-- uniCelS -->\n<g id=\"node3\" class=\"node\">\n<title>uniCelS</title>\n<ellipse fill=\"#ca0020\" stroke=\"black\" cx=\"334.69\" cy=\"-18\" rx=\"38.99\" ry=\"18\"/>\n<text text-anchor=\"middle\" x=\"334.69\" y=\"-14.3\" font-family=\"Times New Roman,serif\" font-size=\"14.00\">uniCelS</text>\n</g>\n<!-- thickness&#45;&#45;uniCelS -->\n<g id=\"edge1\" class=\"edge\">\n<title>thickness&#45;&#45;uniCelS</title>\n<path fill=\"none\" stroke=\"black\" stroke-dasharray=\"1,5\" d=\"M464.9,-93.17C435.57,-76.24 388,-48.77 359.2,-32.15\"/>\n</g>\n<!-- uniCelShape -->\n<g id=\"node4\" class=\"node\">\n<title>uniCelShape</title>\n<ellipse fill=\"#ca0020\" stroke=\"black\" cx=\"157.35\" cy=\"-49.27\" rx=\"55.79\" ry=\"18\"/>\n<text text-anchor=\"middle\" x=\"157.35\" y=\"-45.57\" font-family=\"Times New Roman,serif\" font-size=\"14.00\">uniCelShape</text>\n</g>\n<!-- thickness&#45;&#45;uniCelShape -->\n<g id=\"edge2\" class=\"edge\">\n<title>thickness&#45;&#45;uniCelShape</title>\n<path fill=\"none\" stroke=\"black\" stroke-dasharray=\"1,5\" d=\"M449.78,-100.83C388.33,-90 272.33,-69.55 206.41,-57.92\"/>\n</g>\n<!-- class -->\n<g id=\"node11\" class=\"node\">\n<title>class</title>\n<ellipse fill=\"#f4a582\" stroke=\"black\" cx=\"157.35\" cy=\"-505.25\" rx=\"28.7\" ry=\"18\"/>\n<text text-anchor=\"middle\" x=\"157.35\" y=\"-501.55\" font-family=\"Times New Roman,serif\" font-size=\"14.00\">class</text>\n</g>\n<!-- thickness&#45;&#45;class -->\n<g id=\"edge3\" class=\"edge\">\n<title>thickness&#45;&#45;class</title>\n<path fill=\"none\" stroke=\"black\" stroke-dasharray=\"5,2\" d=\"M476.33,-125.11C421.38,-190.59 224.44,-425.29 170.88,-489.13\"/>\n</g>\n<!-- uniCelS&#45;&#45;uniCelShape -->\n<g id=\"edge4\" class=\"edge\">\n<title>uniCelS&#45;&#45;uniCelShape</title>\n<path fill=\"none\" stroke=\"black\" stroke-width=\"3\" d=\"M297.95,-24.48C271.47,-29.15 235.45,-35.5 206.5,-40.6\"/>\n</g>\n<!-- marAdh -->\n<g id=\"node5\" class=\"node\">\n<title>marAdh</title>\n<ellipse fill=\"#92c5de\" stroke=\"black\" cx=\"41.6\" cy=\"-367.3\" rx=\"40.09\" ry=\"18\"/>\n<text text-anchor=\"middle\" x=\"41.6\" y=\"-363.6\" font-family=\"Times New Roman,serif\" font-size=\"14.00\">marAdh</text>\n</g>\n<!-- uniCelS&#45;&#45;marAdh -->\n<g id=\"edge5\" class=\"edge\">\n<title>uniCelS&#45;&#45;marAdh</title>\n<path fill=\"none\" stroke=\"black\" stroke-dasharray=\"5,2\" d=\"M320.56,-34.85C271.04,-93.86 105.76,-290.83 55.93,-350.21\"/>\n</g>\n<!-- epiCelSize -->\n<g id=\"node6\" class=\"node\">\n<title>epiCelSize</title>\n<ellipse fill=\"#92c5de\" stroke=\"black\" cx=\"552.24\" cy=\"-277.26\" rx=\"48.99\" ry=\"18\"/>\n<text text-anchor=\"middle\" x=\"552.24\" y=\"-273.56\" font-family=\"Times New Roman,serif\" font-size=\"14.00\">epiCelSize</text>\n</g>\n<!-- uniCelS&#45;&#45;epiCelSize -->\n<g id=\"edge6\" class=\"edge\">\n<title>uniCelS&#45;&#45;epiCelSize</title>\n<path fill=\"none\" stroke=\"black\" stroke-dasharray=\"5,2\" d=\"M348.97,-35.01C388.29,-81.87 497.91,-212.51 537.63,-259.85\"/>\n</g>\n<!-- bareNuc -->\n<g id=\"node7\" class=\"node\">\n<title>bareNuc</title>\n<ellipse fill=\"#f4a582\" stroke=\"black\" cx=\"41.6\" cy=\"-187.22\" rx=\"41.69\" ry=\"18\"/>\n<text text-anchor=\"middle\" x=\"41.6\" y=\"-183.52\" font-family=\"Times New Roman,serif\" font-size=\"14.00\">bareNuc</text>\n</g>\n<!-- uniCelS&#45;&#45;bareNuc -->\n<g id=\"edge7\" class=\"edge\">\n<title>uniCelS&#45;&#45;bareNuc</title>\n<path fill=\"none\" stroke=\"black\" stroke-dasharray=\"1,5\" d=\"M310.21,-32.14C255.18,-63.91 122.18,-140.69 66.63,-172.77\"/>\n</g>\n<!-- blaChroma -->\n<g id=\"node8\" class=\"node\">\n<title>blaChroma</title>\n<ellipse fill=\"#92c5de\" stroke=\"black\" cx=\"334.69\" cy=\"-536.52\" rx=\"50.89\" ry=\"18\"/>\n<text text-anchor=\"middle\" x=\"334.69\" y=\"-532.82\" font-family=\"Times New Roman,serif\" font-size=\"14.00\">blaChroma</text>\n</g>\n<!-- uniCelS&#45;&#45;blaChroma -->\n<g id=\"edge8\" class=\"edge\">\n<title>uniCelS&#45;&#45;blaChroma</title>\n<path fill=\"none\" stroke=\"black\" stroke-dasharray=\"5,2\" d=\"M334.69,-36.15C334.69,-116.36 334.69,-438.6 334.69,-518.52\"/>\n</g>\n<!-- normNuc -->\n<g id=\"node9\" class=\"node\">\n<title>normNuc</title>\n<ellipse fill=\"#92c5de\" stroke=\"black\" cx=\"490.65\" cy=\"-446.48\" rx=\"44.69\" ry=\"18\"/>\n<text text-anchor=\"middle\" x=\"490.65\" y=\"-442.78\" font-family=\"Times New Roman,serif\" font-size=\"14.00\">normNuc</text>\n</g>\n<!-- uniCelS&#45;&#45;normNuc -->\n<g id=\"edge9\" class=\"edge\">\n<title>uniCelS&#45;&#45;normNuc</title>\n<path fill=\"none\" stroke=\"black\" stroke-dasharray=\"5,2\" d=\"M341.2,-35.87C366.56,-105.56 458.7,-358.72 484.12,-428.54\"/>\n</g>\n<!-- uniCelS&#45;&#45;class -->\n<g id=\"edge10\" class=\"edge\">\n<title>uniCelS&#45;&#45;class</title>\n<path fill=\"none\" stroke=\"black\" d=\"M328.17,-35.92C300.3,-112.49 191.37,-411.79 163.74,-487.68\"/>\n</g>\n<!-- uniCelShape&#45;&#45;marAdh -->\n<g id=\"edge11\" class=\"edge\">\n<title>uniCelShape&#45;&#45;marAdh</title>\n<path fill=\"none\" stroke=\"black\" stroke-dasharray=\"1,5\" d=\"M150.79,-67.28C130.42,-123.26 68.35,-293.78 48.08,-349.49\"/>\n</g>\n<!-- uniCelShape&#45;&#45;epiCelSize -->\n<g id=\"edge12\" class=\"edge\">\n<title>uniCelShape&#45;&#45;epiCelSize</title>\n<path fill=\"none\" stroke=\"black\" stroke-dasharray=\"5,2\" d=\"M184.8,-65.12C257.48,-107.08 454.18,-220.65 525.75,-261.96\"/>\n</g>\n<!-- uniCelShape&#45;&#45;bareNuc -->\n<g id=\"edge13\" class=\"edge\">\n<title>uniCelShape&#45;&#45;bareNuc</title>\n<path fill=\"none\" stroke=\"black\" stroke-dasharray=\"5,2\" d=\"M142.69,-66.74C120.42,-93.28 78.33,-143.44 56.14,-169.89\"/>\n</g>\n<!-- uniCelShape&#45;&#45;blaChroma -->\n<g id=\"edge14\" class=\"edge\">\n<title>uniCelShape&#45;&#45;blaChroma</title>\n<path fill=\"none\" stroke=\"black\" stroke-dasharray=\"5,2\" d=\"M163.87,-67.19C191.68,-143.59 300.19,-441.72 328.11,-518.44\"/>\n</g>\n<!-- uniCelShape&#45;&#45;normNuc -->\n<g id=\"edge15\" class=\"edge\">\n<title>uniCelShape&#45;&#45;normNuc</title>\n<path fill=\"none\" stroke=\"black\" stroke-dasharray=\"5,2\" d=\"M172.1,-66.85C227.28,-132.61 421.17,-363.68 476.07,-429.1\"/>\n</g>\n<!-- uniCelShape&#45;&#45;class -->\n<g id=\"edge16\" class=\"edge\">\n<title>uniCelShape&#45;&#45;class</title>\n<path fill=\"none\" stroke=\"black\" d=\"M157.35,-67.43C157.35,-140.64 157.35,-413.74 157.35,-487.04\"/>\n</g>\n<!-- marAdh&#45;&#45;bareNuc -->\n<g id=\"edge17\" class=\"edge\">\n<title>marAdh&#45;&#45;bareNuc</title>\n<path fill=\"none\" stroke=\"black\" stroke-dasharray=\"1,5\" d=\"M41.6,-349.04C41.6,-314.44 41.6,-239.69 41.6,-205.26\"/>\n</g>\n<!-- marAdh&#45;&#45;blaChroma -->\n<g id=\"edge18\" class=\"edge\">\n<title>marAdh&#45;&#45;blaChroma</title>\n<path fill=\"none\" stroke=\"black\" stroke-dasharray=\"1,5\" d=\"M66.59,-381.73C121.41,-413.38 251.81,-488.67 308.09,-521.16\"/>\n</g>\n<!-- marAdh&#45;&#45;normNuc -->\n<g id=\"edge19\" class=\"edge\">\n<title>marAdh&#45;&#45;normNuc</title>\n<path fill=\"none\" stroke=\"black\" stroke-dasharray=\"1,5\" d=\"M79.11,-373.92C162.48,-388.62 362.61,-423.9 449.37,-439.2\"/>\n</g>\n<!-- marAdh&#45;&#45;class -->\n<g id=\"edge20\" class=\"edge\">\n<title>marAdh&#45;&#45;class</title>\n<path fill=\"none\" stroke=\"black\" stroke-dasharray=\"1,5\" d=\"M55.79,-384.22C78.25,-410.98 121.68,-462.75 143.76,-489.05\"/>\n</g>\n<!-- epiCelSize&#45;&#45;blaChroma -->\n<g id=\"edge21\" class=\"edge\">\n<title>epiCelSize&#45;&#45;blaChroma</title>\n<path fill=\"none\" stroke=\"black\" stroke-dasharray=\"1,5\" d=\"M537.63,-294.67C498,-341.9 388.8,-472.04 349.24,-519.18\"/>\n</g>\n<!-- epiCelSize&#45;&#45;normNuc -->\n<g id=\"edge22\" class=\"edge\">\n<title>epiCelSize&#45;&#45;normNuc</title>\n<path fill=\"none\" stroke=\"black\" stroke-dasharray=\"1,5\" d=\"M545.65,-295.37C533.79,-327.94 509.01,-396.03 497.19,-428.5\"/>\n</g>\n<!-- epiCelSize&#45;&#45;class -->\n<g id=\"edge23\" class=\"edge\">\n<title>epiCelSize&#45;&#45;class</title>\n<path fill=\"none\" stroke=\"black\" stroke-dasharray=\"1,5\" d=\"M525.72,-292.57C452.05,-335.11 245.96,-454.09 178.8,-492.86\"/>\n</g>\n<!-- bareNuc&#45;&#45;blaChroma -->\n<g id=\"edge24\" class=\"edge\">\n<title>bareNuc&#45;&#45;blaChroma</title>\n<path fill=\"none\" stroke=\"black\" stroke-dasharray=\"1,5\" d=\"M56.13,-204.54C106.03,-264.01 270.04,-459.47 320.07,-519.09\"/>\n</g>\n<!-- bareNuc&#45;&#45;class -->\n<g id=\"edge25\" class=\"edge\">\n<title>bareNuc&#45;&#45;class</title>\n<path fill=\"none\" stroke=\"black\" d=\"M48.15,-205.23C68.53,-261.21 130.59,-431.73 150.87,-487.44\"/>\n</g>\n<!-- blaChroma&#45;&#45;normNuc -->\n<g id=\"edge26\" class=\"edge\">\n<title>blaChroma&#45;&#45;normNuc</title>\n<path fill=\"none\" stroke=\"black\" stroke-dasharray=\"1,5\" d=\"M361.5,-521.04C390.5,-504.3 436.41,-477.79 464.96,-461.31\"/>\n</g>\n<!-- blaChroma&#45;&#45;class -->\n<g id=\"edge27\" class=\"edge\">\n<title>blaChroma&#45;&#45;class</title>\n<path fill=\"none\" stroke=\"black\" stroke-dasharray=\"5,2\" d=\"M289.02,-528.47C256.08,-522.66 212.69,-515.01 184.9,-510.11\"/>\n</g>\n<!-- normNuc&#45;&#45;class -->\n<g id=\"edge28\" class=\"edge\">\n<title>normNuc&#45;&#45;class</title>\n<path fill=\"none\" stroke=\"black\" stroke-dasharray=\"5,2\" d=\"M449.45,-453.75C380.47,-465.91 243.46,-490.07 184.92,-500.39\"/>\n</g>\n<!-- mitoses -->\n<g id=\"node10\" class=\"node\">\n<title>mitoses</title>\n<ellipse fill=\"#0571b0\" stroke=\"black\" cx=\"555.98\" cy=\"-536.26\" rx=\"38.19\" ry=\"18\"/>\n<text text-anchor=\"middle\" x=\"555.98\" y=\"-532.56\" font-family=\"Times New Roman,serif\" font-size=\"14.00\">mitoses</text>\n</g>\n</g>\n</svg>\n",
      "text/plain": "<graphviz.graphs.Graph at 0x1b8c119d030>"
     },
     "execution_count": 33,
     "metadata": {},
     "output_type": "execute_result"
    }
   ],
   "source": [
    "def get_color_corr(max_corr):\n",
    "    colors = ['#ca0020','#f4a582','#92c5de','#0571b0'][::-1]\n",
    "    if max_corr > 0.9:\n",
    "        return colors[3]\n",
    "    elif max_corr > 0.8:\n",
    "        return colors[2]\n",
    "    elif max_corr > 0.6:\n",
    "        return colors[1]\n",
    "    else:\n",
    "        return colors[0]\n",
    "\n",
    "# make visualization with circular layout\n",
    "graph = gv.Graph(format='svg', engine='circo')\n",
    "\n",
    "# add nodes for each variable\n",
    "for i, col in enumerate(pears_corr.columns):\n",
    "    # check 2nd max value to exclude self correlation\n",
    "    max_corr = pears_corr[col].sort_values(ascending=False)[1]\n",
    "    graph.node(col, style='filled', fillcolor=get_color_corr(max_corr))\n",
    "\n",
    "# add edges for each pair of variables with correlation > 0.6\n",
    "for i, col in enumerate(pears_corr.columns):\n",
    "    for j in range(i, len(pears_corr.columns)):\n",
    "        row = pears_corr.columns[j]\n",
    "        if pears_corr[col][row] > 0.6 and col != row:\n",
    "            graph.edge(col, row, style=style_corr(pears_corr[col][row]),\n",
    "                       penwidth=thickness_corr(pears_corr[col][row]))\n",
    "\n",
    "graph"
   ],
   "metadata": {
    "collapsed": false
   }
  },
  {
   "cell_type": "markdown",
   "source": [
    "5. Answer the following questions:\n",
    "• At the selected threshold, which nodes are disconnected from the rest of the graph and what\n",
    "do they indicate? (1P)\n",
    "\n",
    "Nodes code and mitoses are disconnected from the rest of the graph. For node mitoses, this indicates that the variable is not correlated with any other variable. Node code cannot be correlated with any other variable because it is the identifier of the sample.\n",
    "\n",
    "• If two nodes A and B are strongly correlated, and node C is strongly correlated with node\n",
    "B, can we conclude that node C will be also strongly correlated with node A? (1P)\n",
    "\n",
    "No, example: take A=X, B=Y, and C=X+Y. We can take X and Y to be independent, yet both A and B are correlated (positively, Pearson) with C\n",
    "\n",
    "• Based on the visualization, which variables would you propose to predict the class? (1P)\n",
    "\n",
    "Class is well correlated with bare_nuc, uniCelShape and uniCelS. But since uniCelShape and uniCelS are highly correlated, we can drop one of them. As a result, we get bare_nuc and uniCelShape as the best predictors of class."
   ],
   "metadata": {
    "collapsed": false
   }
  },
  {
   "cell_type": "markdown",
   "source": [
    "# Task 2\n",
    "\n",
    "a) The ZAME visualization tool uses a specific hierarchical data structure for storing graphs at\n",
    "multiple scales. At the lowest level, four integers are stored per vertex, and either six or four per\n",
    "edge. What do these integers describe? Which two are optional in case of the edges, and what is\n",
    "their purpose? (3P)\n",
    "\n",
    "They represent attributes that maintain the graph topology. For each vertex, there is a first and last edge for each of two linked edge lists for its outgoing and incoming edges. Each of these lists is in a pair of columns in the edge table for the outgoing and incoming edge lists. Two more columns of the edge table store its first and second vertex.\n",
    "\n",
    "The doubly-linked edge lists are an optimization for fast edge removal, the back-link can be omitted to reduce memory consumption. IVTK needs to store four numbers for each vertex, and either six or four numbers for each edge. I\n",
    "\n",
    "b) The zoomable edge table stores edges in a particular order that makes it fast to search for an edge\n",
    "given its vertices. Write efficient pseudocode that returns the index within this table of an edge\n",
    "connecting vertices u and v, and returns None if the table does not contain such an edge. (4P)\n",
    "\n",
    "...\n",
    "\n",
    "c) In the pseudocode listed in the paper’s Figure 4, some modifications are highlighted in boldface,\n",
    "on lines starting with a bar. What is the purpose of these modifications? (2P)\n",
    "\n",
    "These modifications penalize edges according to the number of times they already participate in\n",
    "a path between existing pivots. This penalty encourages the algorithm to place new\n",
    "pivots in regions of the graph not traversed by paths between previous pivots.\n",
    "\n",
    "d) What is the difference between geometric zoom and detail zoom in the system? (1P)\n",
    "\n",
    "• Geometric zoom provides information on the position and dimensions of the currently visible viewport of the data.\n",
    "• Detail zoom outlines the detail level of the adjacency matrix"
   ],
   "metadata": {
    "collapsed": false
   }
  },
  {
   "cell_type": "code",
   "execution_count": null,
   "outputs": [],
   "source": [],
   "metadata": {
    "collapsed": false
   }
  }
 ],
 "metadata": {
  "kernelspec": {
   "display_name": "Python 3",
   "language": "python",
   "name": "python3"
  },
  "language_info": {
   "codemirror_mode": {
    "name": "ipython",
    "version": 2
   },
   "file_extension": ".py",
   "mimetype": "text/x-python",
   "name": "python",
   "nbconvert_exporter": "python",
   "pygments_lexer": "ipython2",
   "version": "2.7.6"
  }
 },
 "nbformat": 4,
 "nbformat_minor": 0
}
