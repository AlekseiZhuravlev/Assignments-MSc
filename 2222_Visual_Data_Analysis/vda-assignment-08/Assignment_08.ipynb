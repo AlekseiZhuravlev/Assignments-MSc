{
 "cells": [
  {
   "cell_type": "markdown",
   "source": [
    "# Exercise 2\n",
    "\n",
    "Please submit answers to the following questions:\n",
    "a) How many numbers need to be stored to fully specify a scalar field on a Cartesian grid of size\n",
    "10 × 10 × 10 (including the data itself)? What do those numbers represent? (2P)"
   ],
   "metadata": {
    "collapsed": false
   }
  },
  {
   "cell_type": "markdown",
   "source": [
    "Memory consumption:\n",
    "• Nx•Ny•Nz data values\n",
    "• 1 integer for dimension D\n",
    "• D integers to store axis lengths\n",
    "• 1 float to store dx(=dy=dz)\n",
    "• Optional (see Section 8.6):\n",
    "– D floats to store origin\n",
    "– D rotation angles for axes\n",
    "\n",
    "For our task, we have:\n",
    "• Nx•Ny•Nz = 10•10•10 = 1000 data values\n",
    "• 1 integer for dimension\n",
    "• D integers to store axis lengths = 10, 10, 10\n",
    "• 1 float to store dx(=dy=dz) = 1\n",
    "– D floats to store origin = 0, 0, 0\n",
    "– D rotation angles for axes = 0, 0, 0\n",
    "\n",
    "Total: 1000 + 1 + 3 + 1 + 3 + 3 = 1011 numbers"
   ],
   "metadata": {
    "collapsed": false
   }
  },
  {
   "cell_type": "markdown",
   "source": [
    "b) How many cells does the grid from a) contain? (2P)"
   ],
   "metadata": {
    "collapsed": false
   }
  },
  {
   "cell_type": "markdown",
   "source": [
    "Number of cells = (Nx-1)•(Ny-1)•(Nz-1) = 9•9•9 = 729"
   ],
   "metadata": {
    "collapsed": false
   }
  },
  {
   "cell_type": "markdown",
   "source": [
    "c) How many additional numbers need to be stored if the same grid is specified in more general form\n",
    "as a rectilinear grid? (2P)\n",
    "\n",
    "For rectilinear grids, spacing must be stored explicitly: x_coord[L-1], y_coord[M-1], z_coord[N-1] (1D arrays)\n",
    "Instead of 1 float for dx=dy=dz, we need to store 3 arrays of size 9, 9, 9, respectively, so 26 additional numbers."
   ],
   "metadata": {
    "collapsed": false
   }
  },
  {
   "cell_type": "markdown",
   "source": [
    "d) Given a rectilinear grid, what criterion has to be checked to decide if it can also be represented\n",
    "as a uniform grid? (2P)\n",
    "\n",
    "For uniform grids, spacing between grid points should be constant in each dimension. Resolution / spacing can be different between dimensions, so dx != dy != dz.\n",
    "\n",
    "So, we need to check that arrays storing spacing are constant, i.e. x_coord[i] - x_coord[i-1] = const, y_coord[i] - y_coord[i-1] = const, z_coord[i] - z_coord[i-1] = const."
   ],
   "metadata": {
    "collapsed": false
   }
  },
  {
   "cell_type": "markdown",
   "source": [
    "# Exercise 3 (B-Spline Kernels)"
   ],
   "metadata": {
    "collapsed": false
   }
  },
  {
   "cell_type": "markdown",
   "source": [
    "See convolution.py"
   ],
   "metadata": {
    "collapsed": false
   }
  },
  {
   "cell_type": "markdown",
   "source": [
    "# Exercise 4 (Mapping Between Index and World Space)"
   ],
   "metadata": {
    "collapsed": false
   }
  },
  {
   "cell_type": "code",
   "execution_count": 4,
   "outputs": [],
   "source": [
    "import numpy as np\n",
    "\n",
    "p = np.array([1, -1, 2]).T\n",
    "e = 1/np.sqrt(2) * np.array([1, 0, 1]).T\n",
    "f = np.array([0, 1, 0]).T\n",
    "g = 1/np.sqrt(2) * np.array([1, 0, -1]).T\n",
    "dx = 1\n",
    "dy = 2\n",
    "dz = 1"
   ],
   "metadata": {
    "collapsed": false
   }
  },
  {
   "cell_type": "markdown",
   "source": [
    "a) Specify the affine transformation matrix from index space coordinates (i, j, k) to world space\n",
    "coordinates (x, y, z)"
   ],
   "metadata": {
    "collapsed": false
   }
  },
  {
   "cell_type": "code",
   "execution_count": 5,
   "outputs": [],
   "source": [
    "affine_matrix = np.array([[e[0]*dx, f[0]*dy, g[0]*dz, p[0]],\n",
    "              [e[1]*dx, f[1]*dy, g[1]*dz, p[1]],\n",
    "              [e[2]*dx, f[2]*dy, g[2]*dz, p[2]],\n",
    "              [0, 0, 0, 1]])"
   ],
   "metadata": {
    "collapsed": false
   }
  },
  {
   "cell_type": "markdown",
   "source": [
    "b) Use the transformation matrix to determine the world space position of the voxel with index\n",
    "coordinates (2, 1, 5), and the displacement vector in world space that corresponds to incrementing\n",
    "the first index space coordinate by one voxel, the second one by two voxels, and the third one by\n",
    "minus one voxel. Which of the answers changes if we move the origin p and why?"
   ],
   "metadata": {
    "collapsed": false
   }
  },
  {
   "cell_type": "code",
   "execution_count": 6,
   "outputs": [
    {
     "name": "stdout",
     "output_type": "stream",
     "text": [
      "world_space [ 5.94974747  1.         -0.12132034  1.        ]\n",
      "displacement [0.         4.         1.41421356 0.        ]\n"
     ]
    }
   ],
   "source": [
    "index = np.array([2, 1, 5, 1]).T\n",
    "world_space = affine_matrix @ index\n",
    "print('world_space', world_space)\n",
    "\n",
    "displacement = affine_matrix @ np.array([1, 2, -1, 0]).T\n",
    "print('displacement', displacement)"
   ],
   "metadata": {
    "collapsed": false
   }
  },
  {
   "cell_type": "markdown",
   "source": [
    "If we move the origin p, the world space position of the voxel with index coordinates (2, 1, 5) will change, but the displacement vector will not change."
   ],
   "metadata": {
    "collapsed": false
   }
  },
  {
   "cell_type": "code",
   "execution_count": 7,
   "outputs": [
    {
     "name": "stdout",
     "output_type": "stream",
     "text": [
      "world_space [ 9.94974747 12.         12.87867966  1.        ]\n",
      "displacement [0.         4.         1.41421356 0.        ]\n"
     ]
    }
   ],
   "source": [
    "p = np.array([5, 10, 15]).T\n",
    "\n",
    "affine_matrix = np.array([[e[0]*dx, f[0]*dy, g[0]*dz, p[0]],\n",
    "              [e[1]*dx, f[1]*dy, g[1]*dz, p[1]],\n",
    "              [e[2]*dx, f[2]*dy, g[2]*dz, p[2]],\n",
    "              [0, 0, 0, 1]])\n",
    "\n",
    "index = np.array([2, 1, 5, 1]).T\n",
    "world_space = affine_matrix @ index\n",
    "print('world_space', world_space)\n",
    "\n",
    "displacement = affine_matrix @ np.array([1, 2, -1, 0]).T\n",
    "print('displacement', displacement)"
   ],
   "metadata": {
    "collapsed": false
   }
  },
  {
   "cell_type": "markdown",
   "source": [
    "c) Specify the corresponding mapping for transferring world space coordinates (x, y, z) back to index\n",
    "space coordinates (i, j, k)"
   ],
   "metadata": {
    "collapsed": false
   }
  },
  {
   "cell_type": "code",
   "execution_count": 8,
   "outputs": [
    {
     "name": "stdout",
     "output_type": "stream",
     "text": [
      "index [0. 0. 0. 1.]\n"
     ]
    }
   ],
   "source": [
    "affine_matrix_inv = np.linalg.inv(affine_matrix)\n",
    "\n",
    "world_space = np.array([5, 10, 15, 1]).T\n",
    "index = affine_matrix_inv @ world_space\n",
    "\n",
    "print('index', index)"
   ],
   "metadata": {
    "collapsed": false
   }
  },
  {
   "cell_type": "markdown",
   "source": [
    "d) How does the original transformation matrix from index to world space change if we upsample\n",
    "along the y-axis by a factor of 2 to achieve isotropic voxels? Keep in mind that the original sample\n",
    "points keep their world space positions."
   ],
   "metadata": {
    "collapsed": false
   }
  },
  {
   "cell_type": "markdown",
   "source": [
    "We set dy to 1."
   ],
   "metadata": {
    "collapsed": false
   }
  },
  {
   "cell_type": "code",
   "execution_count": 10,
   "outputs": [
    {
     "name": "stdout",
     "output_type": "stream",
     "text": [
      "world_space [ 9.94974747 12.         12.87867966  1.        ]\n"
     ]
    }
   ],
   "source": [
    "dy = 1\n",
    "\n",
    "affine_matrix = np.array([[e[0]*dx, f[0]*dy, g[0]*dz, p[0]],\n",
    "              [e[1]*dx, f[1]*dy, g[1]*dz, p[1]],\n",
    "              [e[2]*dx, f[2]*dy, g[2]*dz, p[2]],\n",
    "              [0, 0, 0, 1]])\n",
    "\n",
    "# original sample was (2, 1, 5)\n",
    "index = np.array([2, 2, 5, 1]).T\n",
    "world_space = affine_matrix @ index\n",
    "print('world_space', world_space)"
   ],
   "metadata": {
    "collapsed": false
   }
  },
  {
   "cell_type": "code",
   "execution_count": null,
   "outputs": [],
   "source": [],
   "metadata": {
    "collapsed": false
   }
  }
 ],
 "metadata": {
  "kernelspec": {
   "display_name": "Python 3",
   "language": "python",
   "name": "python3"
  },
  "language_info": {
   "codemirror_mode": {
    "name": "ipython",
    "version": 2
   },
   "file_extension": ".py",
   "mimetype": "text/x-python",
   "name": "python",
   "nbconvert_exporter": "python",
   "pygments_lexer": "ipython2",
   "version": "2.7.6"
  }
 },
 "nbformat": 4,
 "nbformat_minor": 0
}
