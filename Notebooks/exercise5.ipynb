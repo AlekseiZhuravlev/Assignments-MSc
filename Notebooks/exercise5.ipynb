{
 "cells": [
  {
   "cell_type": "markdown",
   "id": "ea0af67b",
   "metadata": {},
   "source": [
    "# Exercise sheet 5"
   ]
  },
  {
   "cell_type": "markdown",
   "id": "f74b24d4",
   "metadata": {},
   "source": [
    "## Task 5.1"
   ]
  },
  {
   "cell_type": "markdown",
   "id": "3a3919ff",
   "metadata": {},
   "source": [
    "Prove the following identities:\n",
    "$$\n",
    "\\begin{align}\n",
    "R_X\\left(\\theta\\right)=e^{-i\\frac\\theta2 X},\\quad\n",
    "R_Y\\left(\\theta\\right)=e^{-i\\frac\\theta2 Y},\\quad\n",
    "R_Z\\left(\\theta\\right)=e^{-i\\frac\\theta2 Z}\n",
    "\\end{align}\n",
    "$$"
   ]
  },
  {
   "cell_type": "markdown",
   "id": "17853930",
   "metadata": {},
   "source": [
    "Proof: From the additional material of Lecture 11 we know that if $A$ is a square involutory (self-inverse) matrix, then\n",
    "$$\n",
    "e^{i\\theta A}=\\cos(\\theta)I+i\\sin(\\theta)A\n",
    "$$"
   ]
  },
  {
   "cell_type": "markdown",
   "id": "bb6d8432",
   "metadata": {},
   "source": [
    "Thus we first show involutariness of $X$, $Y$ and $Z$:\n",
    "$$\n",
    "\\begin{align}\n",
    "XX=&\n",
    "\\begin{pmatrix}\n",
    "0 & 1 \\\\\n",
    "1 & 0\n",
    "\\end{pmatrix}\n",
    "\\begin{pmatrix}\n",
    "0 & 1 \\\\\n",
    "1 & 0\n",
    "\\end{pmatrix}\n",
    "=\\begin{pmatrix}\n",
    "1 & 0 \\\\\n",
    "0 & 1\n",
    "\\end{pmatrix}\\;, \\\\\n",
    "YY=&\n",
    "\\begin{pmatrix}\n",
    "0 & -i \\\\\n",
    "i & 0\n",
    "\\end{pmatrix}\n",
    "\\begin{pmatrix}\n",
    "0 & -i \\\\\n",
    "i & 0\n",
    "\\end{pmatrix}\n",
    "=\\begin{pmatrix}\n",
    "1 & 0 \\\\\n",
    "0 & 1\n",
    "\\end{pmatrix}\\;, \\\\\n",
    "ZZ=&\n",
    "\\begin{pmatrix}\n",
    "1 & 0 \\\\\n",
    "0 & -1\n",
    "\\end{pmatrix}\n",
    "\\begin{pmatrix}\n",
    "1 & 0 \\\\\n",
    "0 & -1\n",
    "\\end{pmatrix}\n",
    "=\\begin{pmatrix}\n",
    "1 & 0 \\\\\n",
    "0 & 1\n",
    "\\end{pmatrix}\n",
    "\\end{align}\n",
    "$$"
   ]
  },
  {
   "cell_type": "markdown",
   "id": "d22db13a",
   "metadata": {},
   "source": [
    "Hence\n",
    "$$\n",
    "\\begin{align}\n",
    "e^{-i\\frac\\theta2 X}\n",
    "&=\\cos\\left(\\frac\\theta2\\right)\n",
    "\\begin{pmatrix}\n",
    "1 & 0 \\\\\n",
    "0 & 1\n",
    "\\end{pmatrix}\n",
    "-i\\sin\\left(\\frac\\theta2\\right)\n",
    "\\begin{pmatrix}\n",
    "0 & 1 \\\\\n",
    "1 & 0\n",
    "\\end{pmatrix} \\\\\n",
    "&=\\begin{pmatrix}\n",
    "\\cos\\left(\\frac\\theta2\\right) & -i\\sin\\left(\\frac\\theta2\\right) \\\\\n",
    "-i\\sin\\left(\\frac\\theta2\\right) & \\cos\\left(\\frac\\theta2\\right)\n",
    "\\end{pmatrix}=R_X(\\theta)\\;, \\\\\n",
    "e^{-i\\frac\\theta2 Y}\n",
    "&=\\cos\\left(\\frac\\theta2\\right)\n",
    "\\begin{pmatrix}\n",
    "1 & 0 \\\\\n",
    "0 & 1\n",
    "\\end{pmatrix}\n",
    "-i\\sin\\left(\\frac\\theta2\\right)\n",
    "\\begin{pmatrix}\n",
    "0 & -i \\\\\n",
    "i & 0\n",
    "\\end{pmatrix} \\\\\n",
    "&=\\begin{pmatrix}\n",
    "\\cos\\left(\\frac\\theta2\\right) & -\\sin\\left(\\frac\\theta2\\right) \\\\\n",
    "\\sin\\left(\\frac\\theta2\\right) & \\cos\\left(\\frac\\theta2\\right)\n",
    "\\end{pmatrix}=R_Y(\\theta)\\;, \\\\\n",
    "e^{-i\\frac\\theta2 Z}\n",
    "&=\\cos\\left(\\frac\\theta2\\right)\n",
    "\\begin{pmatrix}\n",
    "1 & 0 \\\\\n",
    "0 & 1\n",
    "\\end{pmatrix}\n",
    "-i\\sin\\left(\\frac\\theta2\\right)\n",
    "\\begin{pmatrix}\n",
    "1 & 0 \\\\\n",
    "0 & -1\n",
    "\\end{pmatrix} \\\\\n",
    "&=\\begin{pmatrix}\n",
    "\\cos\\left(\\frac\\theta2\\right) -i\\sin\\left(\\frac\\theta2\\right) & 0 \\\\\n",
    "0 & \\cos\\left(\\frac\\theta2\\right) +i\\sin\\left(\\frac\\theta2\\right)\n",
    "\\end{pmatrix}=R_Z(\\theta)\n",
    "\\end{align}\n",
    "$$"
   ]
  },
  {
   "cell_type": "markdown",
   "id": "19640d01",
   "metadata": {},
   "source": [
    "## Task 5.2"
   ]
  },
  {
   "cell_type": "markdown",
   "id": "87d32c06",
   "metadata": {},
   "source": [
    "Prove, up to or modulo a phase factor\n",
    "$$\n",
    "H = e^{i\\frac\\pi2H}\n",
    "$$"
   ]
  },
  {
   "cell_type": "markdown",
   "id": "5ef93b62",
   "metadata": {},
   "source": [
    "Proof:\n",
    "We know from task 1.1 e) that $H$ is involutory and thus\n",
    "$$\n",
    "e^{i\\frac\\pi2H}=\\cos\\left(\\frac\\pi2\\right)I+i\\sin\\left(\\frac\\pi2\\right)H=iH\n",
    "$$"
   ]
  },
  {
   "cell_type": "markdown",
   "id": "d2afee49",
   "metadata": {},
   "source": [
    "## Task 5.3"
   ]
  },
  {
   "cell_type": "markdown",
   "id": "34d20042",
   "metadata": {},
   "source": [
    "Prove the following statement:\n",
    "\n",
    "If $\\hat H$ is a Hermitian matrix with eigenvectors $\\left|u_j\\right>$ and eigenvalues $\\lambda_j$ then $U=e^{-i\\hat H}$ has eigenvectors $\\left|u_j\\right>$ and eigenvalues $e^{-i\\lambda_j}$."
   ]
  },
  {
   "cell_type": "markdown",
   "id": "5d01d398",
   "metadata": {},
   "source": [
    "Proof:\n",
    "$$\n",
    "\\begin{align}\n",
    "U\\left|u_j\\right>=e^{-i\\hat H}\\left|u_j\\right>\n",
    "&=\\sum_{k=0}^{\\infty}\\frac{\\left(-i\\hat H\\right)^k}{k!}\\left|u_j\\right> \\\\\n",
    "&=\\sum_{k=0}^{\\infty}\\frac{(-i)^k}{k!}\\hat H^k\\left|u_j\\right> \\\\\n",
    "&=\\sum_{k=0}^{\\infty}\\frac{(-i)^k}{k!}\\lambda_j^k\\left|u_j\\right> \\\\\n",
    "&=e^{-i \\lambda_j}\\left|u_j\\right>\n",
    "\\end{align}\n",
    "$$"
   ]
  },
  {
   "cell_type": "markdown",
   "id": "52d9b55b",
   "metadata": {},
   "source": [
    "Are projectors $\\hat H=\\left|\\psi\\right>\\left<\\psi\\right|$ Hermitian?\n",
    "\n",
    "Yes, since $\\left|\\psi\\right>^{\\dagger}=\\left<\\psi\\right|$ and thus\n",
    "$$\n",
    "\\hat H^{\\dagger}=\\left(\\left|\\psi\\right>\\left<\\psi\\right|\\right)^{\\dagger}\n",
    "=\\left<\\psi\\right|^{\\dagger}\\left|\\psi\\right>^{\\dagger}\n",
    "=\\left|\\psi\\right>\\left<\\psi\\right|=\\hat H\n",
    "$$"
   ]
  },
  {
   "cell_type": "markdown",
   "id": "4107546a",
   "metadata": {},
   "source": [
    "Prove\n",
    "$$\n",
    "e^{\\hat H}=I+(e-1)\\hat H\n",
    "$$"
   ]
  },
  {
   "cell_type": "markdown",
   "id": "5a2ed2e4",
   "metadata": {},
   "source": [
    "Proof:\n",
    "$$\n",
    "\\begin{align}\n",
    "e^{\\hat H}&=\\sum_{k=0}^{\\infty}\\frac{\\hat H^k}{k!}=I+\\sum_{k=1}^{\\infty}\\frac{\\hat H^k}{k!}=I+\\sum_{k=1}^{\\infty}\\frac{\\hat H}{k!}=I+\\hat H\\sum_{k=1}^{\\infty}\\frac{1}{k!}  \n",
    "=I+(e-1)\\hat H\n",
    "\\end{align}\n",
    "$$"
   ]
  },
  {
   "cell_type": "markdown",
   "id": "4d73b5fe",
   "metadata": {},
   "source": [
    "Prove\n",
    "$$\n",
    "e^{-i\\pi\\hat H}=I-2\\hat H\n",
    "$$"
   ]
  },
  {
   "cell_type": "markdown",
   "id": "01c02b8f",
   "metadata": {},
   "source": [
    "Proof: With $e^{-i\\pi}=-1$\n",
    "$$\n",
    "\\begin{align}\n",
    "e^{-i\\pi\\hat H}&=\\sum_{k=0}^{\\infty}\\frac{\\left(-i\\pi\\hat H\\right)^k}{k!}=I+\\sum_{k=1}^{\\infty}\\frac{\\left(-i\\pi\\right)^k\\hat H}{k!}=I+H\\left(e^{-i\\pi}-1\\right)=I-2\\hat H\n",
    "\\end{align}\n",
    "$$"
   ]
  },
  {
   "cell_type": "markdown",
   "id": "9ac76ed2",
   "metadata": {},
   "source": [
    "Given $\\hat H=\\frac18\\left(I-Z_1-Z_2+Z_3+Z_1Z_2-Z_1Z_3-Z_2Z_3+Z_1Z_2Z_3\\right)$ evaluate $\\hat H\\left|110\\right>$"
   ]
  },
  {
   "cell_type": "markdown",
   "id": "e195e219",
   "metadata": {},
   "source": [
    "All summands evalute to $\\left|110\\right>$:\n",
    "$$\n",
    "\\hat H\\left|110\\right>=\\frac18\\left(\\left|110\\right>+\\left|110\\right>+\\left|110\\right>+\\left|110\\right>+\\left|110\\right>+\\left|110\\right>+\\left|110\\right>+\\left|110\\right>\\right)=\\left|110\\right>\n",
    "$$"
   ]
  },
  {
   "cell_type": "markdown",
   "id": "2e9a2fbe",
   "metadata": {},
   "source": [
    "$\\hat H$ can be written as a projector $\\hat H=\\left|110\\right>\\left<110\\right|$. Does this make sense?"
   ]
  },
  {
   "cell_type": "markdown",
   "id": "24f118f9",
   "metadata": {},
   "source": [
    "Yes, it projects an arbitrary state $\\left|\\psi\\right>=\\sum_{x\\in\\{0,1\\}^3}\\alpha_x\\left|x\\right>$ on its $\\left|110\\right>$-component\n",
    "$$\n",
    "\\hat H\\left|\\psi\\right>=\\left|110\\right>\\sum_{x\\in\\{0,1\\}^3}\\alpha_x\\left<110\\mid x\\right>=\\alpha_{110}\\left|110\\right>\n",
    "$$"
   ]
  },
  {
   "cell_type": "markdown",
   "id": "d766dbd8",
   "metadata": {},
   "source": [
    "What does the operator $e^{-i\\pi\\hat H}=I-2\\left|110\\right>\\left<110\\right|$ do?"
   ]
  },
  {
   "cell_type": "markdown",
   "id": "0eeccdc3",
   "metadata": {},
   "source": [
    "This operator has the following effect\n",
    "$$\n",
    "e^{-i\\pi\\hat H}\\left|x\\right>=\n",
    "\\begin{cases}\n",
    "-\\left|x\\right>, &\\text{if }x=110, \\\\\n",
    "\\left|x\\right>, &\\text{else.}\n",
    "\\end{cases}\n",
    "$$\n",
    "It only flips the phase of the state $\\left|110\\right>$ and thus is equal to the oracle operator $S_f$ in Grover's algorithm."
   ]
  },
  {
   "cell_type": "markdown",
   "id": "3f0442d0",
   "metadata": {},
   "source": [
    "## Task 5.4"
   ]
  },
  {
   "cell_type": "markdown",
   "id": "66027a99",
   "metadata": {},
   "source": [
    "Standard imports"
   ]
  },
  {
   "cell_type": "code",
   "execution_count": 1,
   "id": "de567d86",
   "metadata": {},
   "outputs": [],
   "source": [
    "from qiskit import Aer, transpile\n",
    "from qiskit import QuantumCircuit\n",
    "from qiskit import QuantumRegister\n",
    "from qiskit import ClassicalRegister\n",
    "from qiskit.visualization import plot_histogram"
   ]
  },
  {
   "cell_type": "markdown",
   "id": "b8771a4f",
   "metadata": {},
   "source": [
    "Implementation of oracle operator $U_f$"
   ]
  },
  {
   "cell_type": "code",
   "execution_count": 3,
   "id": "a0dcea3b",
   "metadata": {
    "scrolled": true
   },
   "outputs": [
    {
     "data": {
      "text/plain": [
       "<qiskit.circuit.instructionset.InstructionSet at 0x148781acf40>"
      ]
     },
     "execution_count": 3,
     "metadata": {},
     "output_type": "execute_result"
    }
   ],
   "source": [
    "opUf = QuantumCircuit(6, name=r'$U_f$')\n",
    "opUf.ccx(0, 1, 3)\n",
    "opUf.x(2)\n",
    "opUf.ccx(2, 3, 4)\n",
    "opUf.cx(4, 5)\n",
    "opUf.ccx(2, 3, 4)\n",
    "opUf.x(2)\n",
    "opUf.ccx(0, 1, 3)"
   ]
  },
  {
   "cell_type": "markdown",
   "id": "e6727f7e",
   "metadata": {},
   "source": [
    "Draw the operator"
   ]
  },
  {
   "cell_type": "code",
   "execution_count": 4,
   "id": "5b94153d",
   "metadata": {},
   "outputs": [
    {
     "data": {
      "image/png": "[encoded data removed]",
      "text/plain": [
       "<Figure size 705.552x535.111 with 1 Axes>"
      ]
     },
     "execution_count": 4,
     "metadata": {},
     "output_type": "execute_result"
    }
   ],
   "source": [
    "opUf.draw('mpl', style='bw')"
   ]
  },
  {
   "cell_type": "markdown",
   "id": "aa7545c0",
   "metadata": {},
   "source": [
    "Implementation of diffusion operator $D$"
   ]
  },
  {
   "cell_type": "code",
   "execution_count": 44,
   "id": "3dd440af",
   "metadata": {},
   "outputs": [
    {
     "data": {
      "text/plain": [
       "<qiskit.circuit.instructionset.InstructionSet at 0x14846001960>"
      ]
     },
     "execution_count": 44,
     "metadata": {},
     "output_type": "execute_result"
    }
   ],
   "source": [
    "opD = QuantumCircuit(3, name=r'$D$')\n",
    "opD.h([0, 1, 2])\n",
    "opD.x([0, 1, 2])\n",
    "opD.h(2)\n",
    "opD.ccx(0, 1, 2)\n",
    "opD.h(2)\n",
    "opD.x([0, 1, 2])\n",
    "opD.h([0, 1, 2])"
   ]
  },
  {
   "cell_type": "markdown",
   "id": "375ceeec",
   "metadata": {},
   "source": [
    "Draw the circuit"
   ]
  },
  {
   "cell_type": "code",
   "execution_count": 45,
   "id": "f6e2f27d",
   "metadata": {},
   "outputs": [
    {
     "data": {
      "image/png": "[encoded data removed]",
      "text/plain": [
       "<Figure size 705.552x284.278 with 1 Axes>"
      ]
     },
     "execution_count": 45,
     "metadata": {},
     "output_type": "execute_result"
    }
   ],
   "source": [
    "opD.draw('mpl', style='bw')"
   ]
  },
  {
   "cell_type": "markdown",
   "id": "a57e2ffc",
   "metadata": {},
   "source": [
    "## Task 5.5"
   ]
  },
  {
   "cell_type": "markdown",
   "id": "e7e2162a",
   "metadata": {},
   "source": [
    "Circuit with no Grover iterations"
   ]
  },
  {
   "cell_type": "code",
   "execution_count": 46,
   "id": "110126f3",
   "metadata": {},
   "outputs": [
    {
     "data": {
      "text/plain": [
       "<qiskit.circuit.instructionset.InstructionSet at 0x1487fe26920>"
      ]
     },
     "execution_count": 46,
     "metadata": {},
     "output_type": "execute_result"
    }
   ],
   "source": [
    "noGrov = QuantumCircuit(6, 3)\n",
    "noGrov.h([0, 1, 2, 5])\n",
    "noGrov.z(5)\n",
    "noGrov.append(opUf, qargs=[0, 1, 2, 3, 4, 5])\n",
    "noGrov.measure([0, 1, 2], [0, 1, 2])"
   ]
  },
  {
   "cell_type": "markdown",
   "id": "52b0842e",
   "metadata": {},
   "source": [
    "Draw the circuit"
   ]
  },
  {
   "cell_type": "code",
   "execution_count": 47,
   "id": "16f7ef72",
   "metadata": {},
   "outputs": [
    {
     "data": {
      "image/png": "[encoded data removed]",
      "text/plain": [
       "<Figure size 621.941x618.722 with 1 Axes>"
      ]
     },
     "execution_count": 47,
     "metadata": {},
     "output_type": "execute_result"
    }
   ],
   "source": [
    "noGrov.draw('mpl', style='bw')"
   ]
  },
  {
   "cell_type": "markdown",
   "id": "351316de",
   "metadata": {},
   "source": [
    "Implement real Grover circuit"
   ]
  },
  {
   "cell_type": "code",
   "execution_count": 48,
   "id": "89278571",
   "metadata": {},
   "outputs": [],
   "source": [
    "def grover(r=1):\n",
    "    grov = QuantumCircuit(6, 3)\n",
    "    grov.h([0, 1, 2, 5])\n",
    "    grov.z(5)\n",
    "    for _ in range(r):\n",
    "        grov.append(opUf, qargs=[0, 1, 2, 3, 4, 5])\n",
    "        grov.append(opD, qargs=[0, 1, 2])\n",
    "    grov.measure([0, 1, 2], [0, 1, 2])\n",
    "    return grov"
   ]
  },
  {
   "cell_type": "code",
   "execution_count": 51,
   "id": "7b6f9120",
   "metadata": {
    "scrolled": true
   },
   "outputs": [
    {
     "data": {
      "image/png": "[encoded data removed]",
      "text/plain": [
       "<Figure size 1708.89x618.722 with 1 Axes>"
      ]
     },
     "execution_count": 51,
     "metadata": {},
     "output_type": "execute_result"
    }
   ],
   "source": [
    "grov = grover(r=7)\n",
    "grov.draw('mpl', style='bw')"
   ]
  },
  {
   "cell_type": "markdown",
   "id": "61bfcdec",
   "metadata": {},
   "source": [
    "Helper function for running circuits with a simulator"
   ]
  },
  {
   "cell_type": "code",
   "execution_count": 54,
   "id": "e3a0988c",
   "metadata": {},
   "outputs": [],
   "source": [
    "simulator = Aer.get_backend('aer_simulator')\n",
    "def runCircuit(circ, shots=10_000):\n",
    "    transp = transpile(circ, simulator)\n",
    "    IBMjob = simulator.run(transp, shots=shots)\n",
    "    result = IBMjob.result()\n",
    "    counts = result.get_counts(transp)\n",
    "    return counts"
   ]
  },
  {
   "cell_type": "markdown",
   "id": "adfdd8d4",
   "metadata": {},
   "source": [
    "Running circuit without Grover iterations saving counts for state $\\left|110\\right>$"
   ]
  },
  {
   "cell_type": "code",
   "execution_count": 86,
   "id": "29723936",
   "metadata": {},
   "outputs": [
    {
     "name": "stdout",
     "output_type": "stream",
     "text": [
      "{'100': 131, '111': 128, '001': 140, '110': 141, '011': 106, '000': 110, '101': 116, '010': 128}\n"
     ]
    }
   ],
   "source": [
    "shots = 1000\n",
    "counts = runCircuit(noGrov, shots=shots)\n",
    "counts_110 = {'0': counts['011']}\n",
    "print(counts)"
   ]
  },
  {
   "cell_type": "markdown",
   "id": "fad7d7b6",
   "metadata": {},
   "source": [
    "Running circuits with Grover saving counts for state $\\left|110\\right>$"
   ]
  },
  {
   "cell_type": "code",
   "execution_count": 87,
   "id": "4e4fef9d",
   "metadata": {},
   "outputs": [
    {
     "name": "stdout",
     "output_type": "stream",
     "text": [
      "{'110': 33, '011': 776, '000': 34, '111': 28, '001': 30, '101': 38, '100': 33, '010': 28}\n",
      "{'001': 6, '011': 945, '101': 5, '010': 8, '110': 10, '000': 10, '100': 7, '111': 9}\n",
      "{'110': 76, '100': 103, '011': 334, '111': 95, '010': 92, '000': 109, '001': 95, '101': 96}\n",
      "{'101': 151, '010': 149, '111': 139, '100': 118, '110': 148, '000': 146, '001': 141, '011': 8}\n",
      "{'010': 70, '011': 549, '101': 68, '000': 69, '001': 62, '111': 68, '110': 52, '100': 62}\n",
      "{'011': 1000}\n",
      "{'011': 570, '100': 61, '001': 66, '010': 57, '110': 72, '111': 52, '000': 60, '101': 62}\n"
     ]
    }
   ],
   "source": [
    "for r in range(1, 8):\n",
    "    grov = grover(r=r)\n",
    "    counts = runCircuit(grov, shots=shots)\n",
    "    print(counts)\n",
    "    counts_110[f'{r}'] = counts['011'] "
   ]
  },
  {
   "cell_type": "code",
   "execution_count": 88,
   "id": "3d5ea8f0",
   "metadata": {
    "scrolled": false
   },
   "outputs": [
    {
     "name": "stdout",
     "output_type": "stream",
     "text": [
      "{'0': 106, '1': 776, '2': 945, '3': 334, '4': 8, '5': 549, '6': 1000, '7': 570}\n"
     ]
    },
    {
     "data": {
      "image/png": "[encoded data removed]",
      "text/plain": [
       "<Figure size 700x500 with 1 Axes>"
      ]
     },
     "execution_count": 88,
     "metadata": {},
     "output_type": "execute_result"
    }
   ],
   "source": [
    "print(counts_110)\n",
    "plot_histogram(counts_110)"
   ]
  },
  {
   "cell_type": "markdown",
   "id": "227f0a11",
   "metadata": {},
   "source": [
    "We observe the expected oscillatory behaviour of amplitude amplification with reaching the largest probabilities after 2 and 6 iterations, respectively."
   ]
  },
  {
   "cell_type": "code",
   "execution_count": null,
   "id": "00a6ba06",
   "metadata": {},
   "outputs": [],
   "source": []
  }
 ],
 "metadata": {
  "kernelspec": {
   "display_name": "Python 3 (ipykernel)",
   "language": "python",
   "name": "python3"
  },
  "language_info": {
   "codemirror_mode": {
    "name": "ipython",
    "version": 3
   },
   "file_extension": ".py",
   "mimetype": "text/x-python",
   "name": "python",
   "nbconvert_exporter": "python",
   "pygments_lexer": "ipython3",
   "version": "3.10.12"
  }
 },
 "nbformat": 4,
 "nbformat_minor": 5
}
