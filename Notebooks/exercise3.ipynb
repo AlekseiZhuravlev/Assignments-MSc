{
 "cells": [
  {
   "cell_type": "markdown",
   "id": "1dc326b7-fc48-4a64-8ee1-60674c59faf3",
   "metadata": {
    "tags": []
   },
   "source": [
    "# Exercise sheet 3"
   ]
  },
  {
   "cell_type": "markdown",
   "id": "2284b543-f16b-4d8b-98ef-ad976ee463e4",
   "metadata": {},
   "source": [
    "## Task 3.1"
   ]
  },
  {
   "cell_type": "markdown",
   "id": "268fdc5e-9e29-4806-a7ed-a332c1080b50",
   "metadata": {},
   "source": [
    "a.) Proof the following identity\n",
    "$$\n",
    "\\begin{align}\n",
    "Z=HXH\n",
    "\\end{align}\n",
    "$$"
   ]
  },
  {
   "cell_type": "markdown",
   "id": "357b9a0b-9b7d-4449-a410-a169afd5a2cf",
   "metadata": {
    "jp-MarkdownHeadingCollapsed": true,
    "tags": []
   },
   "source": [
    "Proof:\n",
    "$$\n",
    "\\begin{align}\n",
    "HXH&=\\frac{1}{2}\\left[X+Z\\right]X\\left[X+Z\\right]=\\left[XX+ZX\\right]\\left[X+Z\\right] \\\\ \n",
    "&=\\frac{1}{2}\\left[\\left(\\left|0\\right>\\left<1\\right|+\\left|1\\right>\\left<0\\right|\\right)\\left(\\left|0\\right>\\left<1\\right|+\\left|1\\right>\\left<0\\right|\\right)\n",
    "+ \\left(\\left|0\\right>\\left<0\\right|-\\left|1\\right>\\left<1\\right|\\right)\\left(\\left|0\\right>\\left<1\\right|+\\left|1\\right>\\left<0\\right|\\right)\\right]\n",
    "\\left[X+Z\\right] \\\\\n",
    "&=\\frac{1}{2}\\left[\\left|0\\right>\\left<0\\right|+\\left|1\\right>\\left<1\\right|+\\left|0\\right>\\left<1\\right|-\\left|1\\right>\\left<0\\right|\\right]\\left[\\left|0\\right>\\left<1\\right|+\\left|1\\right>\\left<0\\right|+\\left|0\\right>\\left<0\\right|-\\left|1\\right>\\left<1\\right|\\right] \\\\\n",
    "&=\\frac{1}{2}\\left[\\left|0\\right>\\left<1\\right|+\\left|0\\right>\\left<0\\right|+\\left|1\\right>\\left<0\\right|-\\left|1\\right>\\left<1\\right|+\\left|0\\right>\\left<0\\right|-\\left|0\\right>\\left<1\\right|-\\left|1\\right>\\left<1\\right|-\\left|1\\right>\\left<0\\right|\\right] \\\\\n",
    "&=\\frac{1}{2}\\left[2\\left|0\\right>\\left<0\\right|-2\\left|1\\right>\\left<1\\right|\\right]=Z\n",
    "\\end{align}\n",
    "$$\n"
   ]
  },
  {
   "cell_type": "markdown",
   "id": "f56b0d27",
   "metadata": {},
   "source": [
    "Alternative Proof: Last semester we proved the following identity for Pauli matrices:\n",
    "$$ X^2 = Y^2 = Z^2 = -iXYZ = I$$\n",
    "From the last equation, we see: \n",
    "$$ iY = -XZ$$ \n",
    "But by definition of Pauli matrices we also have\n",
    "$$iY = ZX$$\n",
    "so \n",
    "$$ZX = -XZ$$\n",
    "This implies \n",
    "$$ ZXZ = -XZ^2 = -X$$\n",
    "Thus\n",
    "$$\n",
    "\\begin{align}\n",
    "HXH&=\\frac{1}{2}\\left[X+Z\\right]X\\left[X+Z\\right] \\\\\n",
    "     &=\\frac{1}{2}\\left[X^3+X^2Z+ZX^2+ZXZ\\right] \\\\\n",
    "     &=\\frac{1}{2}\\left[X + 2Z + ZXZ\\right] \\\\\n",
    "     &=\\frac{1}{2}\\left[X + 2Z - X \\right] = Z\n",
    "\\end{align}\n",
    "$$"
   ]
  },
  {
   "cell_type": "markdown",
   "id": "56b77955-85fa-47eb-9807-8dbe2182e1ff",
   "metadata": {},
   "source": [
    "b.) Proof circuit identity"
   ]
  },
  {
   "cell_type": "markdown",
   "id": "54635c6f-f7eb-4e95-95c8-78a02ce5ccdf",
   "metadata": {},
   "source": [
    "Proof: We now from Task 1.1 that $H$ is involutory, i.e., $HH=I$\n",
    "$$\n",
    "\\begin{align}\n",
    "RHS\\hat =& \\left[I\\otimes H\\right]\\cdot CX\\cdot \\left[I\\otimes H\\right] \\\\\n",
    "=&\\left[I\\otimes H\\right]\\cdot\\left[\\left|0\\right>\\left<0\\right|\\otimes I+\\left|1\\right>\\left<1\\right|\\otimes X\\right]\\cdot\\left[I\\otimes H\\right] \\\\\n",
    "=&\\left[\\left|0\\right>\\left<0\\right|\\otimes H+\\left|1\\right>\\left<1\\right|\\otimes HX\\right]\\cdot\\left[I\\otimes H\\right] \\\\\n",
    "=&\\left[\\left|0\\right>\\left<0\\right|\\otimes \\overbrace{HH}^{=I}+\\left|1\\right>\\left<1\\right|\\otimes \\overbrace{HXH}^{=Z}\\right] \\\\\n",
    "=&\\left[\\left|0\\right>\\left<0\\right|\\otimes I+\\left|1\\right>\\left<1\\right|\\otimes Z\\right]=CZ\\hat =LHS\n",
    "\\end{align}\n",
    "$$"
   ]
  },
  {
   "cell_type": "markdown",
   "id": "f37d6bf8-76c8-4975-8d83-782dd7576c78",
   "metadata": {},
   "source": [
    "## Task 3.2"
   ]
  },
  {
   "cell_type": "markdown",
   "id": "2f32c67b-ac91-408a-bf97-13554e9a9d3c",
   "metadata": {},
   "source": [
    "Operator $A$ (quantum Bayesian network) from Task 2.3"
   ]
  },
  {
   "cell_type": "code",
   "execution_count": 1,
   "id": "ae8b1346-8379-439b-9731-ef3082cf8040",
   "metadata": {
    "tags": []
   },
   "outputs": [],
   "source": [
    "import numpy as np\n",
    "from qiskit import Aer, transpile\n",
    "from qiskit import QuantumCircuit\n",
    "from qiskit import QuantumRegister\n",
    "from qiskit import ClassicalRegister\n",
    "from qiskit.circuit.library.standard_gates import *\n",
    "from qiskit.visualization import plot_histogram"
   ]
  },
  {
   "cell_type": "code",
   "execution_count": 2,
   "id": "1ec9dd31-2de8-45c6-bae0-c87ef9aab6e3",
   "metadata": {
    "tags": []
   },
   "outputs": [],
   "source": [
    "thtX1 = 2 * np.arcsin(np.sqrt(0.25))\n",
    "thtY1X1 = 2 * np.arcsin(np.sqrt(0.70))\n",
    "thtY1X0 = 2 * np.arcsin(np.sqrt(0.60))\n",
    "thtZ1Y1X1 = 2 * np.arcsin(np.sqrt(0.90))\n",
    "thtZ1Y1X0 = 2 * np.arcsin(np.sqrt(0.70))\n",
    "thtZ1Y0X1 = 2 * np.arcsin(np.sqrt(0.55))\n",
    "thtZ1Y0X0 = 2 * np.arcsin(np.sqrt(0.10))"
   ]
  },
  {
   "cell_type": "code",
   "execution_count": 3,
   "id": "6aee1e1b-38d2-4e2b-b7a6-5a1855f510ea",
   "metadata": {
    "tags": []
   },
   "outputs": [],
   "source": [
    "qregX = QuantumRegister(1, name='x')\n",
    "qregY = QuantumRegister(1, name='y')\n",
    "qregZ = QuantumRegister(1, name='z')"
   ]
  },
  {
   "cell_type": "code",
   "execution_count": 4,
   "id": "cc44b50b-e34a-46a2-97a9-bb917c1abacf",
   "metadata": {
    "tags": []
   },
   "outputs": [
    {
     "data": {
      "text/plain": [
       "<qiskit.circuit.instructionset.InstructionSet at 0x10f4bc220>"
      ]
     },
     "execution_count": 4,
     "metadata": {},
     "output_type": "execute_result"
    }
   ],
   "source": [
    "opA = QuantumCircuit(qregX, qregY, qregZ, name='A')\n",
    "# 1 Ry gate on x\n",
    "opA.ry(thtX1, qregX)\n",
    "# 2 controlled Ry gates on y\n",
    "opA.cry(thtY1X1, control_qubit=qregX, target_qubit=qregY)\n",
    "opA.x(qregX)\n",
    "opA.cry(thtY1X0, control_qubit=qregX, target_qubit=qregY)\n",
    "opA.x(qregX)\n",
    "# 4 multiple controlled Ry gates on z\n",
    "opA.mcry(thtZ1Y1X1, [qregX[0], qregY[0]], qregZ[0])\n",
    "opA.x(qregX)\n",
    "opA.mcry(thtZ1Y1X0, [qregX[0], qregY[0]], qregZ[0])\n",
    "opA.x(qregX)\n",
    "opA.x(qregY)\n",
    "opA.mcry(thtZ1Y0X1, [qregX[0], qregY[0]], qregZ[0])\n",
    "opA.x(qregY)\n",
    "opA.x(qregX)\n",
    "opA.x(qregY)\n",
    "opA.mcry(thtZ1Y0X0, [qregX[0], qregY[0]], qregZ[0])\n",
    "opA.x(qregY)\n",
    "opA.x(qregX)"
   ]
  },
  {
   "cell_type": "code",
   "execution_count": 5,
   "id": "2a3b2b10-ba06-4d6c-98f7-b1ccfbbb6720",
   "metadata": {
    "tags": []
   },
   "outputs": [],
   "source": [
    "qcirc = QuantumCircuit(qregX, qregY, qregZ, name='Bayes net')\n",
    "qcirc.append(opA, [qregX, qregY, qregZ])\n",
    "qcirc.measure_all()"
   ]
  },
  {
   "cell_type": "code",
   "execution_count": 6,
   "id": "f2d9af5b-d14b-4fc4-ab4e-3d7607c42d6e",
   "metadata": {
    "tags": []
   },
   "outputs": [],
   "source": [
    "simulator = Aer.get_backend('aer_simulator')\n",
    "def runCircuit(circ, shots=10_000):\n",
    "    transp = transpile(circ, simulator)\n",
    "    IBMjob = simulator.run(transp, shots=shots)\n",
    "    result = IBMjob.result()\n",
    "    counts = result.get_counts(transp)\n",
    "    return counts"
   ]
  },
  {
   "cell_type": "markdown",
   "id": "247ca01f-2d72-425b-aa99-de6faf2373df",
   "metadata": {},
   "source": [
    "We want to estimate $P(Y=1|X=1,Z=1)$, thus we define a function for multiple repititions"
   ]
  },
  {
   "cell_type": "code",
   "execution_count": 7,
   "id": "58540642-18a2-4230-b4aa-ef67eb02eff8",
   "metadata": {
    "tags": []
   },
   "outputs": [],
   "source": [
    "def quantum_rejection_sampling(circ, N, repetitions=5):\n",
    "    for _ in range(repetitions):\n",
    "        counts = runCircuit(circ, shots=N)\n",
    "        counts_111 = counts['1' + '1' + '1']\n",
    "        counts_101 = counts['1' + '0' + '1']\n",
    "        print(counts_111 / (counts_111 + counts_101))"
   ]
  },
  {
   "cell_type": "markdown",
   "id": "039c7989-9e01-4165-8a05-ce04ad17c70e",
   "metadata": {},
   "source": [
    "Quantum rejection sampling for $N=100, 200, 10000$"
   ]
  },
  {
   "cell_type": "code",
   "execution_count": 8,
   "id": "2c76aa3e-c9d1-4e8f-b9ef-eeadd41aff13",
   "metadata": {
    "tags": []
   },
   "outputs": [
    {
     "name": "stdout",
     "output_type": "stream",
     "text": [
      "0.7222222222222222\n",
      "0.7037037037037037\n",
      "0.7647058823529411\n",
      "0.8125\n",
      "0.6521739130434783\n"
     ]
    }
   ],
   "source": [
    "N = 100\n",
    "quantum_rejection_sampling(qcirc, N)"
   ]
  },
  {
   "cell_type": "code",
   "execution_count": 9,
   "id": "a1134f53-cb25-42b7-bf2c-00050abf5c8e",
   "metadata": {
    "tags": []
   },
   "outputs": [
    {
     "name": "stdout",
     "output_type": "stream",
     "text": [
      "0.7368421052631579\n",
      "0.84375\n",
      "0.7555555555555555\n",
      "0.8285714285714286\n",
      "0.8205128205128205\n"
     ]
    }
   ],
   "source": [
    "N = 200\n",
    "quantum_rejection_sampling(qcirc, N)"
   ]
  },
  {
   "cell_type": "code",
   "execution_count": 10,
   "id": "c1d994e2-605e-4677-9ef6-00daf7c3d251",
   "metadata": {
    "tags": []
   },
   "outputs": [
    {
     "name": "stdout",
     "output_type": "stream",
     "text": [
      "0.7889052528227786\n",
      "0.7957256461232605\n",
      "0.7919395465994962\n",
      "0.7767185148018063\n",
      "0.7895005096839959\n"
     ]
    }
   ],
   "source": [
    "N = 10_000\n",
    "quantum_rejection_sampling(qcirc, N)"
   ]
  },
  {
   "cell_type": "markdown",
   "id": "9ea76d1c-fd8d-4c67-a773-38a2e03a4e5e",
   "metadata": {},
   "source": [
    "## Task 3.3"
   ]
  },
  {
   "cell_type": "markdown",
   "id": "9416f743-f54c-4ae9-b852-b4d147920106",
   "metadata": {},
   "source": [
    "Implement operator $S_e$"
   ]
  },
  {
   "cell_type": "code",
   "execution_count": 69,
   "id": "d3389fef-1f1d-461c-9ab9-cc41821099f7",
   "metadata": {
    "tags": []
   },
   "outputs": [
    {
     "data": {
      "text/plain": [
       "<qiskit.circuit.instructionset.InstructionSet at 0x1db4674aa40>"
      ]
     },
     "execution_count": 69,
     "metadata": {},
     "output_type": "execute_result"
    }
   ],
   "source": [
    "from qiskit.circuit.library import CCZGate\n",
    "opSe = QuantumCircuit(3)\n",
    "# ccz-gate\n",
    "opSe.h(1)\n",
    "opSe.mcx([0, 2], 1)\n",
    "opSe.h(1)\n",
    "# x-gate\n",
    "opSe.x(1)\n",
    "# ccz-gate\n",
    "opSe.h(1)\n",
    "opSe.mcx([0, 2], 1)\n",
    "opSe.h(1)\n",
    "# x-gate\n",
    "opSe.x(1)"
   ]
  },
  {
   "cell_type": "code",
   "execution_count": 68,
   "id": "6cf3171d-9eee-4fe9-81f1-84c1dcf99968",
   "metadata": {
    "tags": []
   },
   "outputs": [
    {
     "data": {
      "image/png": "[encoded data removed]",
      "text/plain": [
       "<Figure size 789.163x284.278 with 1 Axes>"
      ]
     },
     "execution_count": 68,
     "metadata": {},
     "output_type": "execute_result"
    }
   ],
   "source": [
    "opSe.draw('mpl', style='bw', plot_barriers=False, justify='none', fold=-1)"
   ]
  },
  {
   "cell_type": "code",
   "execution_count": 81,
   "id": "aef1ea2e-0b8f-4e5c-a5ad-49ca64defe39",
   "metadata": {
    "tags": []
   },
   "outputs": [
    {
     "data": {
      "image/png": "[encoded data removed]",
      "text/plain": [
       "<Figure size 3130.27x284.278 with 1 Axes>"
      ]
     },
     "execution_count": 81,
     "metadata": {},
     "output_type": "execute_result"
    }
   ],
   "source": [
    "opSe.decompose(reps=1).draw('mpl', style='bw', plot_barriers=False, justify='none', fold=-1)"
   ]
  },
  {
   "cell_type": "markdown",
   "id": "0b5d72f5-0935-4bb6-b26b-2c0bd8a819b6",
   "metadata": {},
   "source": [
    "Qiskit may use this operation for transpiling circuits for real quantum backends, since they have a specific native gate set"
   ]
  },
  {
   "cell_type": "markdown",
   "id": "ec4147c6-6937-44b6-9327-51302cf966cd",
   "metadata": {},
   "source": [
    "## Task 3.4"
   ]
  },
  {
   "cell_type": "markdown",
   "id": "461c85d5-713f-4976-add6-b38ebfca6d8b",
   "metadata": {},
   "source": [
    "Grover operator"
   ]
  },
  {
   "cell_type": "code",
   "execution_count": 107,
   "id": "f00effe8-8780-4fd0-9acb-0796f469387d",
   "metadata": {
    "tags": []
   },
   "outputs": [],
   "source": [
    "from qiskit.circuit.library import GroverOperator\n",
    "\n",
    "opG = GroverOperator(opSe, opA)"
   ]
  },
  {
   "cell_type": "markdown",
   "id": "50f6e0f3-2f90-4695-bed6-beb95354c2e9",
   "metadata": {},
   "source": [
    "Implement circuit"
   ]
  },
  {
   "cell_type": "code",
   "execution_count": 120,
   "id": "5a412244-c916-477e-9b42-1955cd755f0e",
   "metadata": {
    "tags": []
   },
   "outputs": [],
   "source": [
    "qcircG = QuantumCircuit(qregX, qregY, qregZ, name='Grover Bayes net')\n",
    "qcircG.append(opA, [qregX, qregY, qregZ])\n",
    "qcircG.append(opG, [qregX, qregY, qregZ])\n",
    "\n",
    "qcircG.measure_all()"
   ]
  },
  {
   "cell_type": "markdown",
   "id": "90b90fe9-52c6-4c28-a34e-b3b56af336a1",
   "metadata": {},
   "source": [
    "Rerun quantum rejection sampling for $N=100, 200, 10000$"
   ]
  },
  {
   "cell_type": "code",
   "execution_count": 119,
   "id": "d129a432-d762-46eb-8fe4-31288d72148b",
   "metadata": {
    "tags": []
   },
   "outputs": [
    {
     "name": "stdout",
     "output_type": "stream",
     "text": [
      "0.7755102040816326\n",
      "0.8865979381443299\n",
      "0.7525773195876289\n",
      "0.7551020408163265\n",
      "0.7894736842105263\n"
     ]
    }
   ],
   "source": [
    "N = 100\n",
    "quantum_rejection_sampling(qcircG, N)"
   ]
  },
  {
   "cell_type": "code",
   "execution_count": 115,
   "id": "5ba13e1a-bf37-4d1c-ad4d-403eba95a582",
   "metadata": {
    "tags": []
   },
   "outputs": [
    {
     "name": "stdout",
     "output_type": "stream",
     "text": [
      "0.7864583333333334\n",
      "0.7708333333333334\n",
      "0.8229166666666666\n",
      "0.8051282051282052\n",
      "0.7731958762886598\n"
     ]
    }
   ],
   "source": [
    "N = 200\n",
    "quantum_rejection_sampling(qcircG, N)"
   ]
  },
  {
   "cell_type": "code",
   "execution_count": 116,
   "id": "fb22e283-380c-43eb-9d96-f0de3848b91b",
   "metadata": {
    "tags": []
   },
   "outputs": [
    {
     "name": "stdout",
     "output_type": "stream",
     "text": [
      "0.7932463227677646\n",
      "0.7927107061503417\n",
      "0.7938496583143508\n",
      "0.7893700787401575\n",
      "0.8004551567187338\n"
     ]
    }
   ],
   "source": [
    "N = 10_000\n",
    "quantum_rejection_sampling(qcircG, N)"
   ]
  },
  {
   "cell_type": "code",
   "execution_count": null,
   "id": "88ab3b1f-7613-4659-b3fd-497f8da54757",
   "metadata": {},
   "outputs": [],
   "source": []
  }
 ],
 "metadata": {
  "kernelspec": {
   "display_name": "quant_found",
   "language": "python",
   "name": "quant_found"
  },
  "language_info": {
   "codemirror_mode": {
    "name": "ipython",
    "version": 3
   },
   "file_extension": ".py",
   "mimetype": "text/x-python",
   "name": "python",
   "nbconvert_exporter": "python",
   "pygments_lexer": "ipython3",
   "version": "3.10.4"
  }
 },
 "nbformat": 4,
 "nbformat_minor": 5
}
