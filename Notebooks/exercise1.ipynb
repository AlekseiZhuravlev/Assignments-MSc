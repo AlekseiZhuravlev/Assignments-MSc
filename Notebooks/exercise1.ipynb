{
 "cells": [
  {
   "cell_type": "markdown",
   "id": "b4bec658-b65b-49b8-b2d8-7181fbffc81b",
   "metadata": {
    "tags": []
   },
   "source": [
    "# Exercise sheet 1"
   ]
  },
  {
   "cell_type": "markdown",
   "id": "34a0139a-2251-4f27-a1ca-bca9591331e9",
   "metadata": {
    "tags": []
   },
   "source": [
    "## Task 1.1"
   ]
  },
  {
   "cell_type": "markdown",
   "id": "733e1fbc-adaf-4e56-a3cd-3939e68d1815",
   "metadata": {},
   "source": [
    "a.) Prove that $R_Y(\\theta)$ is unitary (i.e. $R_Y(\\theta)^*R_Y(\\theta)=I=R_Y(\\theta)R_Y(\\theta)^*$)"
   ]
  },
  {
   "cell_type": "markdown",
   "id": "9d91bf17-4c62-4651-ab51-357d175d3b4d",
   "metadata": {},
   "source": [
    "Proof: Since $R_Y(\\theta)\\in \\mathbb R^{2\\times 2}$ $R_Y(\\theta)^*=R_Y(\\theta)^{\\top}$ and $\\sin^2\\theta+\\cos^2\\theta=1$\n",
    "$$\n",
    "\\begin{align}\n",
    "R_Y(\\theta)^*R_Y(\\theta)&=\n",
    "\\begin{pmatrix} \n",
    "    \\cos \\frac\\theta2 & \\sin \\frac\\theta2 \\\\ \n",
    "    -\\sin \\frac\\theta2 & \\cos \\frac\\theta2\n",
    "\\end{pmatrix} \n",
    "\\begin{pmatrix} \n",
    "    \\cos \\frac\\theta2 & -\\sin \\frac\\theta2 \\\\ \n",
    "    \\sin \\frac\\theta2 & \\cos \\frac\\theta2\n",
    "\\end{pmatrix}\\\\\n",
    "&=\\begin{pmatrix} \n",
    "    \\cos^2 \\frac\\theta2 + \\sin^2 \\frac\\theta2 & -\\cos \\frac\\theta2\\sin \\frac\\theta2+\\sin \\frac\\theta2\\cos \\frac\\theta2 \\\\ \n",
    "    -\\sin \\frac\\theta2\\cos \\frac\\theta2+\\cos \\frac\\theta2\\sin \\frac\\theta2 & \\sin^2 \\frac\\theta2 + \\cos^2 \\frac\\theta2\n",
    "\\end{pmatrix} \\\\\n",
    "&=\\begin{pmatrix} \n",
    "    1 & 0 \\\\ \n",
    "    0 & 1\n",
    "\\end{pmatrix}=I \\\\\n",
    "&=\\begin{pmatrix} \n",
    "    \\cos^2 \\frac\\theta2 + \\sin^2 \\frac\\theta2 & \\cos \\frac\\theta2\\sin \\frac\\theta2-\\sin \\frac\\theta2\\cos \\frac\\theta2 \\\\ \n",
    "    \\sin \\frac\\theta2\\cos \\frac\\theta2-\\cos \\frac\\theta2\\sin \\frac\\theta2 & \\sin^2 \\frac\\theta2 + \\cos^2 \\frac\\theta2\n",
    "\\end{pmatrix} \\\\\n",
    "&=\\begin{pmatrix} \n",
    "    \\cos \\frac\\theta2 & -\\sin \\frac\\theta2 \\\\ \n",
    "    \\sin \\frac\\theta2 & \\cos \\frac\\theta2\n",
    "\\end{pmatrix} \n",
    "\\begin{pmatrix} \n",
    "    \\cos \\frac\\theta2 & \\sin \\frac\\theta2 \\\\ \n",
    "    -\\sin \\frac\\theta2 & \\cos \\frac\\theta2\n",
    "\\end{pmatrix}\n",
    "=R_Y(\\theta)R_Y(\\theta)^*\n",
    "\\end{align}\n",
    "$$"
   ]
  },
  {
   "cell_type": "markdown",
   "id": "a5d49c63-b5ce-4db8-9acf-6920f3c07ae3",
   "metadata": {},
   "source": [
    "b.) Prove that $R_Y(\\frac\\pi2)\\left|0\\right>=H\\left|0\\right>$"
   ]
  },
  {
   "cell_type": "markdown",
   "id": "bb595996-2d41-43c8-9cee-eef8607cf928",
   "metadata": {},
   "source": [
    "Proof: We first remark that $\\cos\\frac\\pi4=\\sin\\frac\\pi4=\\frac{1}{\\sqrt{2}}$. Thus\n",
    "$$\n",
    "\\begin{align}\n",
    "R_Y\\left(\\frac\\pi2\\right)\\left|0\\right>&=\n",
    "\\frac{1}{\\sqrt{2}}\n",
    "\\begin{pmatrix}\n",
    "1 & -1 \\\\\n",
    "1 & 1\n",
    "\\end{pmatrix}\n",
    "\\begin{pmatrix}\n",
    "1 \\\\\n",
    "0\n",
    "\\end{pmatrix}\n",
    "=\\frac{1}{\\sqrt{2}}\n",
    "\\begin{pmatrix}\n",
    "1 \\\\\n",
    "1\n",
    "\\end{pmatrix}\n",
    "=\\frac{1}{\\sqrt{2}}\n",
    "\\begin{pmatrix}\n",
    "1 & 1 \\\\\n",
    "1 & -1\n",
    "\\end{pmatrix}\n",
    "\\begin{pmatrix}\n",
    "1 \\\\\n",
    "0\n",
    "\\end{pmatrix}\n",
    "=H\\left|0\\right>\n",
    "\\end{align}\n",
    "$$"
   ]
  },
  {
   "cell_type": "markdown",
   "id": "f841bbec-2d14-4e39-a0e2-8363a96d6105",
   "metadata": {
    "tags": []
   },
   "source": [
    "c.) Does $R_Y(\\frac\\pi2)\\left|1\\right>=H\\left|1\\right>$ also hold?"
   ]
  },
  {
   "cell_type": "markdown",
   "id": "03806d8c-831b-418a-8bc7-2bc1c491df55",
   "metadata": {},
   "source": [
    "Proof: No, since\n",
    "$$\n",
    "\\begin{align}\n",
    "R_Y\\left(\\frac\\pi2\\right)\\left|1\\right>&=\n",
    "\\frac{1}{\\sqrt{2}}\n",
    "\\begin{pmatrix}\n",
    "1 & -1 \\\\\n",
    "1 & 1\n",
    "\\end{pmatrix}\n",
    "\\begin{pmatrix}\n",
    "0 \\\\\n",
    "1\n",
    "\\end{pmatrix}\n",
    "=\\frac{1}{\\sqrt{2}}\n",
    "\\begin{pmatrix}\n",
    "-1 \\\\\n",
    "1\n",
    "\\end{pmatrix}\n",
    "\\neq \\frac{1}{\\sqrt{2}}\n",
    "\\begin{pmatrix}\n",
    "1 \\\\\n",
    "-1\n",
    "\\end{pmatrix}\n",
    "=\\frac{1}{\\sqrt{2}}\n",
    "\\begin{pmatrix}\n",
    "1 & 1 \\\\\n",
    "1 & -1\n",
    "\\end{pmatrix}\n",
    "\\begin{pmatrix}\n",
    "0 \\\\\n",
    "1\n",
    "\\end{pmatrix}\n",
    "=H\\left|1\\right>\n",
    "\\end{align}\n",
    "$$"
   ]
  },
  {
   "cell_type": "markdown",
   "id": "777f8fee-f49f-4136-8349-304ed4c33356",
   "metadata": {},
   "source": [
    "d.) Evaluate $H^2$ and $R_Y^2(\\frac\\pi2)$"
   ]
  },
  {
   "cell_type": "markdown",
   "id": "1809d0f1-c0aa-4c2c-9951-0edb2ed4235f",
   "metadata": {},
   "source": [
    "$$\n",
    "\\begin{align}\n",
    "H^2&=\\frac12\n",
    "\\begin{pmatrix}\n",
    "1 & 1 \\\\\n",
    "1 & -1\n",
    "\\end{pmatrix}\n",
    "\\begin{pmatrix}\n",
    "1 & 1 \\\\\n",
    "1 & -1\n",
    "\\end{pmatrix}\n",
    "=\\begin{pmatrix}\n",
    "1 & 0 \\\\\n",
    "0 & 1\n",
    "\\end{pmatrix}=I \\\\\n",
    "R_Y^2\\left(\\frac\\pi2\\right)&=\n",
    "\\frac12\n",
    "\\begin{pmatrix}\n",
    "1 & -1 \\\\\n",
    "1 & 1\n",
    "\\end{pmatrix}\n",
    "\\begin{pmatrix}\n",
    "1 & -1 \\\\\n",
    "1 & 1\n",
    "\\end{pmatrix}\n",
    "=\\begin{pmatrix}\n",
    "0 & -1 \\\\\n",
    "1 & 0\n",
    "\\end{pmatrix}\\neq I\n",
    "\\end{align}\n",
    "$$"
   ]
  },
  {
   "cell_type": "markdown",
   "id": "4d5772e7-741c-49bb-bc1f-b442e0e61c1b",
   "metadata": {},
   "source": [
    "e.) Are $R_Y(\\frac\\pi2)$ and $H$ involutory (self inverse)?"
   ]
  },
  {
   "cell_type": "markdown",
   "id": "dafe5fd7-4f36-4391-a12c-e34c14f69cbd",
   "metadata": {},
   "source": [
    "$R_Y(\\frac\\pi2)$ is not involutory, $H$ is."
   ]
  },
  {
   "cell_type": "markdown",
   "id": "c25c9ebf-a974-43e5-847f-7236d2fa9863",
   "metadata": {},
   "source": [
    "## Task 1.2"
   ]
  },
  {
   "cell_type": "markdown",
   "id": "8f99ba4f-1850-4f99-a8a1-bfc1a645c0f4",
   "metadata": {},
   "source": [
    "a.) "
   ]
  },
  {
   "cell_type": "markdown",
   "id": "6e4ffd8f-4530-483f-baf0-4bc37809ebf5",
   "metadata": {},
   "source": [
    "Standard imports"
   ]
  },
  {
   "cell_type": "code",
   "execution_count": 1,
   "id": "7fd8cc8b-63d3-4b49-8294-fa538331502b",
   "metadata": {
    "tags": []
   },
   "outputs": [],
   "source": [
    "import numpy as np\n",
    "from qiskit import QuantumCircuit\n",
    "from qiskit import QuantumRegister\n",
    "from qiskit import ClassicalRegister\n",
    "from qiskit import Aer, transpile\n",
    "from qiskit.circuit.library.standard_gates import *\n",
    "from qiskit.visualization import plot_histogram"
   ]
  },
  {
   "cell_type": "markdown",
   "id": "068147b0-30d6-4356-9f57-65f09acb4ccf",
   "metadata": {},
   "source": [
    "Define helper function for running circuits with `aer_simulator`"
   ]
  },
  {
   "cell_type": "code",
   "execution_count": 2,
   "id": "7683eae0-09ca-41c3-b9a4-3469504dd3ec",
   "metadata": {
    "tags": []
   },
   "outputs": [],
   "source": [
    "simulator = Aer.get_backend('aer_simulator')\n",
    "def run_circuit(circ, shots=10000):\n",
    "    transp = transpile(circ, simulator)\n",
    "    IBMjob = simulator.run(transp, shots=shots)\n",
    "    result = IBMjob.result()\n",
    "    counts_qiskit = result.get_counts(transp)\n",
    "    counts = {}\n",
    "    probs = {}\n",
    "    for bitstring, value in counts_qiskit.items():\n",
    "        new_bitstring = bitstring.replace(\" \", \"\").replace(\"_\", \"\")\n",
    "        counts[new_bitstring] = value\n",
    "        probs[new_bitstring] = value / shots\n",
    "    return counts, probs"
   ]
  },
  {
   "cell_type": "markdown",
   "id": "0fcb9e37-77de-47ae-b4fa-6744c4f2d29d",
   "metadata": {},
   "source": [
    "Set up quantum circuit"
   ]
  },
  {
   "cell_type": "code",
   "execution_count": 3,
   "id": "520941be-bb88-40bd-82f6-7430ae64878c",
   "metadata": {
    "tags": []
   },
   "outputs": [
    {
     "data": {
      "text/plain": [
       "<qiskit.circuit.instructionset.InstructionSet at 0x1f209a05e40>"
      ]
     },
     "execution_count": 3,
     "metadata": {},
     "output_type": "execute_result"
    }
   ],
   "source": [
    "# set up registers and circuit\n",
    "qreg_a = QuantumRegister(1, name='x') \n",
    "creg_a = ClassicalRegister(1, name='$c_x$')\n",
    "qcirc_a = QuantumCircuit(qreg_a, creg_a, name='Quantum Patchinko')\n",
    "# add RY-gate\n",
    "qcirc_a.ry(np.pi / 2, qreg_a)\n",
    "# measure\n",
    "qcirc_a.measure(qreg_a, creg_a)"
   ]
  },
  {
   "cell_type": "markdown",
   "id": "10a2f955-b8d6-4cfa-a038-94e939f232cd",
   "metadata": {
    "tags": []
   },
   "source": [
    "Draw circuit"
   ]
  },
  {
   "cell_type": "code",
   "execution_count": 4,
   "id": "b53ee69b-330e-4881-b37b-e3153b7e86ea",
   "metadata": {
    "tags": []
   },
   "outputs": [
    {
     "data": {
      "image/png": "[encoded data removed]",
      "text/plain": [
       "<Figure size 298.314x200.667 with 1 Axes>"
      ]
     },
     "execution_count": 4,
     "metadata": {},
     "output_type": "execute_result"
    }
   ],
   "source": [
    "qcirc_a.draw('mpl', style='bw', plot_barriers=False, justify='none', fold=-1)"
   ]
  },
  {
   "cell_type": "markdown",
   "id": "19118dc8-d5ee-4642-ac3f-6fa6eca444f8",
   "metadata": {},
   "source": [
    "Run the circuit"
   ]
  },
  {
   "cell_type": "code",
   "execution_count": 5,
   "id": "6ffe5fcf-922c-49c7-9ac6-aabc2078334e",
   "metadata": {
    "tags": []
   },
   "outputs": [
    {
     "name": "stdout",
     "output_type": "stream",
     "text": [
      "{'0': 0.4965, '1': 0.5035}\n"
     ]
    }
   ],
   "source": [
    "shots = 10_000\n",
    "counts_a, probs_a = run_circuit(qcirc_a, shots=shots)\n",
    "print(probs_a)"
   ]
  },
  {
   "cell_type": "markdown",
   "id": "71fefba3-6912-47d7-964e-50c2852e650e",
   "metadata": {
    "tags": []
   },
   "source": [
    "Visualize result"
   ]
  },
  {
   "cell_type": "code",
   "execution_count": 6,
   "id": "44d927aa-d367-40eb-bf73-2ad8588aac6b",
   "metadata": {
    "tags": []
   },
   "outputs": [
    {
     "data": {
      "image/png": "[encoded data removed]",
      "text/plain": [
       "<Figure size 700x500 with 1 Axes>"
      ]
     },
     "execution_count": 6,
     "metadata": {},
     "output_type": "execute_result"
    }
   ],
   "source": [
    "plot_histogram(probs_a, bar_labels=False)"
   ]
  },
  {
   "cell_type": "markdown",
   "id": "40575da1-5bef-40ef-a332-03aceec190c5",
   "metadata": {},
   "source": [
    "We observe that states $\\left|0\\right>$ and $\\left|1\\right>$ are measured with the same probability"
   ]
  },
  {
   "cell_type": "markdown",
   "id": "7bfb7611-fb6b-4b6d-a87f-b1d24e010a08",
   "metadata": {},
   "source": [
    "b.)"
   ]
  },
  {
   "cell_type": "markdown",
   "id": "6b6f8291-34c6-4437-99db-bbedd4d21617",
   "metadata": {},
   "source": [
    "From the lecture, we know that the qubit will be measured in state $\\left|1\\right>$ with probability $\\mu$ when\n",
    "$$\n",
    "\\theta=2\\arcsin\\sqrt{\\mu} \\Leftrightarrow \\mu=\\sin^2 \\frac\\theta2\n",
    "$$\n",
    "Inserting $\\theta=\\frac\\pi2$, we obtain $\\mu=\\sin^2 \\frac\\pi4=\\frac12$"
   ]
  },
  {
   "cell_type": "markdown",
   "id": "7b4f1fa4-aedc-41d5-ad60-362969119086",
   "metadata": {},
   "source": [
    "c.)"
   ]
  },
  {
   "cell_type": "markdown",
   "id": "946c0157-957f-4fe5-9e47-c2b571ca293e",
   "metadata": {},
   "source": [
    "Implementing the circuit"
   ]
  },
  {
   "cell_type": "code",
   "execution_count": 7,
   "id": "1f002ddd-c0f6-4cfd-9bca-f82cb3821e6b",
   "metadata": {
    "tags": []
   },
   "outputs": [],
   "source": [
    "# quantum registers\n",
    "qreg_x = QuantumRegister(1, name='x')\n",
    "qreg_y = QuantumRegister(1, name='y')\n",
    "qreg_z = QuantumRegister(1, name='z')\n",
    "# classical register\n",
    "creg = ClassicalRegister(1, name='c')\n",
    "# circuit\n",
    "qcirc = QuantumCircuit(qreg_x, qreg_y, qreg_z, creg)\n"
   ]
  },
  {
   "cell_type": "code",
   "execution_count": 8,
   "id": "e41ade72-42a2-4426-803a-2b2f14330d79",
   "metadata": {
    "tags": []
   },
   "outputs": [
    {
     "data": {
      "image/png": "[encoded data removed]",
      "text/plain": [
       "<Figure size 142.445x367.889 with 1 Axes>"
      ]
     },
     "execution_count": 8,
     "metadata": {},
     "output_type": "execute_result"
    }
   ],
   "source": [
    "qcirc.draw('mpl', style='bw', plot_barriers=False, justify='none', fold=-1)"
   ]
  },
  {
   "cell_type": "code",
   "execution_count": 9,
   "id": "5e6271c0-8994-4f62-83d4-0eabae1c1d5b",
   "metadata": {
    "tags": []
   },
   "outputs": [
    {
     "data": {
      "text/plain": [
       "<qiskit.circuit.instructionset.InstructionSet at 0x1f2544c6a70>"
      ]
     },
     "execution_count": 9,
     "metadata": {},
     "output_type": "execute_result"
    }
   ],
   "source": [
    "# RY(pi/2)-gate on qubit x\n",
    "qcirc.ry(np.pi / 2, qreg_x)\n",
    "# RY(pi)-gate on qubit z conditioned on qubit x\n",
    "qcirc.cry(np.pi, qreg_x, qreg_z)\n",
    "# X-gate on qubit x\n",
    "qcirc.x(qreg_x)\n",
    "# RY(pi)-gate on qubit y conditioned on qubit x\n",
    "qcirc.cry(np.pi, qreg_x, qreg_y)\n",
    "# X-gate on qubit x\n",
    "qcirc.x(qreg_x)"
   ]
  },
  {
   "cell_type": "markdown",
   "id": "61407477-196c-433c-8921-f71157ddf589",
   "metadata": {},
   "source": [
    "Add measurement on qubit y"
   ]
  },
  {
   "cell_type": "code",
   "execution_count": 10,
   "id": "98f455c5-03af-4aca-9ec8-7d59f6dc6f01",
   "metadata": {
    "tags": []
   },
   "outputs": [
    {
     "data": {
      "text/plain": [
       "<qiskit.circuit.instructionset.InstructionSet at 0x1f25231b850>"
      ]
     },
     "execution_count": 10,
     "metadata": {},
     "output_type": "execute_result"
    }
   ],
   "source": [
    "qcirc_c = qcirc.copy()\n",
    "qcirc_c.measure(qreg_y, creg)"
   ]
  },
  {
   "cell_type": "markdown",
   "id": "7522cbbd-0c8b-44f4-9ec9-c0bb151657e8",
   "metadata": {
    "tags": []
   },
   "source": [
    "Draw the circuit"
   ]
  },
  {
   "cell_type": "code",
   "execution_count": 11,
   "id": "291aea2e-c9e7-4f47-a8f9-af77881e8343",
   "metadata": {
    "tags": []
   },
   "outputs": [
    {
     "data": {
      "image/png": "[encoded data removed]",
      "text/plain": [
       "<Figure size 602.306x367.889 with 1 Axes>"
      ]
     },
     "execution_count": 11,
     "metadata": {},
     "output_type": "execute_result"
    }
   ],
   "source": [
    "qcirc_c.draw('mpl', style='bw', plot_barriers=False, justify='none', fold=-1)"
   ]
  },
  {
   "cell_type": "markdown",
   "id": "ce92ee08-7770-4b55-9b26-cad39a9ea0c3",
   "metadata": {
    "tags": []
   },
   "source": [
    "Run the circuit"
   ]
  },
  {
   "cell_type": "code",
   "execution_count": 12,
   "id": "7413484b-babd-4cfe-af34-c2526156cfb2",
   "metadata": {
    "tags": []
   },
   "outputs": [],
   "source": [
    "counts_c, probs_c = run_circuit(qcirc_c)"
   ]
  },
  {
   "cell_type": "markdown",
   "id": "85fd0bdf-a724-4604-842a-3d70240d7a32",
   "metadata": {
    "tags": []
   },
   "source": [
    "Visualize the result"
   ]
  },
  {
   "cell_type": "code",
   "execution_count": 13,
   "id": "0658427f-7162-464b-b18f-e1a8371a5332",
   "metadata": {},
   "outputs": [
    {
     "data": {
      "image/png": "[encoded data removed]",
      "text/plain": [
       "<Figure size 700x500 with 1 Axes>"
      ]
     },
     "execution_count": 13,
     "metadata": {},
     "output_type": "execute_result"
    }
   ],
   "source": [
    "plot_histogram(probs_c, bar_labels=False)"
   ]
  },
  {
   "cell_type": "markdown",
   "id": "586bc565-2cd6-4ca1-8857-404553023194",
   "metadata": {},
   "source": [
    "Qubit y is measured in state $\\left|0\\right>$ with probability $\\frac12$"
   ]
  },
  {
   "cell_type": "markdown",
   "id": "7c7f9674-4da2-42c0-bb57-2f094be7efe2",
   "metadata": {},
   "source": [
    "d.) "
   ]
  },
  {
   "cell_type": "markdown",
   "id": "d35be6d2-9159-4f6b-bf5c-235353008e63",
   "metadata": {},
   "source": [
    "Add measurement on qubit z"
   ]
  },
  {
   "cell_type": "code",
   "execution_count": 14,
   "id": "8189f360-8098-491f-80e7-e44b2990bbea",
   "metadata": {
    "tags": []
   },
   "outputs": [
    {
     "data": {
      "text/plain": [
       "<qiskit.circuit.instructionset.InstructionSet at 0x1f209a05570>"
      ]
     },
     "execution_count": 14,
     "metadata": {},
     "output_type": "execute_result"
    }
   ],
   "source": [
    "qcirc_d = qcirc.copy()\n",
    "qcirc_d.measure(qreg_z, creg)"
   ]
  },
  {
   "cell_type": "markdown",
   "id": "71261bdb-ea15-47a4-8db1-2add6a02aeb5",
   "metadata": {},
   "source": [
    "Draw the circuit"
   ]
  },
  {
   "cell_type": "code",
   "execution_count": 15,
   "id": "e2950c82-5129-4638-808d-f5e5e65bddab",
   "metadata": {
    "tags": []
   },
   "outputs": [
    {
     "data": {
      "image/png": "[encoded data removed]",
      "text/plain": [
       "<Figure size 602.306x367.889 with 1 Axes>"
      ]
     },
     "execution_count": 15,
     "metadata": {},
     "output_type": "execute_result"
    }
   ],
   "source": [
    "qcirc_d.draw('mpl', style='bw', plot_barriers=False, justify='none', fold=-1)"
   ]
  },
  {
   "cell_type": "markdown",
   "id": "75157407-a49e-4c8e-b9af-449650b5447e",
   "metadata": {},
   "source": [
    "Run the circuit"
   ]
  },
  {
   "cell_type": "code",
   "execution_count": 16,
   "id": "2e02f3f9-9382-45e7-bc03-596c68660270",
   "metadata": {
    "tags": []
   },
   "outputs": [],
   "source": [
    "counts_d, probs_d = run_circuit(qcirc_d)"
   ]
  },
  {
   "cell_type": "markdown",
   "id": "9cee6e22-f46c-4b0c-b727-b5ce0e29ebc7",
   "metadata": {},
   "source": [
    "Plot the result"
   ]
  },
  {
   "cell_type": "code",
   "execution_count": 17,
   "id": "175ad14f-3782-4a26-a706-5338fc1b8466",
   "metadata": {
    "tags": []
   },
   "outputs": [
    {
     "data": {
      "image/png": "[encoded data removed]",
      "text/plain": [
       "<Figure size 700x500 with 1 Axes>"
      ]
     },
     "execution_count": 17,
     "metadata": {},
     "output_type": "execute_result"
    }
   ],
   "source": [
    "plot_histogram(probs_d, bar_labels=False)"
   ]
  },
  {
   "cell_type": "markdown",
   "id": "679cfbf4-bbdf-4685-954d-afc76f9c2550",
   "metadata": {},
   "source": [
    "Qubit z is measured in state $\\left|0\\right>$ with probability $\\frac12$"
   ]
  },
  {
   "cell_type": "markdown",
   "id": "b6b3f24e-6fd0-4982-8cb3-62c8125d88f0",
   "metadata": {},
   "source": [
    "## Task 1.3"
   ]
  },
  {
   "cell_type": "markdown",
   "id": "f89f34e1-b89a-402e-be98-20238cf207c5",
   "metadata": {},
   "source": [
    "a.) Estimate the probabilities $P(W_1)$, $P(W_2|W_1)$ and $P(W_3|W_2)$"
   ]
  },
  {
   "cell_type": "markdown",
   "id": "2eda0ceb-924f-4cd0-983a-c3147be5b0c1",
   "metadata": {},
   "source": [
    "The given training data is"
   ]
  },
  {
   "cell_type": "code",
   "execution_count": 18,
   "id": "2c521ec7-494f-4456-ac5e-a8697b92c437",
   "metadata": {
    "tags": []
   },
   "outputs": [],
   "source": [
    "texts = ['my dog barks', 'the dog barks', 'the dog sleeps', \n",
    "         'my cat sleeps', 'the cat sleeps']"
   ]
  },
  {
   "cell_type": "markdown",
   "id": "9c2c40b0-e69b-49d8-9e8b-37c8bfaa3f67",
   "metadata": {
    "tags": []
   },
   "source": [
    "We can count the occurences in the training set for estimating the probabilities\n",
    "<table>\n",
    "<tr><th> $$P(W_1)$$ </th><th> $$P(W_2\\vert W_1)$$ </th><th> $$P(W_3\\vert W_2)$$ </th></tr>\n",
    "<tr><td>\n",
    "    \n",
    "|$$w_1$$|$$p(w_1)$$|\n",
    "|:-:|:-:|\n",
    "|my|2/5|\n",
    "|the|3/5|\n",
    "    \n",
    "</td><td>\n",
    "    \n",
    "|$$w_2$$|$$w_1$$|$$p(w_2|w_1)$$|\n",
    "|:-:|:-:|:-:|\n",
    "|dog|my|1/2|\n",
    "|dog|the|2/3|\n",
    "|cat|my|1/2|\n",
    "|cat|the|1/3|\n",
    "    \n",
    "</td><td>\n",
    "    \n",
    "|$$w_3$$|$$w_2$$|$$p(w_3|w_2)$$|\n",
    "|:-:|:-:|:-:|\n",
    "|barks|dog|2/3|\n",
    "|barks|cat|0|\n",
    "|sleeps|dog|1/3|\n",
    "|sleeps|cat|1|\n",
    "    \n",
    "</td></tr> </table>"
   ]
  },
  {
   "cell_type": "markdown",
   "id": "b8218475-3efb-41f6-8be5-acf3efa774b1",
   "metadata": {},
   "source": [
    "$$\n",
    "\\begin{align}\n",
    "\\sum_{w_1}\\sum_{w_2}\\sum_{w_3}p(w_1,w_2,w_3)\n",
    "&=\\sum_{w_1}\\sum_{w_2}\\sum_{w_3}p(w_3|w_2)p(w_2|w_1)p(w_1) \\\\\n",
    "&=\\sum_{w_1}p(w_1)\\sum_{w_2}p(w_2|w_1)\\sum_{w_3}p(w_3|w_2)=1\n",
    "\\end{align} \n",
    "$$"
   ]
  },
  {
   "cell_type": "markdown",
   "id": "6ecf067a-6076-4fc4-b5e1-4ceb6c12b411",
   "metadata": {},
   "source": [
    "b.) "
   ]
  },
  {
   "cell_type": "markdown",
   "id": "d0aa4095-d77b-4681-b4c4-2b28923aa965",
   "metadata": {},
   "source": [
    "Compute $p(\\text{my}, \\text{cat}, \\text{barks})$"
   ]
  },
  {
   "cell_type": "markdown",
   "id": "b56960a4-06f8-40e5-aae5-ede5dd7f1e3f",
   "metadata": {},
   "source": [
    "$$\n",
    "p(\\text{my}, \\text{cat}, \\text{barks})\n",
    "=p(\\text{barks}|\\text{cat})p(\\text{cat}|\\text{my})p(\\text{my})\n",
    "=0\\cdot \\frac12\\cdot \\frac25=0\n",
    "$$"
   ]
  },
  {
   "cell_type": "markdown",
   "id": "890c33d9-c9bd-4a76-9713-3e43c42bfb4e",
   "metadata": {},
   "source": [
    "Compute $p(\\text{my}, \\text{dog}, \\text{sleeps})$"
   ]
  },
  {
   "cell_type": "markdown",
   "id": "6663390b-07cc-4f7d-9b1f-4e3cd14ec8fb",
   "metadata": {},
   "source": [
    "$$\n",
    "p(\\text{my}, \\text{dog}, \\text{sleeps})\n",
    "=p(\\text{sleeps}|\\text{dog})p(\\text{dog}|\\text{my})p(\\text{my})\n",
    "=\\frac13\\cdot \\frac12\\cdot \\frac25=\\frac{1}{15}\n",
    "$$"
   ]
  },
  {
   "cell_type": "markdown",
   "id": "a27a9baa-3b15-440a-8719-b0f89f447d16",
   "metadata": {},
   "source": [
    "c.) Implement joint probability"
   ]
  },
  {
   "cell_type": "markdown",
   "id": "cf472028-9cee-4058-b979-d2cd7d541eaa",
   "metadata": {},
   "source": [
    "We define two functions for converting between text and bitstring"
   ]
  },
  {
   "cell_type": "code",
   "execution_count": 19,
   "id": "a15e1dbe-8119-4f10-a699-da7602c487f2",
   "metadata": {
    "tags": []
   },
   "outputs": [],
   "source": [
    "def convert_to_bit_string(text):\n",
    "    split = text.split(' ')\n",
    "    bit_string = ''\n",
    "    bit_string += '0' if split[2] == 'barks' else '1'\n",
    "    bit_string += '0' if split[1] == 'dog' else '1'\n",
    "    bit_string += '0' if split[0] == 'my' else '1'\n",
    "    return bit_string\n",
    "\n",
    "def convert_to_text(bit_string):\n",
    "    text = ''\n",
    "    text += 'my' if bit_string[2] == '0' else 'the'\n",
    "    text += ' '\n",
    "    text += 'dog' if bit_string[1] == '0' else 'cat'\n",
    "    text += ' '\n",
    "    text += 'barks' if bit_string[0] == '0' else 'sleeps'\n",
    "    return text"
   ]
  },
  {
   "cell_type": "markdown",
   "id": "8a531eaa-302f-4b6a-936c-e198083fdf38",
   "metadata": {},
   "source": [
    "Convert our list of texts to a list of bitstrings"
   ]
  },
  {
   "cell_type": "code",
   "execution_count": 20,
   "id": "45fd3051-0d49-43cf-9e14-4dc8bfdf1c21",
   "metadata": {
    "tags": []
   },
   "outputs": [
    {
     "name": "stdout",
     "output_type": "stream",
     "text": [
      "['000', '001', '101', '110', '111']\n"
     ]
    }
   ],
   "source": [
    "bit_strings = [convert_to_bit_string(text) for text in texts]\n",
    "print(bit_strings)"
   ]
  },
  {
   "cell_type": "markdown",
   "id": "3970cfd5-5402-4d24-bb4f-1b44ab19b56e",
   "metadata": {},
   "source": [
    "To compute probabilities $p(w_1)$, $p(w_2|w_1)$ and $p(w_3|w_2)$ we first count the occurences"
   ]
  },
  {
   "cell_type": "code",
   "execution_count": 21,
   "id": "4ef9ae89-fc4d-4a56-a5a3-4eb19a44ad6d",
   "metadata": {
    "tags": []
   },
   "outputs": [],
   "source": [
    "# my ≙ 0, the ≙ 1\n",
    "pX = {'0': 0, '1': 0}\n",
    "# my dog ≙ 00, the dog ≙ 01, my cat ≙ 10, the cat ≙ 11\n",
    "pYcX = {'00': 0, '01': 0, '10': 0, '11': 0}\n",
    "# dog barks ≙ 00, cat barks ≙ 01, dog sleeps ≙ 10, cat sleeps ≙ 11\n",
    "pZcY = {'00': 0, '01': 0, '10': 0, '11': 0}\n",
    "\n",
    "for bit_string in bit_strings:\n",
    "    pX[bit_string[2]] += 1\n",
    "    pYcX[bit_string[1:]] += 1\n",
    "    pZcY[bit_string[:2]] += 1"
   ]
  },
  {
   "cell_type": "markdown",
   "id": "8eca3d67-9006-4e16-8d11-d0ad318bdbf7",
   "metadata": {},
   "source": [
    "Normalize to obtain probabilities"
   ]
  },
  {
   "cell_type": "code",
   "execution_count": 22,
   "id": "22b9ef79-06a5-4dd7-a19e-c195e4cb3edf",
   "metadata": {
    "tags": []
   },
   "outputs": [
    {
     "name": "stdout",
     "output_type": "stream",
     "text": [
      "{'0': 0.4, '1': 0.6}\n",
      "{'00': 0.5, '01': 0.6666666666666666, '10': 0.5, '11': 0.3333333333333333}\n",
      "{'00': 0.6666666666666666, '01': 0.0, '10': 0.3333333333333333, '11': 1.0}\n"
     ]
    }
   ],
   "source": [
    "countsX, countsYcX0, countsYcX1, countsZcY0, countsZcY1 = 0, 0, 0, 0, 0\n",
    "# compute conditional counts\n",
    "for bit_string in pYcX.keys():\n",
    "    if bit_string[1] == '0':\n",
    "        countsX += pX[bit_string[0]]\n",
    "        countsYcX0 += pYcX[bit_string]\n",
    "        countsZcY0 += pZcY[bit_string] \n",
    "    else:\n",
    "        countsYcX1 += pYcX[bit_string]\n",
    "        countsZcY1 += pZcY[bit_string]\n",
    "for bit_string in pYcX.keys():\n",
    "    if bit_string[1] == '0':\n",
    "        pX[bit_string[0]] /= countsX\n",
    "        pYcX[bit_string] /= countsYcX0\n",
    "        pZcY[bit_string] /= countsZcY0\n",
    "    else:\n",
    "        pYcX[bit_string] /= countsYcX1\n",
    "        pZcY[bit_string] /= countsZcY1\n",
    "print(pX)\n",
    "print(pYcX)\n",
    "print(pZcY)"
   ]
  },
  {
   "cell_type": "markdown",
   "id": "db6ce64a-58d0-4631-b99d-26ef3a0bc5cf",
   "metadata": {},
   "source": [
    "Computing the joint probabilities"
   ]
  },
  {
   "cell_type": "code",
   "execution_count": 23,
   "id": "ce29eba1-90b6-44c2-917b-5835d48d4f82",
   "metadata": {
    "tags": []
   },
   "outputs": [
    {
     "name": "stdout",
     "output_type": "stream",
     "text": [
      "my dog barks 000 0.13333333333333333\n",
      "my dog sleeps 100 0.06666666666666667\n",
      "my cat barks 010 0.0\n",
      "my cat sleeps 110 0.2\n",
      "the dog barks 001 0.26666666666666666\n",
      "the dog sleeps 101 0.13333333333333333\n",
      "the cat barks 011 0.0\n",
      "the cat sleeps 111 0.19999999999999998\n"
     ]
    }
   ],
   "source": [
    "pXYZ = {}\n",
    "for w1 in ['my', 'the']:\n",
    "    for w2 in ['dog', 'cat']:\n",
    "        for w3 in ['barks', 'sleeps']:\n",
    "            text = w1 + ' ' + w2 + ' ' + w3\n",
    "            bit_string = convert_to_bit_string(text)\n",
    "            pXYZ[bit_string] = pZcY[bit_string[:2]] * pYcX[bit_string[1:]] * pX[bit_string[2]]\n",
    "            print(text, bit_string, pXYZ[bit_string])"
   ]
  },
  {
   "cell_type": "markdown",
   "id": "8c0d0f75-0e06-4959-ba78-ca4a5b28c87e",
   "metadata": {},
   "source": [
    "d.) Write down corresponding joint probabilitiy"
   ]
  },
  {
   "cell_type": "markdown",
   "id": "69ec79e3-8958-4a71-8942-2ef2558bc679",
   "metadata": {},
   "source": [
    "$$\n",
    "p(w_1,w_2,w_3)=p(w_3|w_1,w_2)p(w_2|w_1)p(w_1)\n",
    "$$"
   ]
  },
  {
   "cell_type": "markdown",
   "id": "70d7ec9b-02b0-4b44-a07b-67c921fe6f8d",
   "metadata": {},
   "source": [
    "e.) Find a quantum circuit that computes the language model"
   ]
  },
  {
   "cell_type": "markdown",
   "id": "d3478444-447c-427f-9eeb-7ea9b3c007a5",
   "metadata": {},
   "source": [
    "Moving to the quantum realm, we first need some standard imports"
   ]
  },
  {
   "cell_type": "code",
   "execution_count": 24,
   "id": "857e3df3-c9a4-4ff5-a698-0eaf60e96f79",
   "metadata": {
    "tags": []
   },
   "outputs": [],
   "source": [
    "import numpy as np\n",
    "from qiskit import Aer, transpile\n",
    "from qiskit import QuantumCircuit\n",
    "from qiskit import QuantumRegister\n",
    "from qiskit import ClassicalRegister\n",
    "from qiskit.circuit.library.standard_gates import *\n",
    "from qiskit.visualization import plot_histogram"
   ]
  },
  {
   "cell_type": "markdown",
   "id": "abed82fc-ad60-45d0-adfc-0df94a3f0096",
   "metadata": {},
   "source": [
    "Compute the rotation angles for the $R_Y$-gates"
   ]
  },
  {
   "cell_type": "code",
   "execution_count": 25,
   "id": "4c7fa2f9-df94-41d1-a540-6caced8896ad",
   "metadata": {
    "tags": []
   },
   "outputs": [],
   "source": [
    "thtX1 = 2 * np.arcsin(np.sqrt(pX['1']))\n",
    "thtY1X1 = 2 * np.arcsin(np.sqrt(pYcX['11']))\n",
    "thtY1X0 = 2 * np.arcsin(np.sqrt(pYcX['10']))\n",
    "# p(Z|X,Y)=p(Z|Y)\n",
    "thtZ1Y1X1 = 2 * np.arcsin(np.sqrt(pZcY['11']))\n",
    "thtZ1Y1X0 = 2 * np.arcsin(np.sqrt(pZcY['11']))\n",
    "thtZ1Y0X1 = 2 * np.arcsin(np.sqrt(pZcY['10']))\n",
    "thtZ1Y0X0 = 2 * np.arcsin(np.sqrt(pZcY['10']))"
   ]
  },
  {
   "cell_type": "markdown",
   "id": "c38682bb-78bf-4ea3-a473-e61978ef871d",
   "metadata": {},
   "source": [
    "Define 3 quantum registers and 3 classical registers"
   ]
  },
  {
   "cell_type": "code",
   "execution_count": 26,
   "id": "10d94dd2-f0bd-425a-a3b3-3451c967d1ef",
   "metadata": {
    "tags": []
   },
   "outputs": [],
   "source": [
    "# define 3 qubits / qubit registers\n",
    "qregX = QuantumRegister(1, name='x')\n",
    "qregY = QuantumRegister(1, name='y')\n",
    "qregZ = QuantumRegister(1, name='z')\n",
    "# define 3 bits / classical registers\n",
    "cregX = ClassicalRegister(1, name='$c_x$')\n",
    "cregY = ClassicalRegister(1, name='$c_y$')\n",
    "cregZ = ClassicalRegister(1, name='$c_z$')"
   ]
  },
  {
   "cell_type": "markdown",
   "id": "9dd6cbb5-c409-4f2a-8353-4abca2dea39d",
   "metadata": {},
   "source": [
    "Set up quantum circuit for quantum Baysian network"
   ]
  },
  {
   "cell_type": "code",
   "execution_count": 27,
   "id": "61e4c947-10a8-4924-8a95-5c2c060342bc",
   "metadata": {
    "tags": []
   },
   "outputs": [
    {
     "data": {
      "text/plain": [
       "<qiskit.circuit.instructionset.InstructionSet at 0x1f2544c75b0>"
      ]
     },
     "execution_count": 27,
     "metadata": {},
     "output_type": "execute_result"
    }
   ],
   "source": [
    "qcirc = QuantumCircuit(qregX, qregY, qregZ, cregX, cregY, cregZ, name='Bayes net')\n",
    "\n",
    "# step 1\n",
    "qcirc.ry(thtX1, qregX) # an R_Y gate\n",
    "qcirc.cry(thtY1X1, control_qubit=qregX, target_qubit=qregY) # a controlled R_Y gate\n",
    "qcirc.mcry(thtZ1Y1X1,[qregX[0], qregY[0]], qregZ[0]) # a multiple controlled R_Y gate\n",
    "# step 2\n",
    "qcirc.x(qregX)\n",
    "qcirc.cry(thtY1X0, control_qubit=qregX, target_qubit=qregY)\n",
    "qcirc.mcry(thtZ1Y1X0,[qregX[0], qregY[0]], qregZ[0])\n",
    "qcirc.x(qregX)\n",
    "# step 3\n",
    "qcirc.x(qregY)\n",
    "qcirc.mcry(thtZ1Y0X1,[qregX[0], qregY[0]], qregZ[0])\n",
    "qcirc.x(qregY)\n",
    "# step 4\n",
    "qcirc.x(qregX)\n",
    "qcirc.x(qregY)\n",
    "qcirc.mcry(thtZ1Y0X0,[qregX[0], qregY[0]], qregZ[0])\n",
    "qcirc.x(qregY)\n",
    "qcirc.x(qregX)\n",
    "\n",
    "qcirc.measure([qregX[0], qregY[0], qregZ[0]], [cregX[0], cregY[0], cregZ[0]])"
   ]
  },
  {
   "cell_type": "markdown",
   "id": "193d7e50-a2eb-48e2-8233-4230577b17d9",
   "metadata": {},
   "source": [
    "Draw the circuit"
   ]
  },
  {
   "cell_type": "code",
   "execution_count": 28,
   "id": "0736db84-f568-4a07-85d8-899f0640cbce",
   "metadata": {
    "tags": []
   },
   "outputs": [
    {
     "data": {
      "image/png": "[encoded data removed]",
      "text/plain": [
       "<Figure size 2639.42x535.111 with 1 Axes>"
      ]
     },
     "execution_count": 28,
     "metadata": {},
     "output_type": "execute_result"
    }
   ],
   "source": [
    "qcirc.draw('mpl', style='bw', plot_barriers=False, justify='none', fold=-1)"
   ]
  },
  {
   "cell_type": "markdown",
   "id": "cc2f6f3f-3381-4ef4-8d2a-00fd748c135f",
   "metadata": {},
   "source": [
    "Define convenience function for running circuits with the `aer_simulator`"
   ]
  },
  {
   "cell_type": "code",
   "execution_count": 29,
   "id": "fc934daf-e199-4180-9a7e-286fdbaa6c97",
   "metadata": {
    "tags": []
   },
   "outputs": [],
   "source": [
    "simulator = Aer.get_backend('aer_simulator')\n",
    "def runCircuit(circ, shots=10000):\n",
    "    transp = transpile(circ, simulator)\n",
    "    IBMjob = simulator.run(transp, shots=shots)\n",
    "    result = IBMjob.result()\n",
    "    counts = result.get_counts(transp)\n",
    "    counts_new = {}\n",
    "    for bitstring, value in counts.items():\n",
    "        new_bitstring = bitstring.replace(\" \", \"\").replace(\"_\", \"\")\n",
    "        counts_new[new_bitstring] = value\n",
    "    return counts_new"
   ]
  },
  {
   "cell_type": "markdown",
   "id": "1a4578b1-c0a5-4303-afa3-423d3b4c74fa",
   "metadata": {},
   "source": [
    "Compute counts of quantum Bayesian network"
   ]
  },
  {
   "cell_type": "code",
   "execution_count": 30,
   "id": "b41de895-e9d7-483b-b69d-77697084464b",
   "metadata": {
    "tags": []
   },
   "outputs": [
    {
     "name": "stdout",
     "output_type": "stream",
     "text": [
      "{'000': 1338, '111': 1940, '101': 1281, '110': 2039, '001': 2759, '100': 643}\n"
     ]
    }
   ],
   "source": [
    "qpXYZ = runCircuit(qcirc)\n",
    "print(qpXYZ)"
   ]
  },
  {
   "cell_type": "markdown",
   "id": "8ba8fe52-e0a2-4d8e-9f34-f30ff0dd6461",
   "metadata": {},
   "source": [
    "Compare to classical computation"
   ]
  },
  {
   "cell_type": "code",
   "execution_count": 31,
   "id": "0f56c1df-138c-4fc7-b982-1ef44b3f1a16",
   "metadata": {
    "tags": []
   },
   "outputs": [
    {
     "data": {
      "image/png": "[encoded data removed]",
      "text/plain": [
       "<Figure size 700x500 with 1 Axes>"
      ]
     },
     "execution_count": 31,
     "metadata": {},
     "output_type": "execute_result"
    }
   ],
   "source": [
    "plot_histogram([pXYZ, qpXYZ], legend=['classical', 'quantum'], bar_labels=False)"
   ]
  },
  {
   "cell_type": "code",
   "execution_count": null,
   "outputs": [],
   "source": [],
   "metadata": {
    "collapsed": false
   }
  }
 ],
 "metadata": {
  "kernelspec": {
   "display_name": "Python 3 (ipykernel)",
   "language": "python",
   "name": "python3"
  },
  "language_info": {
   "codemirror_mode": {
    "name": "ipython",
    "version": 3
   },
   "file_extension": ".py",
   "mimetype": "text/x-python",
   "name": "python",
   "nbconvert_exporter": "python",
   "pygments_lexer": "ipython3",
   "version": "3.11.3"
  }
 },
 "nbformat": 4,
 "nbformat_minor": 5
}
