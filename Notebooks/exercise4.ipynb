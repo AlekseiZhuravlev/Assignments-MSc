{
 "cells": [
  {
   "cell_type": "markdown",
   "id": "4d4d8ff6-eab4-44b8-a425-b2a97459c80e",
   "metadata": {},
   "source": [
    "# Exercise sheet 3"
   ]
  },
  {
   "cell_type": "markdown",
   "id": "144a535a-051c-45a5-9f50-54c773c93c23",
   "metadata": {},
   "source": [
    "## Task 4.1"
   ]
  },
  {
   "cell_type": "markdown",
   "id": "2915380a-2b65-43db-b791-7027e22ca5ea",
   "metadata": {},
   "source": [
    "Prove the following identity\n",
    "$$\n",
    "\\begin{align}\n",
    "\\frac{1}{\\sqrt{2}}\\left[\\left|\\psi^*\\psi\\right>+\\left|\\psi_{\\bot}^*\\psi_{\\bot}\\right>\\right]=\\frac{1}{\\sqrt{2}}\\left[\\left|00\\right>+\\left|11\\right>\\right]\n",
    "\\end{align}\n",
    "$$"
   ]
  },
  {
   "cell_type": "markdown",
   "id": "5e8c9507-86e0-4cdb-a4dc-ac5672bdebd8",
   "metadata": {},
   "source": [
    "Proof: Using $\\alpha_0\\alpha_0^*+\\alpha_1\\alpha_1^*=\\left|\\alpha_0\\right|^2+\\left|\\alpha_1\\right|^2=1$\n",
    "$$\n",
    "\\begin{align}\n",
    "\\left|\\psi^*\\psi\\right>=\\left(\\alpha_0\\left|0\\right>+\\alpha_1\\left|1\\right>\\right)\\otimes\\left(\\alpha_0^*\\left|0\\right>+\\alpha_1^*\\left|1\\right>\\right)&=\\alpha_0\\alpha_0^*\\left|00\\right>+\\alpha_0\\alpha_1^*\\left|01\\right>+\\alpha_0^*\\alpha_1\\left|10\\right>+\\alpha_1\\alpha_1^*\\left|11\\right> \\\\\n",
    "\\left|\\psi_{\\bot}^*\\psi_{\\bot}\\right>=\\left(\\alpha_1^*\\left|0\\right>-\\alpha_0^*\\left|1\\right>\\right)\\otimes\\left(\\alpha_1\\left|0\\right>-\\alpha_0\\left|1\\right>\\right)&=\\alpha_1\\alpha_1^*\\left|00\\right>-\\alpha_0\\alpha_1^*\\left|01\\right>-\\alpha_0^*\\alpha_1\\left|10\\right>+\\alpha_0\\alpha_0^*\\left|11\\right> \\\\\n",
    "\\Rightarrow \\left|\\psi^*\\psi\\right>+\\left|\\psi_{\\bot}^*\\psi_{\\bot}\\right>&=\\left(\\alpha_0\\alpha_0^*+\\alpha_1\\alpha_1^*\\right)\\left|00\\right>+\\left(\\alpha_1\\alpha_1^*+\\alpha_0\\alpha_0^*\\right)\\left|11\\right> \\\\\n",
    "&=\\left|00\\right>+\\left|11\\right>\n",
    "\\end{align}\n",
    "$$"
   ]
  },
  {
   "cell_type": "markdown",
   "id": "9c50eeb0-920d-43a8-813f-33c1a2cdb8e6",
   "metadata": {},
   "source": [
    "## Task 4.2"
   ]
  },
  {
   "cell_type": "markdown",
   "id": "55085025-db37-4ed6-bf97-43ba30fa6612",
   "metadata": {},
   "source": [
    "An $O(n)$ algorithm for finding the string $s$ is given looking at the $n$ binary vectors $e_1,\\dots,e_n$ where $e_i$ has a $1$ at the $i$-th position and $0$s elsewhere."
   ]
  },
  {
   "cell_type": "markdown",
   "id": "966e9257-4245-486a-934a-a87cfad9d936",
   "metadata": {},
   "source": [
    "We can then consider the inner products $e_i \\cdot s=s_i=f(e_i)$. Hence, $s$ is given by $s=\\left(f(e_1),\\dots,f(e_n)\\right)$."
   ]
  },
  {
   "cell_type": "markdown",
   "id": "be011d45-74a1-4b0b-a092-72a3ec02e5f7",
   "metadata": {},
   "source": [
    "We can thus deduce from the given table that $s=\\left(0,0,1,1\\right)$."
   ]
  },
  {
   "cell_type": "markdown",
   "id": "846e9051-3051-41e6-9ce3-0aa99cd0968c",
   "metadata": {},
   "source": [
    "Simple numpy implementation"
   ]
  },
  {
   "cell_type": "code",
   "execution_count": 36,
   "id": "c601c83d-b14a-4db9-8b9c-6ca23274fb15",
   "metadata": {
    "tags": []
   },
   "outputs": [],
   "source": [
    "import numpy as np\n",
    "\n",
    "def deduce_s(f, n=4):\n",
    "    s = np.zeros(n)\n",
    "    for i in range(n):\n",
    "        e_i = np.zeros(n)\n",
    "        e_i[i] = 1\n",
    "        s[i] = f(e_i)\n",
    "    return s"
   ]
  },
  {
   "cell_type": "code",
   "execution_count": 38,
   "id": "b6747aa4-8077-4f03-8bb5-8516d487b1a5",
   "metadata": {
    "tags": []
   },
   "outputs": [
    {
     "data": {
      "text/plain": [
       "array([0., 0., 1., 1.])"
      ]
     },
     "execution_count": 38,
     "metadata": {},
     "output_type": "execute_result"
    }
   ],
   "source": [
    "def f_s(x):\n",
    "    s = np.array([0, 0, 1, 1])\n",
    "    return s @ x\n",
    "deduce_s(f_s, n)"
   ]
  },
  {
   "cell_type": "markdown",
   "id": "fd8e0f92-a1a0-402f-b48d-c36a686771db",
   "metadata": {},
   "source": [
    "## Task 4.3"
   ]
  },
  {
   "cell_type": "markdown",
   "id": "2eac30b6-ce9e-499e-ab77-e4c0b8864471",
   "metadata": {},
   "source": [
    "Standard imports"
   ]
  },
  {
   "cell_type": "code",
   "execution_count": 22,
   "id": "952ff1cf-440f-4c2c-85df-a80b21d3f95c",
   "metadata": {
    "tags": []
   },
   "outputs": [],
   "source": [
    "from qiskit import Aer, transpile\n",
    "from qiskit import QuantumCircuit\n",
    "from qiskit import QuantumRegister\n",
    "from qiskit import ClassicalRegister\n",
    "from qiskit.visualization import plot_histogram"
   ]
  },
  {
   "cell_type": "markdown",
   "id": "24d0da9f-7248-4ed8-bfc1-d7699234237c",
   "metadata": {},
   "source": [
    "Defining quantum circuit"
   ]
  },
  {
   "cell_type": "code",
   "execution_count": 81,
   "id": "42d1353e-ead6-4129-8284-ac74d3b699f2",
   "metadata": {
    "tags": []
   },
   "outputs": [
    {
     "data": {
      "text/plain": [
       "<qiskit.circuit.instructionset.InstructionSet at 0x1ca096b5690>"
      ]
     },
     "execution_count": 81,
     "metadata": {},
     "output_type": "execute_result"
    }
   ],
   "source": [
    "opUf = QuantumCircuit(6, name=r'$U_f$')\n",
    "opUf.cx(0, 4)\n",
    "opUf.cx(1, 4)\n",
    "opUf.cx(4, 5)\n",
    "opUf.cx(1, 4)\n",
    "opUf.cx(0, 4)"
   ]
  },
  {
   "cell_type": "markdown",
   "id": "8381978f-ef45-4d34-823e-90600d8a3fc2",
   "metadata": {},
   "source": [
    "Draw the operator"
   ]
  },
  {
   "cell_type": "code",
   "execution_count": 82,
   "id": "6b583c46-d803-40a8-88ee-0deb21487e9c",
   "metadata": {
    "tags": []
   },
   "outputs": [
    {
     "data": {
      "image/png": "[encoded data removed]",
      "text/plain": [
       "<Figure size 538.33x535.111 with 1 Axes>"
      ]
     },
     "execution_count": 82,
     "metadata": {},
     "output_type": "execute_result"
    }
   ],
   "source": [
    "opUf.draw('mpl', style='bw')"
   ]
  },
  {
   "cell_type": "markdown",
   "id": "8eff2b3d-a890-44a7-b1e8-fd594df96f1a",
   "metadata": {},
   "source": [
    "Helper function for running with simulator"
   ]
  },
  {
   "cell_type": "code",
   "execution_count": 83,
   "id": "5c919a4d-06d4-41fa-a107-44616dc30607",
   "metadata": {
    "tags": []
   },
   "outputs": [],
   "source": [
    "simulator = Aer.get_backend('aer_simulator')\n",
    "def runCircuit(circ, shots=10_000):\n",
    "    transp = transpile(circ, simulator)\n",
    "    IBMjob = simulator.run(transp, shots=shots)\n",
    "    result = IBMjob.result()\n",
    "    counts = result.get_counts(transp)\n",
    "    return counts"
   ]
  },
  {
   "cell_type": "markdown",
   "id": "e8b8a07e-b4a2-435b-996c-4640b6e4529a",
   "metadata": {},
   "source": [
    "Run for all binary inputs $x\\in\\{0,1\\}^4$"
   ]
  },
  {
   "cell_type": "code",
   "execution_count": 84,
   "id": "134a49d2-aa80-4752-ba8b-ed197f73152f",
   "metadata": {
    "tags": []
   },
   "outputs": [
    {
     "name": "stdout",
     "output_type": "stream",
     "text": [
      "0000 {'0': 10000}\n",
      "0001 {'1': 10000}\n",
      "0010 {'1': 10000}\n",
      "0011 {'0': 10000}\n",
      "0100 {'0': 10000}\n",
      "0101 {'1': 10000}\n",
      "0110 {'1': 10000}\n",
      "0111 {'0': 10000}\n",
      "1000 {'0': 10000}\n",
      "1001 {'1': 10000}\n",
      "1010 {'1': 10000}\n",
      "1011 {'0': 10000}\n",
      "1100 {'0': 10000}\n",
      "1101 {'1': 10000}\n",
      "1110 {'1': 10000}\n",
      "1111 {'0': 10000}\n"
     ]
    }
   ],
   "source": [
    "for x_4 in [0, 1]:\n",
    "    for x_3 in [0, 1]:\n",
    "        for x_2 in [0, 1]:\n",
    "            for x_1 in [0, 1]:\n",
    "                circ_Uf = QuantumCircuit(6, 1)\n",
    "                if x_1 == 1:\n",
    "                    circ_Uf.x(0)\n",
    "                if x_2 == 1:\n",
    "                    circ_Uf.x(1)\n",
    "                if x_3 == 1:\n",
    "                    circ_Uf.x(2)\n",
    "                if x_4 == 1:\n",
    "                    circ_Uf.x(3)\n",
    "                circ_Uf.append(opUf, qargs=[i for i in range(6)])\n",
    "                circ_Uf.measure(5, 0)\n",
    "                \n",
    "                counts = runCircuit(circ_Uf)\n",
    "                print(f'{x_4}{x_3}{x_2}{x_1}', counts)"
   ]
  },
  {
   "cell_type": "markdown",
   "id": "f68a3be8-b36f-444e-a7c5-46ad60c82c9f",
   "metadata": {},
   "source": [
    "Always coincides with table of $f$"
   ]
  },
  {
   "cell_type": "markdown",
   "id": "54674b7b-a5c3-47f3-98be-22cd1d69afb9",
   "metadata": {},
   "source": [
    "## Task 4.4"
   ]
  },
  {
   "cell_type": "markdown",
   "id": "8073bd86-702d-4386-9a7b-cde8199d5c11",
   "metadata": {},
   "source": [
    "Implementing Bernstein-Vazirani algorithm"
   ]
  },
  {
   "cell_type": "code",
   "execution_count": 85,
   "id": "62b550df-1bd2-4a78-a55e-9174293d4689",
   "metadata": {
    "tags": []
   },
   "outputs": [],
   "source": [
    "circ = QuantumCircuit(6, 4)\n",
    "output_qubits = [i for i in range(4)]"
   ]
  },
  {
   "cell_type": "markdown",
   "id": "e99eb206-5fb0-4476-8cb8-fd07b7b58356",
   "metadata": {},
   "source": [
    "Put auxiliary qubit in state $\\left|-\\right>$ and apply Hadamard wall to the rest"
   ]
  },
  {
   "cell_type": "code",
   "execution_count": 86,
   "id": "e759562f-9f92-4698-9c3f-237d8beb59b2",
   "metadata": {
    "tags": []
   },
   "outputs": [
    {
     "data": {
      "text/plain": [
       "<qiskit.circuit.instructionset.InstructionSet at 0x1ca538d0250>"
      ]
     },
     "execution_count": 86,
     "metadata": {},
     "output_type": "execute_result"
    }
   ],
   "source": [
    "circ.x(5)\n",
    "circ.h(5)\n",
    "\n",
    "circ.h(output_qubits)\n",
    "# Apply barrier "
   ]
  },
  {
   "cell_type": "markdown",
   "id": "e6a8af4c-24ee-43c5-941e-7fbfd0240080",
   "metadata": {},
   "source": [
    "Apply inner-product oracle"
   ]
  },
  {
   "cell_type": "code",
   "execution_count": 87,
   "id": "0b030272-5b77-44a0-bb3c-8dee192c90ad",
   "metadata": {
    "tags": []
   },
   "outputs": [
    {
     "data": {
      "text/plain": [
       "<qiskit.circuit.instructionset.InstructionSet at 0x1ca538d01f0>"
      ]
     },
     "execution_count": 87,
     "metadata": {},
     "output_type": "execute_result"
    }
   ],
   "source": [
    "circ.append(opUf, qargs=[i for i in range(6)])"
   ]
  },
  {
   "cell_type": "markdown",
   "id": "ea94b3a2-9e7e-4f56-9671-180afaa7ed7a",
   "metadata": {},
   "source": [
    "Another Hadamard wall and add measurement"
   ]
  },
  {
   "cell_type": "code",
   "execution_count": 88,
   "id": "34badae6-c8da-41d8-b4c8-22a528db3936",
   "metadata": {
    "tags": []
   },
   "outputs": [
    {
     "data": {
      "text/plain": [
       "<qiskit.circuit.instructionset.InstructionSet at 0x1ca538d0370>"
      ]
     },
     "execution_count": 88,
     "metadata": {},
     "output_type": "execute_result"
    }
   ],
   "source": [
    "circ.h(output_qubits)\n",
    "circ.measure(output_qubits, output_qubits)"
   ]
  },
  {
   "cell_type": "code",
   "execution_count": 89,
   "id": "3e06411c-8486-4e00-9276-f374a8d63124",
   "metadata": {
    "tags": []
   },
   "outputs": [
    {
     "data": {
      "image/png": "[encoded data removed]",
      "text/plain": [
       "<Figure size 789.163x618.722 with 1 Axes>"
      ]
     },
     "execution_count": 89,
     "metadata": {},
     "output_type": "execute_result"
    }
   ],
   "source": [
    "circ.draw('mpl', style='bw', plot_barriers=True, fold=-4)"
   ]
  },
  {
   "cell_type": "markdown",
   "id": "f19d6869-29ee-4a49-8fa7-9e35b30af334",
   "metadata": {},
   "source": [
    "Run circuit"
   ]
  },
  {
   "cell_type": "code",
   "execution_count": 92,
   "id": "7092ecc4-2472-4a6a-8049-608f3fac9080",
   "metadata": {
    "tags": []
   },
   "outputs": [
    {
     "data": {
      "image/png": "[encoded data removed]",
      "text/plain": [
       "<Figure size 700x500 with 1 Axes>"
      ]
     },
     "execution_count": 92,
     "metadata": {},
     "output_type": "execute_result"
    }
   ],
   "source": [
    "counts = runCircuit(circ)\n",
    "plot_histogram(counts)"
   ]
  },
  {
   "cell_type": "markdown",
   "id": "146a8b88-e6ee-43a6-918e-b598e5ade215",
   "metadata": {},
   "source": [
    "Always the same result, namely $0011$. This is exactly the vector $s$. \n",
    "\n",
    "The complexity is $O(1)$, thus it is faster than the classical algorithm, which is $O(n)$."
   ]
  },
  {
   "cell_type": "markdown",
   "id": "24cb7ac8-91d0-4994-a1c2-e82643bbcfd6",
   "metadata": {},
   "source": [
    "## Task 4.5"
   ]
  },
  {
   "cell_type": "markdown",
   "id": "ae2661ea-4ea4-47dd-a604-b41ea4c32acb",
   "metadata": {},
   "source": [
    "From the lecture we know\n",
    "$$\n",
    "\\begin{align}\n",
    "& H^{\\otimes n}\\left|x\\right>=\\frac{1}{\\sqrt{2^n}}\\sum_{y\\in\\{0,1\\}^n}(-1)^{x\\cdot y}\\left|y\\right>,\\quad \\left|x\\right>=\\left|x_1,\\dots,x_n\\right>\\in\\{0,1\\}^n \\\\\n",
    "\\Rightarrow &H^{\\otimes n}\\left|0\\right>=\\frac{1}{\\sqrt{2^n}}\\sum_{y\\in\\{0,1\\}^n}\\left|y\\right>\n",
    "\\end{align}\n",
    "$$\n",
    "We know that $f(x)=s\\cdot x$ for some $s$ and thus we can use phase kickback $\\left(U_f\\left|x\\right>\\left|-\\right>=(-1)^{f(x)}\\left|x\\right>\\left|-\\right>\\right)$ and the above to deduce the string $s$\n",
    "$$\n",
    "\\begin{align}\n",
    "\\left|s\\right>\\left|-\\right>&=\\left(H^{\\otimes n}\\otimes I\\right)\\left(\\frac{1}{\\sqrt{2^n}}\\sum_{y\\in\\{0,1\\}^n}(-1)^{s\\cdot y}\\left|y\\right>\\left|-\\right>\\right) \\\\\n",
    "&=\\left(H^{\\otimes n}\\otimes I\\right)\\left(\\frac{1}{\\sqrt{2^n}}\\sum_{y\\in\\{0,1\\}^n}(-1)^{f(y)}\\left|y\\right>\\left|-\\right>\\right) \\\\\n",
    "&=\\left(H^{\\otimes n}\\otimes I\\right)U_f\\left(\\frac{1}{\\sqrt{2^n}}\\sum_{y\\in\\{0,1\\}^n}\\left|y\\right>\\left|-\\right>\\right) \\\\\n",
    "&=\\left(H^{\\otimes n}\\otimes I\\right)U_f\\left(H^{\\otimes n}\\otimes I\\right)\\left|0\\right>\\left|-\\right>\n",
    "\\end{align}\n",
    "$$"
   ]
  },
  {
   "cell_type": "code",
   "execution_count": null,
   "id": "dacd6d26-e120-4a26-addb-81b27fd67185",
   "metadata": {},
   "outputs": [],
   "source": []
  }
 ],
 "metadata": {
  "kernelspec": {
   "display_name": "Python 3 (ipykernel)",
   "language": "python",
   "name": "python3"
  },
  "language_info": {
   "codemirror_mode": {
    "name": "ipython",
    "version": 3
   },
   "file_extension": ".py",
   "mimetype": "text/x-python",
   "name": "python",
   "nbconvert_exporter": "python",
   "pygments_lexer": "ipython3",
   "version": "3.10.12"
  }
 },
 "nbformat": 4,
 "nbformat_minor": 5
}
